{
 "cells": [
  {
   "cell_type": "code",
   "execution_count": 2,
   "metadata": {},
   "outputs": [],
   "source": [
    "import pandas as pd\n",
    "from sklearn.model_selection import train_test_split\n",
    "from sklearn.preprocessing import StandardScaler\n",
    "from sklearn.linear_model import LogisticRegression\n",
    "from sklearn.metrics import classification_report"
   ]
  },
  {
   "cell_type": "code",
   "execution_count": 3,
   "metadata": {},
   "outputs": [],
   "source": [
    "#load the data from the csv file\n",
    "data = pd.read_csv('../Market_Crash_Predictor/cleaned_data/final_standardized_data.csv')\n"
   ]
  },
  {
   "cell_type": "code",
   "execution_count": 4,
   "metadata": {},
   "outputs": [
    {
     "data": {
      "text/html": [
       "<div>\n",
       "<style scoped>\n",
       "    .dataframe tbody tr th:only-of-type {\n",
       "        vertical-align: middle;\n",
       "    }\n",
       "\n",
       "    .dataframe tbody tr th {\n",
       "        vertical-align: top;\n",
       "    }\n",
       "\n",
       "    .dataframe thead th {\n",
       "        text-align: right;\n",
       "    }\n",
       "</style>\n",
       "<table border=\"1\" class=\"dataframe\">\n",
       "  <thead>\n",
       "    <tr style=\"text-align: right;\">\n",
       "      <th></th>\n",
       "      <th>Date</th>\n",
       "      <th>Federal Funds Rate</th>\n",
       "      <th>Unemployment Rate</th>\n",
       "      <th>GDP</th>\n",
       "      <th>Inflation Rate</th>\n",
       "      <th>SP500</th>\n",
       "    </tr>\n",
       "  </thead>\n",
       "  <tbody>\n",
       "    <tr>\n",
       "      <th>0</th>\n",
       "      <td>1975-01-01</td>\n",
       "      <td>3.87</td>\n",
       "      <td>8.1</td>\n",
       "      <td>1616.116</td>\n",
       "      <td>9.143147</td>\n",
       "      <td>72.564091</td>\n",
       "    </tr>\n",
       "    <tr>\n",
       "      <th>1</th>\n",
       "      <td>1975-02-01</td>\n",
       "      <td>6.76</td>\n",
       "      <td>8.1</td>\n",
       "      <td>1616.116</td>\n",
       "      <td>9.143147</td>\n",
       "      <td>80.096842</td>\n",
       "    </tr>\n",
       "    <tr>\n",
       "      <th>2</th>\n",
       "      <td>1975-03-01</td>\n",
       "      <td>6.07</td>\n",
       "      <td>8.6</td>\n",
       "      <td>1616.116</td>\n",
       "      <td>9.143147</td>\n",
       "      <td>83.831999</td>\n",
       "    </tr>\n",
       "    <tr>\n",
       "      <th>3</th>\n",
       "      <td>1975-04-01</td>\n",
       "      <td>5.48</td>\n",
       "      <td>8.8</td>\n",
       "      <td>1651.853</td>\n",
       "      <td>9.143147</td>\n",
       "      <td>84.723182</td>\n",
       "    </tr>\n",
       "    <tr>\n",
       "      <th>4</th>\n",
       "      <td>1975-05-01</td>\n",
       "      <td>5.55</td>\n",
       "      <td>9.0</td>\n",
       "      <td>1651.853</td>\n",
       "      <td>9.143147</td>\n",
       "      <td>90.096190</td>\n",
       "    </tr>\n",
       "  </tbody>\n",
       "</table>\n",
       "</div>"
      ],
      "text/plain": [
       "         Date  Federal Funds Rate  Unemployment Rate       GDP  \\\n",
       "0  1975-01-01                3.87                8.1  1616.116   \n",
       "1  1975-02-01                6.76                8.1  1616.116   \n",
       "2  1975-03-01                6.07                8.6  1616.116   \n",
       "3  1975-04-01                5.48                8.8  1651.853   \n",
       "4  1975-05-01                5.55                9.0  1651.853   \n",
       "\n",
       "   Inflation Rate      SP500  \n",
       "0        9.143147  72.564091  \n",
       "1        9.143147  80.096842  \n",
       "2        9.143147  83.831999  \n",
       "3        9.143147  84.723182  \n",
       "4        9.143147  90.096190  "
      ]
     },
     "execution_count": 4,
     "metadata": {},
     "output_type": "execute_result"
    }
   ],
   "source": [
    "#Show the first 5 rows of the data\n",
    "data.head()"
   ]
  },
  {
   "cell_type": "code",
   "execution_count": 5,
   "metadata": {},
   "outputs": [],
   "source": [
    "#Make sure Date is in datetime format\n",
    "data['Date'] = pd.to_datetime(data['Date'])\n",
    "\n",
    "#Set the Date as the index\n",
    "data.set_index('Date', inplace=True)"
   ]
  },
  {
   "cell_type": "code",
   "execution_count": 6,
   "metadata": {},
   "outputs": [
    {
     "name": "stderr",
     "output_type": "stream",
     "text": [
      "/var/folders/4w/dqq6x1t91hvgn2hnhb1zlk9r0000gn/T/ipykernel_38856/3432497560.py:3: FutureWarning: The default fill_method='pad' in Series.pct_change is deprecated and will be removed in a future version. Either fill in any non-leading NA values prior to calling pct_change or specify 'fill_method=None' to not fill NA values.\n",
      "  data['gdp_pct_change'] = data['GDP'].pct_change()\n",
      "/var/folders/4w/dqq6x1t91hvgn2hnhb1zlk9r0000gn/T/ipykernel_38856/3432497560.py:4: FutureWarning: The default fill_method='pad' in Series.pct_change is deprecated and will be removed in a future version. Either fill in any non-leading NA values prior to calling pct_change or specify 'fill_method=None' to not fill NA values.\n",
      "  data['inflation_pct_change'] = data['Inflation Rate'].pct_change()\n",
      "/var/folders/4w/dqq6x1t91hvgn2hnhb1zlk9r0000gn/T/ipykernel_38856/3432497560.py:5: FutureWarning: The default fill_method='pad' in Series.pct_change is deprecated and will be removed in a future version. Either fill in any non-leading NA values prior to calling pct_change or specify 'fill_method=None' to not fill NA values.\n",
      "  data['unemployment_pct_change'] = data['Unemployment Rate'].pct_change()\n",
      "/var/folders/4w/dqq6x1t91hvgn2hnhb1zlk9r0000gn/T/ipykernel_38856/3432497560.py:6: FutureWarning: The default fill_method='pad' in Series.pct_change is deprecated and will be removed in a future version. Either fill in any non-leading NA values prior to calling pct_change or specify 'fill_method=None' to not fill NA values.\n",
      "  data['fed_funds_rate_pct_change'] = data['Federal Funds Rate'].pct_change()\n"
     ]
    }
   ],
   "source": [
    "#Create a month-to-month percentage change in the features\n",
    "data['sp500_pct_change'] = data['SP500'].pct_change()\n",
    "data['gdp_pct_change'] = data['GDP'].pct_change()\n",
    "data['inflation_pct_change'] = data['Inflation Rate'].pct_change()\n",
    "data['unemployment_pct_change'] = data['Unemployment Rate'].pct_change()\n",
    "data['fed_funds_rate_pct_change'] = data['Federal Funds Rate'].pct_change()"
   ]
  },
  {
   "cell_type": "code",
   "execution_count": 7,
   "metadata": {},
   "outputs": [],
   "source": [
    "#Do a moving average and volatility calulation for the SP500\n",
    "data['sp500_quarter'] = data['SP500'].rolling(window=3).mean()\n",
    "data['sp500_yearly'] = data['SP500'].rolling(window=12).mean()\n",
    "data['sp500_volatility_quarter'] = data['sp500_pct_change'].rolling(window=3).std()\n",
    "data['sp500_volatility_yearly'] = data['sp500_pct_change'].rolling(window=12).std()\n"
   ]
  },
  {
   "cell_type": "code",
   "execution_count": 8,
   "metadata": {},
   "outputs": [],
   "source": [
    "#Set crash threshold to 10% drop in the SP500\n",
    "crash_threshold = -0.10\n",
    "data['crash'] = (data['sp500_pct_change'] < crash_threshold).astype(int)\n"
   ]
  },
  {
   "cell_type": "code",
   "execution_count": 9,
   "metadata": {},
   "outputs": [
    {
     "data": {
      "text/html": [
       "<div>\n",
       "<style scoped>\n",
       "    .dataframe tbody tr th:only-of-type {\n",
       "        vertical-align: middle;\n",
       "    }\n",
       "\n",
       "    .dataframe tbody tr th {\n",
       "        vertical-align: top;\n",
       "    }\n",
       "\n",
       "    .dataframe thead th {\n",
       "        text-align: right;\n",
       "    }\n",
       "</style>\n",
       "<table border=\"1\" class=\"dataframe\">\n",
       "  <thead>\n",
       "    <tr style=\"text-align: right;\">\n",
       "      <th></th>\n",
       "      <th>Federal Funds Rate</th>\n",
       "      <th>Unemployment Rate</th>\n",
       "      <th>GDP</th>\n",
       "      <th>Inflation Rate</th>\n",
       "      <th>SP500</th>\n",
       "      <th>sp500_pct_change</th>\n",
       "      <th>gdp_pct_change</th>\n",
       "      <th>inflation_pct_change</th>\n",
       "      <th>unemployment_pct_change</th>\n",
       "      <th>fed_funds_rate_pct_change</th>\n",
       "      <th>sp500_quarter</th>\n",
       "      <th>sp500_yearly</th>\n",
       "      <th>sp500_volatility_quarter</th>\n",
       "      <th>sp500_volatility_yearly</th>\n",
       "      <th>crash</th>\n",
       "    </tr>\n",
       "    <tr>\n",
       "      <th>Date</th>\n",
       "      <th></th>\n",
       "      <th></th>\n",
       "      <th></th>\n",
       "      <th></th>\n",
       "      <th></th>\n",
       "      <th></th>\n",
       "      <th></th>\n",
       "      <th></th>\n",
       "      <th></th>\n",
       "      <th></th>\n",
       "      <th></th>\n",
       "      <th></th>\n",
       "      <th></th>\n",
       "      <th></th>\n",
       "      <th></th>\n",
       "    </tr>\n",
       "  </thead>\n",
       "  <tbody>\n",
       "    <tr>\n",
       "      <th>1975-01-01</th>\n",
       "      <td>3.87</td>\n",
       "      <td>8.1</td>\n",
       "      <td>1616.116</td>\n",
       "      <td>9.143147</td>\n",
       "      <td>72.564091</td>\n",
       "      <td>NaN</td>\n",
       "      <td>NaN</td>\n",
       "      <td>NaN</td>\n",
       "      <td>NaN</td>\n",
       "      <td>NaN</td>\n",
       "      <td>NaN</td>\n",
       "      <td>NaN</td>\n",
       "      <td>NaN</td>\n",
       "      <td>NaN</td>\n",
       "      <td>0</td>\n",
       "    </tr>\n",
       "    <tr>\n",
       "      <th>1975-02-01</th>\n",
       "      <td>6.76</td>\n",
       "      <td>8.1</td>\n",
       "      <td>1616.116</td>\n",
       "      <td>9.143147</td>\n",
       "      <td>80.096842</td>\n",
       "      <td>0.103808</td>\n",
       "      <td>0.000000</td>\n",
       "      <td>0.0</td>\n",
       "      <td>0.000000</td>\n",
       "      <td>0.746770</td>\n",
       "      <td>NaN</td>\n",
       "      <td>NaN</td>\n",
       "      <td>NaN</td>\n",
       "      <td>NaN</td>\n",
       "      <td>0</td>\n",
       "    </tr>\n",
       "    <tr>\n",
       "      <th>1975-03-01</th>\n",
       "      <td>6.07</td>\n",
       "      <td>8.6</td>\n",
       "      <td>1616.116</td>\n",
       "      <td>9.143147</td>\n",
       "      <td>83.831999</td>\n",
       "      <td>0.046633</td>\n",
       "      <td>0.000000</td>\n",
       "      <td>0.0</td>\n",
       "      <td>0.061728</td>\n",
       "      <td>-0.102071</td>\n",
       "      <td>78.830977</td>\n",
       "      <td>NaN</td>\n",
       "      <td>NaN</td>\n",
       "      <td>NaN</td>\n",
       "      <td>0</td>\n",
       "    </tr>\n",
       "    <tr>\n",
       "      <th>1975-04-01</th>\n",
       "      <td>5.48</td>\n",
       "      <td>8.8</td>\n",
       "      <td>1651.853</td>\n",
       "      <td>9.143147</td>\n",
       "      <td>84.723182</td>\n",
       "      <td>0.010631</td>\n",
       "      <td>0.022113</td>\n",
       "      <td>0.0</td>\n",
       "      <td>0.023256</td>\n",
       "      <td>-0.097199</td>\n",
       "      <td>82.884008</td>\n",
       "      <td>NaN</td>\n",
       "      <td>0.046988</td>\n",
       "      <td>NaN</td>\n",
       "      <td>0</td>\n",
       "    </tr>\n",
       "    <tr>\n",
       "      <th>1975-05-01</th>\n",
       "      <td>5.55</td>\n",
       "      <td>9.0</td>\n",
       "      <td>1651.853</td>\n",
       "      <td>9.143147</td>\n",
       "      <td>90.096190</td>\n",
       "      <td>0.063418</td>\n",
       "      <td>0.000000</td>\n",
       "      <td>0.0</td>\n",
       "      <td>0.022727</td>\n",
       "      <td>0.012774</td>\n",
       "      <td>86.217124</td>\n",
       "      <td>NaN</td>\n",
       "      <td>0.026971</td>\n",
       "      <td>NaN</td>\n",
       "      <td>0</td>\n",
       "    </tr>\n",
       "  </tbody>\n",
       "</table>\n",
       "</div>"
      ],
      "text/plain": [
       "            Federal Funds Rate  Unemployment Rate       GDP  Inflation Rate  \\\n",
       "Date                                                                          \n",
       "1975-01-01                3.87                8.1  1616.116        9.143147   \n",
       "1975-02-01                6.76                8.1  1616.116        9.143147   \n",
       "1975-03-01                6.07                8.6  1616.116        9.143147   \n",
       "1975-04-01                5.48                8.8  1651.853        9.143147   \n",
       "1975-05-01                5.55                9.0  1651.853        9.143147   \n",
       "\n",
       "                SP500  sp500_pct_change  gdp_pct_change  inflation_pct_change  \\\n",
       "Date                                                                            \n",
       "1975-01-01  72.564091               NaN             NaN                   NaN   \n",
       "1975-02-01  80.096842          0.103808        0.000000                   0.0   \n",
       "1975-03-01  83.831999          0.046633        0.000000                   0.0   \n",
       "1975-04-01  84.723182          0.010631        0.022113                   0.0   \n",
       "1975-05-01  90.096190          0.063418        0.000000                   0.0   \n",
       "\n",
       "            unemployment_pct_change  fed_funds_rate_pct_change  sp500_quarter  \\\n",
       "Date                                                                            \n",
       "1975-01-01                      NaN                        NaN            NaN   \n",
       "1975-02-01                 0.000000                   0.746770            NaN   \n",
       "1975-03-01                 0.061728                  -0.102071      78.830977   \n",
       "1975-04-01                 0.023256                  -0.097199      82.884008   \n",
       "1975-05-01                 0.022727                   0.012774      86.217124   \n",
       "\n",
       "            sp500_yearly  sp500_volatility_quarter  sp500_volatility_yearly  \\\n",
       "Date                                                                          \n",
       "1975-01-01           NaN                       NaN                      NaN   \n",
       "1975-02-01           NaN                       NaN                      NaN   \n",
       "1975-03-01           NaN                       NaN                      NaN   \n",
       "1975-04-01           NaN                  0.046988                      NaN   \n",
       "1975-05-01           NaN                  0.026971                      NaN   \n",
       "\n",
       "            crash  \n",
       "Date               \n",
       "1975-01-01      0  \n",
       "1975-02-01      0  \n",
       "1975-03-01      0  \n",
       "1975-04-01      0  \n",
       "1975-05-01      0  "
      ]
     },
     "execution_count": 9,
     "metadata": {},
     "output_type": "execute_result"
    }
   ],
   "source": [
    "#Show the first 5 rows of the data\n",
    "data.head()"
   ]
  },
  {
   "cell_type": "code",
   "execution_count": 10,
   "metadata": {},
   "outputs": [],
   "source": [
    "#Drop the first 12 rows of the data since they have NaN values\n",
    "data = data[12:]"
   ]
  },
  {
   "cell_type": "code",
   "execution_count": 11,
   "metadata": {},
   "outputs": [
    {
     "data": {
      "text/html": [
       "<div>\n",
       "<style scoped>\n",
       "    .dataframe tbody tr th:only-of-type {\n",
       "        vertical-align: middle;\n",
       "    }\n",
       "\n",
       "    .dataframe tbody tr th {\n",
       "        vertical-align: top;\n",
       "    }\n",
       "\n",
       "    .dataframe thead th {\n",
       "        text-align: right;\n",
       "    }\n",
       "</style>\n",
       "<table border=\"1\" class=\"dataframe\">\n",
       "  <thead>\n",
       "    <tr style=\"text-align: right;\">\n",
       "      <th></th>\n",
       "      <th>Federal Funds Rate</th>\n",
       "      <th>Unemployment Rate</th>\n",
       "      <th>GDP</th>\n",
       "      <th>Inflation Rate</th>\n",
       "      <th>SP500</th>\n",
       "      <th>sp500_pct_change</th>\n",
       "      <th>gdp_pct_change</th>\n",
       "      <th>inflation_pct_change</th>\n",
       "      <th>unemployment_pct_change</th>\n",
       "      <th>fed_funds_rate_pct_change</th>\n",
       "      <th>sp500_quarter</th>\n",
       "      <th>sp500_yearly</th>\n",
       "      <th>sp500_volatility_quarter</th>\n",
       "      <th>sp500_volatility_yearly</th>\n",
       "      <th>crash</th>\n",
       "    </tr>\n",
       "    <tr>\n",
       "      <th>Date</th>\n",
       "      <th></th>\n",
       "      <th></th>\n",
       "      <th></th>\n",
       "      <th></th>\n",
       "      <th></th>\n",
       "      <th></th>\n",
       "      <th></th>\n",
       "      <th></th>\n",
       "      <th></th>\n",
       "      <th></th>\n",
       "      <th></th>\n",
       "      <th></th>\n",
       "      <th></th>\n",
       "      <th></th>\n",
       "      <th></th>\n",
       "    </tr>\n",
       "  </thead>\n",
       "  <tbody>\n",
       "    <tr>\n",
       "      <th>1976-01-01</th>\n",
       "      <td>5.37</td>\n",
       "      <td>7.9</td>\n",
       "      <td>1820.487</td>\n",
       "      <td>5.744813</td>\n",
       "      <td>96.859524</td>\n",
       "      <td>0.091985</td>\n",
       "      <td>0.033293</td>\n",
       "      <td>-0.371681</td>\n",
       "      <td>-0.036585</td>\n",
       "      <td>0.011299</td>\n",
       "      <td>91.875081</td>\n",
       "      <td>88.184867</td>\n",
       "      <td>0.054999</td>\n",
       "      <td>0.049154</td>\n",
       "      <td>0</td>\n",
       "    </tr>\n",
       "    <tr>\n",
       "      <th>1976-02-01</th>\n",
       "      <td>4.84</td>\n",
       "      <td>7.7</td>\n",
       "      <td>1820.487</td>\n",
       "      <td>5.744813</td>\n",
       "      <td>100.639474</td>\n",
       "      <td>0.039025</td>\n",
       "      <td>0.000000</td>\n",
       "      <td>0.000000</td>\n",
       "      <td>-0.025316</td>\n",
       "      <td>-0.098696</td>\n",
       "      <td>95.399817</td>\n",
       "      <td>89.896753</td>\n",
       "      <td>0.053570</td>\n",
       "      <td>0.042928</td>\n",
       "      <td>0</td>\n",
       "    </tr>\n",
       "    <tr>\n",
       "      <th>1976-03-01</th>\n",
       "      <td>5.21</td>\n",
       "      <td>7.6</td>\n",
       "      <td>1820.487</td>\n",
       "      <td>5.744813</td>\n",
       "      <td>101.084348</td>\n",
       "      <td>0.004420</td>\n",
       "      <td>0.000000</td>\n",
       "      <td>0.000000</td>\n",
       "      <td>-0.012987</td>\n",
       "      <td>0.076446</td>\n",
       "      <td>99.527782</td>\n",
       "      <td>91.334449</td>\n",
       "      <td>0.044101</td>\n",
       "      <td>0.042277</td>\n",
       "      <td>0</td>\n",
       "    </tr>\n",
       "    <tr>\n",
       "      <th>1976-04-01</th>\n",
       "      <td>4.83</td>\n",
       "      <td>7.7</td>\n",
       "      <td>1852.332</td>\n",
       "      <td>5.744813</td>\n",
       "      <td>101.929524</td>\n",
       "      <td>0.008361</td>\n",
       "      <td>0.017493</td>\n",
       "      <td>0.000000</td>\n",
       "      <td>0.013158</td>\n",
       "      <td>-0.072937</td>\n",
       "      <td>101.217782</td>\n",
       "      <td>92.768311</td>\n",
       "      <td>0.018944</td>\n",
       "      <td>0.042310</td>\n",
       "      <td>0</td>\n",
       "    </tr>\n",
       "    <tr>\n",
       "      <th>1976-05-01</th>\n",
       "      <td>5.10</td>\n",
       "      <td>7.4</td>\n",
       "      <td>1852.332</td>\n",
       "      <td>5.744813</td>\n",
       "      <td>101.161999</td>\n",
       "      <td>-0.007530</td>\n",
       "      <td>0.000000</td>\n",
       "      <td>0.000000</td>\n",
       "      <td>-0.038961</td>\n",
       "      <td>0.055901</td>\n",
       "      <td>101.391957</td>\n",
       "      <td>93.690462</td>\n",
       "      <td>0.008275</td>\n",
       "      <td>0.040030</td>\n",
       "      <td>0</td>\n",
       "    </tr>\n",
       "  </tbody>\n",
       "</table>\n",
       "</div>"
      ],
      "text/plain": [
       "            Federal Funds Rate  Unemployment Rate       GDP  Inflation Rate  \\\n",
       "Date                                                                          \n",
       "1976-01-01                5.37                7.9  1820.487        5.744813   \n",
       "1976-02-01                4.84                7.7  1820.487        5.744813   \n",
       "1976-03-01                5.21                7.6  1820.487        5.744813   \n",
       "1976-04-01                4.83                7.7  1852.332        5.744813   \n",
       "1976-05-01                5.10                7.4  1852.332        5.744813   \n",
       "\n",
       "                 SP500  sp500_pct_change  gdp_pct_change  \\\n",
       "Date                                                       \n",
       "1976-01-01   96.859524          0.091985        0.033293   \n",
       "1976-02-01  100.639474          0.039025        0.000000   \n",
       "1976-03-01  101.084348          0.004420        0.000000   \n",
       "1976-04-01  101.929524          0.008361        0.017493   \n",
       "1976-05-01  101.161999         -0.007530        0.000000   \n",
       "\n",
       "            inflation_pct_change  unemployment_pct_change  \\\n",
       "Date                                                        \n",
       "1976-01-01             -0.371681                -0.036585   \n",
       "1976-02-01              0.000000                -0.025316   \n",
       "1976-03-01              0.000000                -0.012987   \n",
       "1976-04-01              0.000000                 0.013158   \n",
       "1976-05-01              0.000000                -0.038961   \n",
       "\n",
       "            fed_funds_rate_pct_change  sp500_quarter  sp500_yearly  \\\n",
       "Date                                                                 \n",
       "1976-01-01                   0.011299      91.875081     88.184867   \n",
       "1976-02-01                  -0.098696      95.399817     89.896753   \n",
       "1976-03-01                   0.076446      99.527782     91.334449   \n",
       "1976-04-01                  -0.072937     101.217782     92.768311   \n",
       "1976-05-01                   0.055901     101.391957     93.690462   \n",
       "\n",
       "            sp500_volatility_quarter  sp500_volatility_yearly  crash  \n",
       "Date                                                                  \n",
       "1976-01-01                  0.054999                 0.049154      0  \n",
       "1976-02-01                  0.053570                 0.042928      0  \n",
       "1976-03-01                  0.044101                 0.042277      0  \n",
       "1976-04-01                  0.018944                 0.042310      0  \n",
       "1976-05-01                  0.008275                 0.040030      0  "
      ]
     },
     "execution_count": 11,
     "metadata": {},
     "output_type": "execute_result"
    }
   ],
   "source": [
    "#Show the first 5 rows of the data\n",
    "data.head()"
   ]
  },
  {
   "cell_type": "code",
   "execution_count": 12,
   "metadata": {},
   "outputs": [],
   "source": [
    "#Define the features and the target\n",
    "features = [\n",
    "    'sp500_pct_change', 'gdp_pct_change', 'inflation_pct_change', \n",
    "    'unemployment_pct_change', 'fed_funds_rate_pct_change',\n",
    "    'sp500_quarter', 'sp500_yearly', 'sp500_volatility_quarter', 'sp500_volatility_yearly'\n",
    "]\n",
    "\n",
    "X = data[features]\n",
    "y = data['crash']"
   ]
  },
  {
   "cell_type": "code",
   "execution_count": 13,
   "metadata": {},
   "outputs": [],
   "source": [
    "#Standardize the features\n",
    "scaler = StandardScaler()\n",
    "x_scaled = scaler.fit_transform(X)"
   ]
  },
  {
   "cell_type": "code",
   "execution_count": 14,
   "metadata": {},
   "outputs": [],
   "source": [
    "#SPlit the data into training and testing sets\n",
    "train_data = data[(data.index < '2008-01-01')]\n",
    "test_data = data[(data.index >= '2008-01-01')]\n",
    "\n",
    "X_train = scaler.fit_transform(train_data[features])\n",
    "y_train = train_data['crash']\n",
    "X_test = scaler.transform(test_data[features])\n",
    "y_test = test_data['crash']"
   ]
  },
  {
   "cell_type": "code",
   "execution_count": 15,
   "metadata": {},
   "outputs": [
    {
     "data": {
      "text/html": [
       "<style>#sk-container-id-1 {color: black;background-color: white;}#sk-container-id-1 pre{padding: 0;}#sk-container-id-1 div.sk-toggleable {background-color: white;}#sk-container-id-1 label.sk-toggleable__label {cursor: pointer;display: block;width: 100%;margin-bottom: 0;padding: 0.3em;box-sizing: border-box;text-align: center;}#sk-container-id-1 label.sk-toggleable__label-arrow:before {content: \"▸\";float: left;margin-right: 0.25em;color: #696969;}#sk-container-id-1 label.sk-toggleable__label-arrow:hover:before {color: black;}#sk-container-id-1 div.sk-estimator:hover label.sk-toggleable__label-arrow:before {color: black;}#sk-container-id-1 div.sk-toggleable__content {max-height: 0;max-width: 0;overflow: hidden;text-align: left;background-color: #f0f8ff;}#sk-container-id-1 div.sk-toggleable__content pre {margin: 0.2em;color: black;border-radius: 0.25em;background-color: #f0f8ff;}#sk-container-id-1 input.sk-toggleable__control:checked~div.sk-toggleable__content {max-height: 200px;max-width: 100%;overflow: auto;}#sk-container-id-1 input.sk-toggleable__control:checked~label.sk-toggleable__label-arrow:before {content: \"▾\";}#sk-container-id-1 div.sk-estimator input.sk-toggleable__control:checked~label.sk-toggleable__label {background-color: #d4ebff;}#sk-container-id-1 div.sk-label input.sk-toggleable__control:checked~label.sk-toggleable__label {background-color: #d4ebff;}#sk-container-id-1 input.sk-hidden--visually {border: 0;clip: rect(1px 1px 1px 1px);clip: rect(1px, 1px, 1px, 1px);height: 1px;margin: -1px;overflow: hidden;padding: 0;position: absolute;width: 1px;}#sk-container-id-1 div.sk-estimator {font-family: monospace;background-color: #f0f8ff;border: 1px dotted black;border-radius: 0.25em;box-sizing: border-box;margin-bottom: 0.5em;}#sk-container-id-1 div.sk-estimator:hover {background-color: #d4ebff;}#sk-container-id-1 div.sk-parallel-item::after {content: \"\";width: 100%;border-bottom: 1px solid gray;flex-grow: 1;}#sk-container-id-1 div.sk-label:hover label.sk-toggleable__label {background-color: #d4ebff;}#sk-container-id-1 div.sk-serial::before {content: \"\";position: absolute;border-left: 1px solid gray;box-sizing: border-box;top: 0;bottom: 0;left: 50%;z-index: 0;}#sk-container-id-1 div.sk-serial {display: flex;flex-direction: column;align-items: center;background-color: white;padding-right: 0.2em;padding-left: 0.2em;position: relative;}#sk-container-id-1 div.sk-item {position: relative;z-index: 1;}#sk-container-id-1 div.sk-parallel {display: flex;align-items: stretch;justify-content: center;background-color: white;position: relative;}#sk-container-id-1 div.sk-item::before, #sk-container-id-1 div.sk-parallel-item::before {content: \"\";position: absolute;border-left: 1px solid gray;box-sizing: border-box;top: 0;bottom: 0;left: 50%;z-index: -1;}#sk-container-id-1 div.sk-parallel-item {display: flex;flex-direction: column;z-index: 1;position: relative;background-color: white;}#sk-container-id-1 div.sk-parallel-item:first-child::after {align-self: flex-end;width: 50%;}#sk-container-id-1 div.sk-parallel-item:last-child::after {align-self: flex-start;width: 50%;}#sk-container-id-1 div.sk-parallel-item:only-child::after {width: 0;}#sk-container-id-1 div.sk-dashed-wrapped {border: 1px dashed gray;margin: 0 0.4em 0.5em 0.4em;box-sizing: border-box;padding-bottom: 0.4em;background-color: white;}#sk-container-id-1 div.sk-label label {font-family: monospace;font-weight: bold;display: inline-block;line-height: 1.2em;}#sk-container-id-1 div.sk-label-container {text-align: center;}#sk-container-id-1 div.sk-container {/* jupyter's `normalize.less` sets `[hidden] { display: none; }` but bootstrap.min.css set `[hidden] { display: none !important; }` so we also need the `!important` here to be able to override the default hidden behavior on the sphinx rendered scikit-learn.org. See: https://github.com/scikit-learn/scikit-learn/issues/21755 */display: inline-block !important;position: relative;}#sk-container-id-1 div.sk-text-repr-fallback {display: none;}</style><div id=\"sk-container-id-1\" class=\"sk-top-container\"><div class=\"sk-text-repr-fallback\"><pre>LogisticRegression()</pre><b>In a Jupyter environment, please rerun this cell to show the HTML representation or trust the notebook. <br />On GitHub, the HTML representation is unable to render, please try loading this page with nbviewer.org.</b></div><div class=\"sk-container\" hidden><div class=\"sk-item\"><div class=\"sk-estimator sk-toggleable\"><input class=\"sk-toggleable__control sk-hidden--visually\" id=\"sk-estimator-id-1\" type=\"checkbox\" checked><label for=\"sk-estimator-id-1\" class=\"sk-toggleable__label sk-toggleable__label-arrow\">LogisticRegression</label><div class=\"sk-toggleable__content\"><pre>LogisticRegression()</pre></div></div></div></div></div>"
      ],
      "text/plain": [
       "LogisticRegression()"
      ]
     },
     "execution_count": 15,
     "metadata": {},
     "output_type": "execute_result"
    }
   ],
   "source": [
    "#Create a logistic regression model\n",
    "model = LogisticRegression()\n",
    "\n",
    "#Fit the model to the training data\n",
    "model.fit(X_train, y_train)"
   ]
  },
  {
   "cell_type": "code",
   "execution_count": 16,
   "metadata": {},
   "outputs": [
    {
     "name": "stdout",
     "output_type": "stream",
     "text": [
      "              precision    recall  f1-score   support\n",
      "\n",
      "           0       0.99      0.98      0.99       200\n",
      "           1       0.40      0.67      0.50         3\n",
      "\n",
      "    accuracy                           0.98       203\n",
      "   macro avg       0.70      0.83      0.74       203\n",
      "weighted avg       0.99      0.98      0.98       203\n",
      "\n"
     ]
    }
   ],
   "source": [
    "#Make predictions on the testing data\n",
    "y_pred = model.predict(X_test)\n",
    "\n",
    "#Print the classification report\n",
    "print(classification_report(y_test, y_pred))"
   ]
  },
  {
   "cell_type": "code",
   "execution_count": 17,
   "metadata": {},
   "outputs": [],
   "source": [
    "#Show the coefficients of the model\n",
    "coefficients = pd.DataFrame({\n",
    "\t'Variable': features,\n",
    "\t'Coefficient': model.coef_[0]\n",
    "})\n",
    "\n",
    "#Transform the coefficients into absolute values\n",
    "coefficients['Coefficient'] = coefficients['Coefficient'].abs()"
   ]
  },
  {
   "cell_type": "code",
   "execution_count": 18,
   "metadata": {},
   "outputs": [
    {
     "name": "stdout",
     "output_type": "stream",
     "text": [
      "                    Variable  Coefficient\n",
      "0           sp500_pct_change     1.764696\n",
      "1             gdp_pct_change     0.349299\n",
      "2       inflation_pct_change     0.021158\n",
      "3    unemployment_pct_change     0.065704\n",
      "4  fed_funds_rate_pct_change     0.192824\n",
      "5              sp500_quarter     0.173619\n",
      "6               sp500_yearly     0.289815\n",
      "7   sp500_volatility_quarter     0.377890\n",
      "8    sp500_volatility_yearly     0.979962\n"
     ]
    }
   ],
   "source": [
    "#Print the coefficients\n",
    "print(coefficients)"
   ]
  },
  {
   "cell_type": "code",
   "execution_count": 19,
   "metadata": {},
   "outputs": [
    {
     "name": "stderr",
     "output_type": "stream",
     "text": [
      "/var/folders/4w/dqq6x1t91hvgn2hnhb1zlk9r0000gn/T/ipykernel_38856/196111741.py:13: SettingWithCopyWarning: \n",
      "A value is trying to be set on a copy of a slice from a DataFrame.\n",
      "Try using .loc[row_indexer,col_indexer] = value instead\n",
      "\n",
      "See the caveats in the documentation: https://pandas.pydata.org/pandas-docs/stable/user_guide/indexing.html#returning-a-view-versus-a-copy\n",
      "  test_data['crash_probability'] = y_prob\n",
      "/var/folders/4w/dqq6x1t91hvgn2hnhb1zlk9r0000gn/T/ipykernel_38856/196111741.py:14: SettingWithCopyWarning: \n",
      "A value is trying to be set on a copy of a slice from a DataFrame.\n",
      "Try using .loc[row_indexer,col_indexer] = value instead\n",
      "\n",
      "See the caveats in the documentation: https://pandas.pydata.org/pandas-docs/stable/user_guide/indexing.html#returning-a-view-versus-a-copy\n",
      "  test_data['Date'] = test_data.index\n"
     ]
    },
    {
     "data": {
      "application/vnd.plotly.v1+json": {
       "config": {
        "plotlyServerURL": "https://plot.ly"
       },
       "data": [
        {
         "hovertemplate": "Date=%{x}<br>SP500 % Change=%{y}<br>Crash Probability=%{marker.color}<extra></extra>",
         "legendgroup": "",
         "marker": {
          "color": [
           0.09218018448544375,
           0.0038465535625016333,
           0.004560202903139164,
           0.0003552304505938342,
           0.0003436480871061191,
           0.018455821820425825,
           0.05057233836262361,
           0.0006869768520878679,
           0.02867106977779925,
           0.9996101329438196,
           0.9200722958640392,
           0.007178014326085373,
           0.03358610925389844,
           0.11579979579360637,
           0.16364534472805908,
           0.0003117973680246435,
           0.002365353247698676,
           0.014203432247129142,
           0.02457797946602684,
           0.0010633971971786649,
           0.011877736594188608,
           0.005008193922668397,
           0.000784415289007577,
           0.00045172703962399345,
           0.0009316579686772975,
           0.0006383794868157241,
           0.00006957989357243257,
           0.00010852580923341312,
           0.037344456246042664,
           0.014547094321226445,
           0.0026371539590433796,
           0.00039673333204666954,
           0.00009756769194401943,
           0.00009420552183386205,
           0.00014977363405755865,
           0.00010773813532554586,
           0.00025766960388010426,
           0.00005626428725809045,
           0.0017533272120583165,
           0.0004920427123287321,
           0.00027609701329764537,
           0.0022911559153390142,
           0.00014784996671046404,
           0.16607296400381963,
           0.015338699032385847,
           0.0020700398212487657,
           0.00032972358034336866,
           0.0004174405539535826,
           0.0003707455237029738,
           0.000010963450472667049,
           0.0002698955132629423,
           0.002865851631960271,
           0.003301921631403778,
           0.0024354884141989494,
           0.001009158342262239,
           0.000029447404756877464,
           0.00005514125281857071,
           0.0003915168706679389,
           0.0021770628522493353,
           0.000175971096369928,
           0.0002114506158497084,
           0.000048913982054185996,
           0.00008778924643689465,
           0.00013700794541343645,
           0.00003701514819922921,
           0.0013748512436427853,
           0.00012993632679952652,
           0.0005030103925772412,
           0.0002233997526339893,
           0.00013053756312004594,
           0.00003281605277969258,
           0.00013251090431442333,
           0.0001497361542815331,
           0.00022568042688012648,
           0.0000764408625028757,
           0.0003707376099186748,
           0.00007681745085664776,
           0.00004965288421554713,
           0.00009661518605244223,
           0.0003526485782093485,
           0.00012322666648275892,
           0.0013726276676170209,
           0.00005400084427091328,
           0.00017894602408647422,
           0.0034219140285625697,
           0.0001430631184704713,
           0.0005928108344347296,
           0.00011188737576204422,
           0.00020243171321472265,
           0.0006931928791663893,
           0.0005292092856758034,
           0.0036992397620878798,
           0.003353880312647893,
           0.0002211635572060496,
           0.0005530828232788972,
           0.00046585001689251123,
           0.25686230236251445,
           0.000474294781206199,
           0.0001807999858027239,
           0.000824880957696795,
           0.004853893564100627,
           0.0006978706829340759,
           0.000485672852654979,
           0.0007736306411657557,
           0.0022246789522215233,
           0.003629385298931359,
           0.0003420815452809914,
           0.00019841232279651513,
           0.0002793826942189535,
           0.00010697294293883646,
           0.0001315716395177367,
           0.00037526141497964694,
           0.00011438053068696109,
           0.00014032649977728192,
           0.0002038316881966688,
           0.000219961945949814,
           0.0001221151232048996,
           0.00016225322494361352,
           0.00009977705239668091,
           0.000056939719143071595,
           0.00005237825349453794,
           0.0048694160577481636,
           0.0013376862076237908,
           0.002452957039626908,
           0.0003669334635772609,
           0.0003001053363632467,
           0.0004253503521527221,
           0.00020912097636493958,
           0.0003509770086981475,
           0.01601419105725825,
           0.006465920080424975,
           0.0394807045005801,
           0.0011660319389800492,
           0.00032287815499422337,
           0.0010442253744265416,
           0.0007243697663781771,
           0.008533378164178812,
           0.001802987297227475,
           0.000918641136218849,
           0.035926424712875236,
           0.0014134963646180868,
           0.007260146845442939,
           0.0005034092607413693,
           0.0005977697906862568,
           0.00020555464015024072,
           0.001752156896037498,
           0.9998280373046404,
           0.00003217327275631171,
           0.0637057531238808,
           0.0030210265331725374,
           0.12665123849934573,
           0.003740810341813456,
           0.19067599369416702,
           0.11993591970238913,
           0.01330543468387177,
           0.009855370043187425,
           0.1001345752454443,
           0.031825285080075136,
           0.0017371161782250054,
           0.0005187659186408696,
           0.005365724933448645,
           0.001093705778343428,
           0.0006490501373950259,
           0.0013494260724397045,
           0.0030293967590887894,
           0.010120644963382596,
           0.0005207221995796263,
           0.005208924577734799,
           0.06455382933343012,
           0.0330199403083975,
           0.013354264782685346,
           0.00010411962116199034,
           0.6283889511374146,
           0.013626241659411717,
           0.007944006143523578,
           0.0005559591310362472,
           0.8000802027930553,
           0.31190813667525086,
           0.004301920650341567,
           0.02900199937332726,
           0.020509911240296413,
           0.004140275986390963,
           0.1177571259923117,
           0.008581080484448597,
           0.014126831388678181,
           0.0016256455933548652,
           0.007000278572994406,
           0.03210695538604722,
           0.019326296500839682,
           0.05884788084966787,
           0.0014200115878475485,
           0.0014251312797044454,
           0.004298254972846373,
           0.001156456800507904,
           0.002031312748709016,
           0.050713652903780125,
           0.004699981406640277,
           0.002820454008851666,
           0.005318028374052866,
           0.03740080216509543,
           0.005021596332395679,
           0.0030936561634169746,
           0.029288997875371595
          ],
          "coloraxis": "coloraxis",
          "symbol": "circle"
         },
         "mode": "markers",
         "name": "",
         "orientation": "v",
         "showlegend": false,
         "type": "scatter",
         "x": [
          "2008-01-01T00:00:00",
          "2008-02-01T00:00:00",
          "2008-03-01T00:00:00",
          "2008-04-01T00:00:00",
          "2008-05-01T00:00:00",
          "2008-06-01T00:00:00",
          "2008-07-01T00:00:00",
          "2008-08-01T00:00:00",
          "2008-09-01T00:00:00",
          "2008-10-01T00:00:00",
          "2008-11-01T00:00:00",
          "2008-12-01T00:00:00",
          "2009-01-01T00:00:00",
          "2009-02-01T00:00:00",
          "2009-03-01T00:00:00",
          "2009-04-01T00:00:00",
          "2009-05-01T00:00:00",
          "2009-06-01T00:00:00",
          "2009-07-01T00:00:00",
          "2009-08-01T00:00:00",
          "2009-09-01T00:00:00",
          "2009-10-01T00:00:00",
          "2009-11-01T00:00:00",
          "2009-12-01T00:00:00",
          "2010-01-01T00:00:00",
          "2010-02-01T00:00:00",
          "2010-03-01T00:00:00",
          "2010-04-01T00:00:00",
          "2010-05-01T00:00:00",
          "2010-06-01T00:00:00",
          "2010-07-01T00:00:00",
          "2010-08-01T00:00:00",
          "2010-09-01T00:00:00",
          "2010-10-01T00:00:00",
          "2010-11-01T00:00:00",
          "2010-12-01T00:00:00",
          "2011-01-01T00:00:00",
          "2011-02-01T00:00:00",
          "2011-03-01T00:00:00",
          "2011-04-01T00:00:00",
          "2011-05-01T00:00:00",
          "2011-06-01T00:00:00",
          "2011-07-01T00:00:00",
          "2011-08-01T00:00:00",
          "2011-09-01T00:00:00",
          "2011-10-01T00:00:00",
          "2011-11-01T00:00:00",
          "2011-12-01T00:00:00",
          "2012-01-01T00:00:00",
          "2012-02-01T00:00:00",
          "2012-03-01T00:00:00",
          "2012-04-01T00:00:00",
          "2012-05-01T00:00:00",
          "2012-06-01T00:00:00",
          "2012-07-01T00:00:00",
          "2012-08-01T00:00:00",
          "2012-09-01T00:00:00",
          "2012-10-01T00:00:00",
          "2012-11-01T00:00:00",
          "2012-12-01T00:00:00",
          "2013-01-01T00:00:00",
          "2013-02-01T00:00:00",
          "2013-03-01T00:00:00",
          "2013-04-01T00:00:00",
          "2013-05-01T00:00:00",
          "2013-06-01T00:00:00",
          "2013-07-01T00:00:00",
          "2013-08-01T00:00:00",
          "2013-09-01T00:00:00",
          "2013-10-01T00:00:00",
          "2013-11-01T00:00:00",
          "2013-12-01T00:00:00",
          "2014-01-01T00:00:00",
          "2014-02-01T00:00:00",
          "2014-03-01T00:00:00",
          "2014-04-01T00:00:00",
          "2014-05-01T00:00:00",
          "2014-06-01T00:00:00",
          "2014-07-01T00:00:00",
          "2014-08-01T00:00:00",
          "2014-09-01T00:00:00",
          "2014-10-01T00:00:00",
          "2014-11-01T00:00:00",
          "2014-12-01T00:00:00",
          "2015-01-01T00:00:00",
          "2015-02-01T00:00:00",
          "2015-03-01T00:00:00",
          "2015-04-01T00:00:00",
          "2015-05-01T00:00:00",
          "2015-06-01T00:00:00",
          "2015-07-01T00:00:00",
          "2015-08-01T00:00:00",
          "2015-09-01T00:00:00",
          "2015-10-01T00:00:00",
          "2015-11-01T00:00:00",
          "2015-12-01T00:00:00",
          "2016-01-01T00:00:00",
          "2016-02-01T00:00:00",
          "2016-03-01T00:00:00",
          "2016-04-01T00:00:00",
          "2016-05-01T00:00:00",
          "2016-06-01T00:00:00",
          "2016-07-01T00:00:00",
          "2016-08-01T00:00:00",
          "2016-09-01T00:00:00",
          "2016-10-01T00:00:00",
          "2016-11-01T00:00:00",
          "2016-12-01T00:00:00",
          "2017-01-01T00:00:00",
          "2017-02-01T00:00:00",
          "2017-03-01T00:00:00",
          "2017-04-01T00:00:00",
          "2017-05-01T00:00:00",
          "2017-06-01T00:00:00",
          "2017-07-01T00:00:00",
          "2017-08-01T00:00:00",
          "2017-09-01T00:00:00",
          "2017-10-01T00:00:00",
          "2017-11-01T00:00:00",
          "2017-12-01T00:00:00",
          "2018-01-01T00:00:00",
          "2018-02-01T00:00:00",
          "2018-03-01T00:00:00",
          "2018-04-01T00:00:00",
          "2018-05-01T00:00:00",
          "2018-06-01T00:00:00",
          "2018-07-01T00:00:00",
          "2018-08-01T00:00:00",
          "2018-09-01T00:00:00",
          "2018-10-01T00:00:00",
          "2018-11-01T00:00:00",
          "2018-12-01T00:00:00",
          "2019-01-01T00:00:00",
          "2019-02-01T00:00:00",
          "2019-03-01T00:00:00",
          "2019-04-01T00:00:00",
          "2019-05-01T00:00:00",
          "2019-06-01T00:00:00",
          "2019-07-01T00:00:00",
          "2019-08-01T00:00:00",
          "2019-09-01T00:00:00",
          "2019-10-01T00:00:00",
          "2019-11-01T00:00:00",
          "2019-12-01T00:00:00",
          "2020-01-01T00:00:00",
          "2020-02-01T00:00:00",
          "2020-03-01T00:00:00",
          "2020-04-01T00:00:00",
          "2020-05-01T00:00:00",
          "2020-06-01T00:00:00",
          "2020-07-01T00:00:00",
          "2020-08-01T00:00:00",
          "2020-09-01T00:00:00",
          "2020-10-01T00:00:00",
          "2020-11-01T00:00:00",
          "2020-12-01T00:00:00",
          "2021-01-01T00:00:00",
          "2021-02-01T00:00:00",
          "2021-03-01T00:00:00",
          "2021-04-01T00:00:00",
          "2021-05-01T00:00:00",
          "2021-06-01T00:00:00",
          "2021-07-01T00:00:00",
          "2021-08-01T00:00:00",
          "2021-09-01T00:00:00",
          "2021-10-01T00:00:00",
          "2021-11-01T00:00:00",
          "2021-12-01T00:00:00",
          "2022-01-01T00:00:00",
          "2022-02-01T00:00:00",
          "2022-03-01T00:00:00",
          "2022-04-01T00:00:00",
          "2022-05-01T00:00:00",
          "2022-06-01T00:00:00",
          "2022-07-01T00:00:00",
          "2022-08-01T00:00:00",
          "2022-09-01T00:00:00",
          "2022-10-01T00:00:00",
          "2022-11-01T00:00:00",
          "2022-12-01T00:00:00",
          "2023-01-01T00:00:00",
          "2023-02-01T00:00:00",
          "2023-03-01T00:00:00",
          "2023-04-01T00:00:00",
          "2023-05-01T00:00:00",
          "2023-06-01T00:00:00",
          "2023-07-01T00:00:00",
          "2023-08-01T00:00:00",
          "2023-09-01T00:00:00",
          "2023-10-01T00:00:00",
          "2023-11-01T00:00:00",
          "2023-12-01T00:00:00",
          "2024-01-01T00:00:00",
          "2024-02-01T00:00:00",
          "2024-03-01T00:00:00",
          "2024-04-01T00:00:00",
          "2024-05-01T00:00:00",
          "2024-06-01T00:00:00",
          "2024-07-01T00:00:00",
          "2024-08-01T00:00:00",
          "2024-09-01T00:00:00",
          "2024-10-01T00:00:00",
          "2024-11-01T00:00:00"
         ],
         "xaxis": "x",
         "y": [
          -0.0679138027915207,
          -0.0173280555443186,
          -0.02799489717901482,
          0.04064420489733722,
          0.023895848959020638,
          -0.044160400229441565,
          -0.06257188330369123,
          0.019204241778491005,
          -0.0502933275218177,
          -0.20395835691668407,
          -0.08852216082369513,
          -0.0062043696275755345,
          -0.013658658328626117,
          -0.06972024005728017,
          -0.05973536948836444,
          0.12022435729956116,
          0.06397038454051596,
          0.0262702524152727,
          0.010480731468175852,
          0.07897168891346218,
          0.034492196839538414,
          0.02212550312637962,
          0.01911217735124504,
          0.020503036029540844,
          0.011891320259621585,
          -0.030635596806751653,
          0.057740553774731085,
          0.03929303996967781,
          -0.06034678277054417,
          -0.037065610674653415,
          -0.003283817367172648,
          0.006926200998882637,
          0.03200606994598609,
          0.0441161259917775,
          0.02330584564996041,
          0.03556368089695794,
          0.033098836629368966,
          0.03001624259245994,
          -0.012588864375802533,
          0.02071197886263154,
          0.005111099434332633,
          -0.038124057165891845,
          0.029438512210940626,
          -0.10555424500597976,
          -0.009640210548039763,
          0.02839911737844414,
          0.01590318731745799,
          0.013786588055186622,
          0.04605012154864663,
          0.03991262673913831,
          0.027174004441206545,
          -0.0020234198074332577,
          -0.03257020005310596,
          -0.01326234578628982,
          0.02742148521850596,
          0.032117093636446103,
          0.028480717975589487,
          -0.0038816229336197106,
          -0.030118078284999794,
          0.019915997138066466,
          0.04085659932987751,
          0.021559337647444332,
          0.0254692252659503,
          0.012814616922977473,
          0.044018818895814604,
          -0.012848919794904545,
          0.03082763416352008,
          0.000849893399467172,
          0.01022689100332963,
          0.01947222795287762,
          0.03692644882489837,
          0.013587705700651043,
          0.008065951142414152,
          -0.002920351357891149,
          0.025584871357444916,
          0.00039709513258379125,
          0.013680367443846597,
          0.03033202777673405,
          0.013359632571759317,
          -0.005862895903286813,
          0.01615792407500316,
          -0.028070993833962166,
          0.05538593674759196,
          0.004741460543563836,
          -0.012699352878132952,
          0.026633397692275462,
          -0.0010591485620145002,
          0.007150225074581629,
          0.008153602361378187,
          -0.005994412181842157,
          -0.0024484691597161934,
          -0.025918671957449124,
          -0.04679905988181787,
          0.04135477954601585,
          0.027559974834692857,
          -0.012754364754836489,
          -0.06595736458272106,
          -0.007390498019856917,
          0.0617173153929218,
          0.02649968246302259,
          -0.0048106881943599245,
          0.008879419663262222,
          0.031196736068868747,
          0.013299903801676782,
          -0.009089030875517712,
          -0.006798946998551436,
          0.010249433570586053,
          0.037710806808396446,
          0.01267985620445633,
          0.024084294267618267,
          0.015842508841144243,
          -0.0031741782376831784,
          0.015274141314355116,
          0.016131102847407375,
          0.008265066248160702,
          0.0008640909595525326,
          0.014908242763182145,
          0.02573618975073222,
          0.014316975034266433,
          0.027272761706199855,
          0.04708980963125198,
          -0.03034212203679265,
          -0.0008803289907018952,
          -0.018184507893914792,
          0.018038873621396334,
          0.019566682819531334,
          0.014264863949918771,
          0.022972535864717036,
          0.01528440495074146,
          -0.03999162962750802,
          -0.022342180897639285,
          -0.05725699068447987,
          0.015612704397469424,
          0.056560088579945766,
          0.017830130132713284,
          0.0355979893980396,
          -0.01690683552754113,
          0.012421618791573552,
          0.03665798370384432,
          -0.03293038842577323,
          0.02923451384400977,
          -0.001502539912435541,
          0.042727727611666655,
          0.023139204349771347,
          0.0319362120037745,
          -0.0002710858238875735,
          -0.1906806964385388,
          0.04131422720728262,
          0.057072654703663295,
          0.06338262482646662,
          0.03316245006929086,
          0.05739176545197,
          -0.007722755660717562,
          0.01580242483936467,
          0.03811170476404624,
          0.04122790750925187,
          0.026638744185808694,
          0.023639860495639375,
          0.006972225259954223,
          0.05898668503819171,
          0.006441004938998907,
          0.016948790880551234,
          0.02954431051617923,
          0.02068264751880733,
          -0.0018910368631307461,
          0.0034110026936158278,
          0.04633336545978084,
          0.0015824964207724612,
          -0.021596197824280017,
          -0.03013566267282297,
          -0.010080123302728894,
          0.000006998437906746702,
          -0.0799162692780776,
          -0.03500017779473197,
          0.003278528506442946,
          0.06310088469052211,
          -0.0740742851363031,
          -0.032325380600846,
          0.05137815928667133,
          -0.0013038053947284078,
          0.012339181426437529,
          0.03005264223756532,
          -0.027238766299498618,
          0.03852990743456197,
          0.005994426536484854,
          0.04804421634995415,
          0.037442736618906736,
          -0.011250213975017576,
          -0.01082786529661961,
          -0.03168315715171344,
          0.04465787372662455,
          0.050445063136095536,
          0.025493855131132115,
          0.04318249121766593,
          0.03164650445121664,
          -0.01123274901397231,
          0.024006440884893454,
          0.03436623683993645,
          0.022688991294396388,
          -0.01079630648458485,
          0.02611176867618825,
          0.030430737120305418,
          -0.010966201539341136
         ],
         "yaxis": "y"
        },
        {
         "marker": {
          "color": "red",
          "size": 10,
          "symbol": "x"
         },
         "mode": "markers",
         "name": "Actual Crash",
         "type": "scatter",
         "x": [
          "2008-10-01T00:00:00",
          "2011-08-01T00:00:00",
          "2020-03-01T00:00:00"
         ],
         "y": [
          -0.20395835691668407,
          -0.10555424500597976,
          -0.1906806964385388
         ]
        }
       ],
       "layout": {
        "coloraxis": {
         "colorbar": {
          "title": {
           "text": "Crash Probability"
          }
         },
         "colorscale": [
          [
           0,
           "#440154"
          ],
          [
           0.1111111111111111,
           "#482878"
          ],
          [
           0.2222222222222222,
           "#3e4989"
          ],
          [
           0.3333333333333333,
           "#31688e"
          ],
          [
           0.4444444444444444,
           "#26828e"
          ],
          [
           0.5555555555555556,
           "#1f9e89"
          ],
          [
           0.6666666666666666,
           "#35b779"
          ],
          [
           0.7777777777777778,
           "#6ece58"
          ],
          [
           0.8888888888888888,
           "#b5de2b"
          ],
          [
           1,
           "#fde725"
          ]
         ]
        },
        "legend": {
         "tracegroupgap": 0
        },
        "template": {
         "data": {
          "bar": [
           {
            "error_x": {
             "color": "#f2f5fa"
            },
            "error_y": {
             "color": "#f2f5fa"
            },
            "marker": {
             "line": {
              "color": "rgb(17,17,17)",
              "width": 0.5
             },
             "pattern": {
              "fillmode": "overlay",
              "size": 10,
              "solidity": 0.2
             }
            },
            "type": "bar"
           }
          ],
          "barpolar": [
           {
            "marker": {
             "line": {
              "color": "rgb(17,17,17)",
              "width": 0.5
             },
             "pattern": {
              "fillmode": "overlay",
              "size": 10,
              "solidity": 0.2
             }
            },
            "type": "barpolar"
           }
          ],
          "carpet": [
           {
            "aaxis": {
             "endlinecolor": "#A2B1C6",
             "gridcolor": "#506784",
             "linecolor": "#506784",
             "minorgridcolor": "#506784",
             "startlinecolor": "#A2B1C6"
            },
            "baxis": {
             "endlinecolor": "#A2B1C6",
             "gridcolor": "#506784",
             "linecolor": "#506784",
             "minorgridcolor": "#506784",
             "startlinecolor": "#A2B1C6"
            },
            "type": "carpet"
           }
          ],
          "choropleth": [
           {
            "colorbar": {
             "outlinewidth": 0,
             "ticks": ""
            },
            "type": "choropleth"
           }
          ],
          "contour": [
           {
            "colorbar": {
             "outlinewidth": 0,
             "ticks": ""
            },
            "colorscale": [
             [
              0,
              "#0d0887"
             ],
             [
              0.1111111111111111,
              "#46039f"
             ],
             [
              0.2222222222222222,
              "#7201a8"
             ],
             [
              0.3333333333333333,
              "#9c179e"
             ],
             [
              0.4444444444444444,
              "#bd3786"
             ],
             [
              0.5555555555555556,
              "#d8576b"
             ],
             [
              0.6666666666666666,
              "#ed7953"
             ],
             [
              0.7777777777777778,
              "#fb9f3a"
             ],
             [
              0.8888888888888888,
              "#fdca26"
             ],
             [
              1,
              "#f0f921"
             ]
            ],
            "type": "contour"
           }
          ],
          "contourcarpet": [
           {
            "colorbar": {
             "outlinewidth": 0,
             "ticks": ""
            },
            "type": "contourcarpet"
           }
          ],
          "heatmap": [
           {
            "colorbar": {
             "outlinewidth": 0,
             "ticks": ""
            },
            "colorscale": [
             [
              0,
              "#0d0887"
             ],
             [
              0.1111111111111111,
              "#46039f"
             ],
             [
              0.2222222222222222,
              "#7201a8"
             ],
             [
              0.3333333333333333,
              "#9c179e"
             ],
             [
              0.4444444444444444,
              "#bd3786"
             ],
             [
              0.5555555555555556,
              "#d8576b"
             ],
             [
              0.6666666666666666,
              "#ed7953"
             ],
             [
              0.7777777777777778,
              "#fb9f3a"
             ],
             [
              0.8888888888888888,
              "#fdca26"
             ],
             [
              1,
              "#f0f921"
             ]
            ],
            "type": "heatmap"
           }
          ],
          "heatmapgl": [
           {
            "colorbar": {
             "outlinewidth": 0,
             "ticks": ""
            },
            "colorscale": [
             [
              0,
              "#0d0887"
             ],
             [
              0.1111111111111111,
              "#46039f"
             ],
             [
              0.2222222222222222,
              "#7201a8"
             ],
             [
              0.3333333333333333,
              "#9c179e"
             ],
             [
              0.4444444444444444,
              "#bd3786"
             ],
             [
              0.5555555555555556,
              "#d8576b"
             ],
             [
              0.6666666666666666,
              "#ed7953"
             ],
             [
              0.7777777777777778,
              "#fb9f3a"
             ],
             [
              0.8888888888888888,
              "#fdca26"
             ],
             [
              1,
              "#f0f921"
             ]
            ],
            "type": "heatmapgl"
           }
          ],
          "histogram": [
           {
            "marker": {
             "pattern": {
              "fillmode": "overlay",
              "size": 10,
              "solidity": 0.2
             }
            },
            "type": "histogram"
           }
          ],
          "histogram2d": [
           {
            "colorbar": {
             "outlinewidth": 0,
             "ticks": ""
            },
            "colorscale": [
             [
              0,
              "#0d0887"
             ],
             [
              0.1111111111111111,
              "#46039f"
             ],
             [
              0.2222222222222222,
              "#7201a8"
             ],
             [
              0.3333333333333333,
              "#9c179e"
             ],
             [
              0.4444444444444444,
              "#bd3786"
             ],
             [
              0.5555555555555556,
              "#d8576b"
             ],
             [
              0.6666666666666666,
              "#ed7953"
             ],
             [
              0.7777777777777778,
              "#fb9f3a"
             ],
             [
              0.8888888888888888,
              "#fdca26"
             ],
             [
              1,
              "#f0f921"
             ]
            ],
            "type": "histogram2d"
           }
          ],
          "histogram2dcontour": [
           {
            "colorbar": {
             "outlinewidth": 0,
             "ticks": ""
            },
            "colorscale": [
             [
              0,
              "#0d0887"
             ],
             [
              0.1111111111111111,
              "#46039f"
             ],
             [
              0.2222222222222222,
              "#7201a8"
             ],
             [
              0.3333333333333333,
              "#9c179e"
             ],
             [
              0.4444444444444444,
              "#bd3786"
             ],
             [
              0.5555555555555556,
              "#d8576b"
             ],
             [
              0.6666666666666666,
              "#ed7953"
             ],
             [
              0.7777777777777778,
              "#fb9f3a"
             ],
             [
              0.8888888888888888,
              "#fdca26"
             ],
             [
              1,
              "#f0f921"
             ]
            ],
            "type": "histogram2dcontour"
           }
          ],
          "mesh3d": [
           {
            "colorbar": {
             "outlinewidth": 0,
             "ticks": ""
            },
            "type": "mesh3d"
           }
          ],
          "parcoords": [
           {
            "line": {
             "colorbar": {
              "outlinewidth": 0,
              "ticks": ""
             }
            },
            "type": "parcoords"
           }
          ],
          "pie": [
           {
            "automargin": true,
            "type": "pie"
           }
          ],
          "scatter": [
           {
            "marker": {
             "line": {
              "color": "#283442"
             }
            },
            "type": "scatter"
           }
          ],
          "scatter3d": [
           {
            "line": {
             "colorbar": {
              "outlinewidth": 0,
              "ticks": ""
             }
            },
            "marker": {
             "colorbar": {
              "outlinewidth": 0,
              "ticks": ""
             }
            },
            "type": "scatter3d"
           }
          ],
          "scattercarpet": [
           {
            "marker": {
             "colorbar": {
              "outlinewidth": 0,
              "ticks": ""
             }
            },
            "type": "scattercarpet"
           }
          ],
          "scattergeo": [
           {
            "marker": {
             "colorbar": {
              "outlinewidth": 0,
              "ticks": ""
             }
            },
            "type": "scattergeo"
           }
          ],
          "scattergl": [
           {
            "marker": {
             "line": {
              "color": "#283442"
             }
            },
            "type": "scattergl"
           }
          ],
          "scattermapbox": [
           {
            "marker": {
             "colorbar": {
              "outlinewidth": 0,
              "ticks": ""
             }
            },
            "type": "scattermapbox"
           }
          ],
          "scatterpolar": [
           {
            "marker": {
             "colorbar": {
              "outlinewidth": 0,
              "ticks": ""
             }
            },
            "type": "scatterpolar"
           }
          ],
          "scatterpolargl": [
           {
            "marker": {
             "colorbar": {
              "outlinewidth": 0,
              "ticks": ""
             }
            },
            "type": "scatterpolargl"
           }
          ],
          "scatterternary": [
           {
            "marker": {
             "colorbar": {
              "outlinewidth": 0,
              "ticks": ""
             }
            },
            "type": "scatterternary"
           }
          ],
          "surface": [
           {
            "colorbar": {
             "outlinewidth": 0,
             "ticks": ""
            },
            "colorscale": [
             [
              0,
              "#0d0887"
             ],
             [
              0.1111111111111111,
              "#46039f"
             ],
             [
              0.2222222222222222,
              "#7201a8"
             ],
             [
              0.3333333333333333,
              "#9c179e"
             ],
             [
              0.4444444444444444,
              "#bd3786"
             ],
             [
              0.5555555555555556,
              "#d8576b"
             ],
             [
              0.6666666666666666,
              "#ed7953"
             ],
             [
              0.7777777777777778,
              "#fb9f3a"
             ],
             [
              0.8888888888888888,
              "#fdca26"
             ],
             [
              1,
              "#f0f921"
             ]
            ],
            "type": "surface"
           }
          ],
          "table": [
           {
            "cells": {
             "fill": {
              "color": "#506784"
             },
             "line": {
              "color": "rgb(17,17,17)"
             }
            },
            "header": {
             "fill": {
              "color": "#2a3f5f"
             },
             "line": {
              "color": "rgb(17,17,17)"
             }
            },
            "type": "table"
           }
          ]
         },
         "layout": {
          "annotationdefaults": {
           "arrowcolor": "#f2f5fa",
           "arrowhead": 0,
           "arrowwidth": 1
          },
          "autotypenumbers": "strict",
          "coloraxis": {
           "colorbar": {
            "outlinewidth": 0,
            "ticks": ""
           }
          },
          "colorscale": {
           "diverging": [
            [
             0,
             "#8e0152"
            ],
            [
             0.1,
             "#c51b7d"
            ],
            [
             0.2,
             "#de77ae"
            ],
            [
             0.3,
             "#f1b6da"
            ],
            [
             0.4,
             "#fde0ef"
            ],
            [
             0.5,
             "#f7f7f7"
            ],
            [
             0.6,
             "#e6f5d0"
            ],
            [
             0.7,
             "#b8e186"
            ],
            [
             0.8,
             "#7fbc41"
            ],
            [
             0.9,
             "#4d9221"
            ],
            [
             1,
             "#276419"
            ]
           ],
           "sequential": [
            [
             0,
             "#0d0887"
            ],
            [
             0.1111111111111111,
             "#46039f"
            ],
            [
             0.2222222222222222,
             "#7201a8"
            ],
            [
             0.3333333333333333,
             "#9c179e"
            ],
            [
             0.4444444444444444,
             "#bd3786"
            ],
            [
             0.5555555555555556,
             "#d8576b"
            ],
            [
             0.6666666666666666,
             "#ed7953"
            ],
            [
             0.7777777777777778,
             "#fb9f3a"
            ],
            [
             0.8888888888888888,
             "#fdca26"
            ],
            [
             1,
             "#f0f921"
            ]
           ],
           "sequentialminus": [
            [
             0,
             "#0d0887"
            ],
            [
             0.1111111111111111,
             "#46039f"
            ],
            [
             0.2222222222222222,
             "#7201a8"
            ],
            [
             0.3333333333333333,
             "#9c179e"
            ],
            [
             0.4444444444444444,
             "#bd3786"
            ],
            [
             0.5555555555555556,
             "#d8576b"
            ],
            [
             0.6666666666666666,
             "#ed7953"
            ],
            [
             0.7777777777777778,
             "#fb9f3a"
            ],
            [
             0.8888888888888888,
             "#fdca26"
            ],
            [
             1,
             "#f0f921"
            ]
           ]
          },
          "colorway": [
           "#636efa",
           "#EF553B",
           "#00cc96",
           "#ab63fa",
           "#FFA15A",
           "#19d3f3",
           "#FF6692",
           "#B6E880",
           "#FF97FF",
           "#FECB52"
          ],
          "font": {
           "color": "#f2f5fa"
          },
          "geo": {
           "bgcolor": "rgb(17,17,17)",
           "lakecolor": "rgb(17,17,17)",
           "landcolor": "rgb(17,17,17)",
           "showlakes": true,
           "showland": true,
           "subunitcolor": "#506784"
          },
          "hoverlabel": {
           "align": "left"
          },
          "hovermode": "closest",
          "mapbox": {
           "style": "dark"
          },
          "paper_bgcolor": "rgb(17,17,17)",
          "plot_bgcolor": "rgb(17,17,17)",
          "polar": {
           "angularaxis": {
            "gridcolor": "#506784",
            "linecolor": "#506784",
            "ticks": ""
           },
           "bgcolor": "rgb(17,17,17)",
           "radialaxis": {
            "gridcolor": "#506784",
            "linecolor": "#506784",
            "ticks": ""
           }
          },
          "scene": {
           "xaxis": {
            "backgroundcolor": "rgb(17,17,17)",
            "gridcolor": "#506784",
            "gridwidth": 2,
            "linecolor": "#506784",
            "showbackground": true,
            "ticks": "",
            "zerolinecolor": "#C8D4E3"
           },
           "yaxis": {
            "backgroundcolor": "rgb(17,17,17)",
            "gridcolor": "#506784",
            "gridwidth": 2,
            "linecolor": "#506784",
            "showbackground": true,
            "ticks": "",
            "zerolinecolor": "#C8D4E3"
           },
           "zaxis": {
            "backgroundcolor": "rgb(17,17,17)",
            "gridcolor": "#506784",
            "gridwidth": 2,
            "linecolor": "#506784",
            "showbackground": true,
            "ticks": "",
            "zerolinecolor": "#C8D4E3"
           }
          },
          "shapedefaults": {
           "line": {
            "color": "#f2f5fa"
           }
          },
          "sliderdefaults": {
           "bgcolor": "#C8D4E3",
           "bordercolor": "rgb(17,17,17)",
           "borderwidth": 1,
           "tickwidth": 0
          },
          "ternary": {
           "aaxis": {
            "gridcolor": "#506784",
            "linecolor": "#506784",
            "ticks": ""
           },
           "baxis": {
            "gridcolor": "#506784",
            "linecolor": "#506784",
            "ticks": ""
           },
           "bgcolor": "rgb(17,17,17)",
           "caxis": {
            "gridcolor": "#506784",
            "linecolor": "#506784",
            "ticks": ""
           }
          },
          "title": {
           "x": 0.05
          },
          "updatemenudefaults": {
           "bgcolor": "#506784",
           "borderwidth": 0
          },
          "xaxis": {
           "automargin": true,
           "gridcolor": "#283442",
           "linecolor": "#506784",
           "ticks": "",
           "title": {
            "standoff": 15
           },
           "zerolinecolor": "#283442",
           "zerolinewidth": 2
          },
          "yaxis": {
           "automargin": true,
           "gridcolor": "#283442",
           "linecolor": "#506784",
           "ticks": "",
           "title": {
            "standoff": 15
           },
           "zerolinecolor": "#283442",
           "zerolinewidth": 2
          }
         }
        },
        "title": {
         "text": "Market Crash Probability over Time with Clusters"
        },
        "xaxis": {
         "anchor": "y",
         "domain": [
          0,
          1
         ],
         "title": {
          "text": "Date"
         }
        },
        "yaxis": {
         "anchor": "x",
         "domain": [
          0,
          1
         ],
         "title": {
          "text": "S&P 500 % Change"
         }
        }
       }
      }
     },
     "metadata": {},
     "output_type": "display_data"
    }
   ],
   "source": [
    "import pandas as pd\n",
    "import numpy as np\n",
    "import plotly.express as px\n",
    "import plotly.graph_objects as go\n",
    "from sklearn.linear_model import LogisticRegression\n",
    "from sklearn.preprocessing import StandardScaler\n",
    "from sklearn.model_selection import train_test_split\n",
    "\n",
    "# Calculate predicted probabilities of a market crash\n",
    "y_prob = model.predict_proba(X_test)[:, 1]  # Probability of the positive class (market crash)\n",
    "\n",
    "# Add the predicted probabilities to the test data for visualization\n",
    "test_data['crash_probability'] = y_prob\n",
    "test_data['Date'] = test_data.index\n",
    "\n",
    "# Create a Plotly scatter plot to visualize the data and clusters of probabilities\n",
    "fig = px.scatter(test_data, x='Date', y='sp500_pct_change', color='crash_probability',\n",
    "                 title='Market Crash Probability over Time with Clusters',\n",
    "                 labels={'crash_probability': 'Crash Probability', 'sp500_pct_change': 'SP500 % Change'},\n",
    "                 color_continuous_scale='Viridis')\n",
    "\n",
    "# Add markers for actual crashes\n",
    "fig.add_trace(go.Scatter(x=test_data[test_data['crash'] == 1]['Date'],\n",
    "                         y=test_data[test_data['crash'] == 1]['sp500_pct_change'],\n",
    "                         mode='markers',\n",
    "                         name='Actual Crash',\n",
    "                         marker=dict(symbol='x', color='red', size=10)))\n",
    "\n",
    "# Update layout for clarity\n",
    "fig.update_layout(coloraxis_colorbar=dict(title='Crash Probability'),\n",
    "                  xaxis_title='Date',\n",
    "                  yaxis_title='S&P 500 % Change',\n",
    "                  template='plotly_dark')\n",
    "\n",
    "# Show the interactive plot\n",
    "fig.show()\n"
   ]
  }
 ],
 "metadata": {
  "kernelspec": {
   "display_name": "Python 3.10 (dev)",
   "language": "python",
   "name": "dev"
  },
  "language_info": {
   "codemirror_mode": {
    "name": "ipython",
    "version": 3
   },
   "file_extension": ".py",
   "mimetype": "text/x-python",
   "name": "python",
   "nbconvert_exporter": "python",
   "pygments_lexer": "ipython3",
   "version": "3.10.13"
  }
 },
 "nbformat": 4,
 "nbformat_minor": 2
}
