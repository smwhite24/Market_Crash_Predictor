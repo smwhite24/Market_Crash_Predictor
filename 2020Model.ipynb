{
 "cells": [
  {
   "cell_type": "code",
   "execution_count": 1,
   "metadata": {},
   "outputs": [],
   "source": [
    "import pandas as pd\n",
    "from sklearn.model_selection import train_test_split\n",
    "from sklearn.preprocessing import StandardScaler\n",
    "from sklearn.linear_model import LogisticRegression\n",
    "from sklearn.metrics import classification_report"
   ]
  },
  {
   "cell_type": "code",
   "execution_count": 2,
   "metadata": {},
   "outputs": [],
   "source": [
    "#load the data from the csv file\n",
    "data = pd.read_csv('../Market_Crash_Predictor/cleaned_data/final_standardized_data.csv')\n"
   ]
  },
  {
   "cell_type": "code",
   "execution_count": 3,
   "metadata": {},
   "outputs": [
    {
     "data": {
      "text/html": [
       "<div>\n",
       "<style scoped>\n",
       "    .dataframe tbody tr th:only-of-type {\n",
       "        vertical-align: middle;\n",
       "    }\n",
       "\n",
       "    .dataframe tbody tr th {\n",
       "        vertical-align: top;\n",
       "    }\n",
       "\n",
       "    .dataframe thead th {\n",
       "        text-align: right;\n",
       "    }\n",
       "</style>\n",
       "<table border=\"1\" class=\"dataframe\">\n",
       "  <thead>\n",
       "    <tr style=\"text-align: right;\">\n",
       "      <th></th>\n",
       "      <th>Date</th>\n",
       "      <th>Federal Funds Rate</th>\n",
       "      <th>Unemployment Rate</th>\n",
       "      <th>GDP</th>\n",
       "      <th>Inflation Rate</th>\n",
       "      <th>SP500</th>\n",
       "    </tr>\n",
       "  </thead>\n",
       "  <tbody>\n",
       "    <tr>\n",
       "      <th>0</th>\n",
       "      <td>1975-01-01</td>\n",
       "      <td>3.87</td>\n",
       "      <td>8.1</td>\n",
       "      <td>1616.116</td>\n",
       "      <td>9.143147</td>\n",
       "      <td>72.564091</td>\n",
       "    </tr>\n",
       "    <tr>\n",
       "      <th>1</th>\n",
       "      <td>1975-02-01</td>\n",
       "      <td>6.76</td>\n",
       "      <td>8.1</td>\n",
       "      <td>1616.116</td>\n",
       "      <td>9.143147</td>\n",
       "      <td>80.096842</td>\n",
       "    </tr>\n",
       "    <tr>\n",
       "      <th>2</th>\n",
       "      <td>1975-03-01</td>\n",
       "      <td>6.07</td>\n",
       "      <td>8.6</td>\n",
       "      <td>1616.116</td>\n",
       "      <td>9.143147</td>\n",
       "      <td>83.831999</td>\n",
       "    </tr>\n",
       "    <tr>\n",
       "      <th>3</th>\n",
       "      <td>1975-04-01</td>\n",
       "      <td>5.48</td>\n",
       "      <td>8.8</td>\n",
       "      <td>1651.853</td>\n",
       "      <td>9.143147</td>\n",
       "      <td>84.723182</td>\n",
       "    </tr>\n",
       "    <tr>\n",
       "      <th>4</th>\n",
       "      <td>1975-05-01</td>\n",
       "      <td>5.55</td>\n",
       "      <td>9.0</td>\n",
       "      <td>1651.853</td>\n",
       "      <td>9.143147</td>\n",
       "      <td>90.096190</td>\n",
       "    </tr>\n",
       "  </tbody>\n",
       "</table>\n",
       "</div>"
      ],
      "text/plain": [
       "         Date  Federal Funds Rate  Unemployment Rate       GDP  \\\n",
       "0  1975-01-01                3.87                8.1  1616.116   \n",
       "1  1975-02-01                6.76                8.1  1616.116   \n",
       "2  1975-03-01                6.07                8.6  1616.116   \n",
       "3  1975-04-01                5.48                8.8  1651.853   \n",
       "4  1975-05-01                5.55                9.0  1651.853   \n",
       "\n",
       "   Inflation Rate      SP500  \n",
       "0        9.143147  72.564091  \n",
       "1        9.143147  80.096842  \n",
       "2        9.143147  83.831999  \n",
       "3        9.143147  84.723182  \n",
       "4        9.143147  90.096190  "
      ]
     },
     "execution_count": 3,
     "metadata": {},
     "output_type": "execute_result"
    }
   ],
   "source": [
    "#Show the first 5 rows of the data\n",
    "data.head()"
   ]
  },
  {
   "cell_type": "code",
   "execution_count": 4,
   "metadata": {},
   "outputs": [],
   "source": [
    "#Make sure Date is in datetime format\n",
    "data['Date'] = pd.to_datetime(data['Date'])\n",
    "\n",
    "#Set the Date as the index\n",
    "data.set_index('Date', inplace=True)"
   ]
  },
  {
   "cell_type": "code",
   "execution_count": 5,
   "metadata": {},
   "outputs": [
    {
     "name": "stderr",
     "output_type": "stream",
     "text": [
<<<<<<< HEAD
      "/var/folders/4w/dqq6x1t91hvgn2hnhb1zlk9r0000gn/T/ipykernel_40602/3432497560.py:3: FutureWarning: The default fill_method='pad' in Series.pct_change is deprecated and will be removed in a future version. Either fill in any non-leading NA values prior to calling pct_change or specify 'fill_method=None' to not fill NA values.\n",
      "  data['gdp_pct_change'] = data['GDP'].pct_change()\n",
      "/var/folders/4w/dqq6x1t91hvgn2hnhb1zlk9r0000gn/T/ipykernel_40602/3432497560.py:4: FutureWarning: The default fill_method='pad' in Series.pct_change is deprecated and will be removed in a future version. Either fill in any non-leading NA values prior to calling pct_change or specify 'fill_method=None' to not fill NA values.\n",
      "  data['inflation_pct_change'] = data['Inflation Rate'].pct_change()\n",
      "/var/folders/4w/dqq6x1t91hvgn2hnhb1zlk9r0000gn/T/ipykernel_40602/3432497560.py:5: FutureWarning: The default fill_method='pad' in Series.pct_change is deprecated and will be removed in a future version. Either fill in any non-leading NA values prior to calling pct_change or specify 'fill_method=None' to not fill NA values.\n",
      "  data['unemployment_pct_change'] = data['Unemployment Rate'].pct_change()\n",
      "/var/folders/4w/dqq6x1t91hvgn2hnhb1zlk9r0000gn/T/ipykernel_40602/3432497560.py:6: FutureWarning: The default fill_method='pad' in Series.pct_change is deprecated and will be removed in a future version. Either fill in any non-leading NA values prior to calling pct_change or specify 'fill_method=None' to not fill NA values.\n",
=======
      "C:\\Users\\Khan\\AppData\\Local\\Temp\\ipykernel_32660\\3432497560.py:3: FutureWarning: The default fill_method='pad' in Series.pct_change is deprecated and will be removed in a future version. Either fill in any non-leading NA values prior to calling pct_change or specify 'fill_method=None' to not fill NA values.\n",
      "  data['gdp_pct_change'] = data['GDP'].pct_change()\n",
      "C:\\Users\\Khan\\AppData\\Local\\Temp\\ipykernel_32660\\3432497560.py:4: FutureWarning: The default fill_method='pad' in Series.pct_change is deprecated and will be removed in a future version. Either fill in any non-leading NA values prior to calling pct_change or specify 'fill_method=None' to not fill NA values.\n",
      "  data['inflation_pct_change'] = data['Inflation Rate'].pct_change()\n",
      "C:\\Users\\Khan\\AppData\\Local\\Temp\\ipykernel_32660\\3432497560.py:5: FutureWarning: The default fill_method='pad' in Series.pct_change is deprecated and will be removed in a future version. Either fill in any non-leading NA values prior to calling pct_change or specify 'fill_method=None' to not fill NA values.\n",
      "  data['unemployment_pct_change'] = data['Unemployment Rate'].pct_change()\n",
      "C:\\Users\\Khan\\AppData\\Local\\Temp\\ipykernel_32660\\3432497560.py:6: FutureWarning: The default fill_method='pad' in Series.pct_change is deprecated and will be removed in a future version. Either fill in any non-leading NA values prior to calling pct_change or specify 'fill_method=None' to not fill NA values.\n",
>>>>>>> d00de40815a12569c179e8ae68e167800820a731
      "  data['fed_funds_rate_pct_change'] = data['Federal Funds Rate'].pct_change()\n"
     ]
    }
   ],
   "source": [
    "#Create a month-to-month percentage change in the features\n",
    "data['sp500_pct_change'] = data['SP500'].pct_change()\n",
    "data['gdp_pct_change'] = data['GDP'].pct_change()\n",
    "data['inflation_pct_change'] = data['Inflation Rate'].pct_change()\n",
    "data['unemployment_pct_change'] = data['Unemployment Rate'].pct_change()\n",
    "data['fed_funds_rate_pct_change'] = data['Federal Funds Rate'].pct_change()"
   ]
  },
  {
   "cell_type": "code",
   "execution_count": 6,
   "metadata": {},
   "outputs": [],
   "source": [
    "#Do a moving average and volatility calulation for the SP500\n",
    "data['sp500_quarter'] = data['SP500'].rolling(window=3).mean()\n",
    "data['sp500_yearly'] = data['SP500'].rolling(window=12).mean()\n",
    "data['sp500_volatility_quarter'] = data['sp500_pct_change'].rolling(window=3).std()\n",
    "data['sp500_volatility_yearly'] = data['sp500_pct_change'].rolling(window=12).std()\n"
   ]
  },
  {
   "cell_type": "code",
   "execution_count": 7,
   "metadata": {},
   "outputs": [],
   "source": [
    "#Set crash threshold to 10% drop in the SP500\n",
    "crash_threshold = -0.10\n",
    "data['crash'] = (data['sp500_pct_change'] < crash_threshold).astype(int)\n"
   ]
  },
  {
   "cell_type": "code",
   "execution_count": 8,
   "metadata": {},
   "outputs": [
    {
     "data": {
      "text/html": [
       "<div>\n",
       "<style scoped>\n",
       "    .dataframe tbody tr th:only-of-type {\n",
       "        vertical-align: middle;\n",
       "    }\n",
       "\n",
       "    .dataframe tbody tr th {\n",
       "        vertical-align: top;\n",
       "    }\n",
       "\n",
       "    .dataframe thead th {\n",
       "        text-align: right;\n",
       "    }\n",
       "</style>\n",
       "<table border=\"1\" class=\"dataframe\">\n",
       "  <thead>\n",
       "    <tr style=\"text-align: right;\">\n",
       "      <th></th>\n",
       "      <th>Federal Funds Rate</th>\n",
       "      <th>Unemployment Rate</th>\n",
       "      <th>GDP</th>\n",
       "      <th>Inflation Rate</th>\n",
       "      <th>SP500</th>\n",
       "      <th>sp500_pct_change</th>\n",
       "      <th>gdp_pct_change</th>\n",
       "      <th>inflation_pct_change</th>\n",
       "      <th>unemployment_pct_change</th>\n",
       "      <th>fed_funds_rate_pct_change</th>\n",
       "      <th>sp500_quarter</th>\n",
       "      <th>sp500_yearly</th>\n",
       "      <th>sp500_volatility_quarter</th>\n",
       "      <th>sp500_volatility_yearly</th>\n",
       "      <th>crash</th>\n",
       "    </tr>\n",
       "    <tr>\n",
       "      <th>Date</th>\n",
       "      <th></th>\n",
       "      <th></th>\n",
       "      <th></th>\n",
       "      <th></th>\n",
       "      <th></th>\n",
       "      <th></th>\n",
       "      <th></th>\n",
       "      <th></th>\n",
       "      <th></th>\n",
       "      <th></th>\n",
       "      <th></th>\n",
       "      <th></th>\n",
       "      <th></th>\n",
       "      <th></th>\n",
       "      <th></th>\n",
       "    </tr>\n",
       "  </thead>\n",
       "  <tbody>\n",
       "    <tr>\n",
       "      <th>1975-01-01</th>\n",
       "      <td>3.87</td>\n",
       "      <td>8.1</td>\n",
       "      <td>1616.116</td>\n",
       "      <td>9.143147</td>\n",
       "      <td>72.564091</td>\n",
       "      <td>NaN</td>\n",
       "      <td>NaN</td>\n",
       "      <td>NaN</td>\n",
       "      <td>NaN</td>\n",
       "      <td>NaN</td>\n",
       "      <td>NaN</td>\n",
       "      <td>NaN</td>\n",
       "      <td>NaN</td>\n",
       "      <td>NaN</td>\n",
       "      <td>0</td>\n",
       "    </tr>\n",
       "    <tr>\n",
       "      <th>1975-02-01</th>\n",
       "      <td>6.76</td>\n",
       "      <td>8.1</td>\n",
       "      <td>1616.116</td>\n",
       "      <td>9.143147</td>\n",
       "      <td>80.096842</td>\n",
       "      <td>0.103808</td>\n",
       "      <td>0.000000</td>\n",
       "      <td>0.0</td>\n",
       "      <td>0.000000</td>\n",
       "      <td>0.746770</td>\n",
       "      <td>NaN</td>\n",
       "      <td>NaN</td>\n",
       "      <td>NaN</td>\n",
       "      <td>NaN</td>\n",
       "      <td>0</td>\n",
       "    </tr>\n",
       "    <tr>\n",
       "      <th>1975-03-01</th>\n",
       "      <td>6.07</td>\n",
       "      <td>8.6</td>\n",
       "      <td>1616.116</td>\n",
       "      <td>9.143147</td>\n",
       "      <td>83.831999</td>\n",
       "      <td>0.046633</td>\n",
       "      <td>0.000000</td>\n",
       "      <td>0.0</td>\n",
       "      <td>0.061728</td>\n",
       "      <td>-0.102071</td>\n",
       "      <td>78.830977</td>\n",
       "      <td>NaN</td>\n",
       "      <td>NaN</td>\n",
       "      <td>NaN</td>\n",
       "      <td>0</td>\n",
       "    </tr>\n",
       "    <tr>\n",
       "      <th>1975-04-01</th>\n",
       "      <td>5.48</td>\n",
       "      <td>8.8</td>\n",
       "      <td>1651.853</td>\n",
       "      <td>9.143147</td>\n",
       "      <td>84.723182</td>\n",
       "      <td>0.010631</td>\n",
       "      <td>0.022113</td>\n",
       "      <td>0.0</td>\n",
       "      <td>0.023256</td>\n",
       "      <td>-0.097199</td>\n",
       "      <td>82.884008</td>\n",
       "      <td>NaN</td>\n",
       "      <td>0.046988</td>\n",
       "      <td>NaN</td>\n",
       "      <td>0</td>\n",
       "    </tr>\n",
       "    <tr>\n",
       "      <th>1975-05-01</th>\n",
       "      <td>5.55</td>\n",
       "      <td>9.0</td>\n",
       "      <td>1651.853</td>\n",
       "      <td>9.143147</td>\n",
       "      <td>90.096190</td>\n",
       "      <td>0.063418</td>\n",
       "      <td>0.000000</td>\n",
       "      <td>0.0</td>\n",
       "      <td>0.022727</td>\n",
       "      <td>0.012774</td>\n",
       "      <td>86.217124</td>\n",
       "      <td>NaN</td>\n",
       "      <td>0.026971</td>\n",
       "      <td>NaN</td>\n",
       "      <td>0</td>\n",
       "    </tr>\n",
       "  </tbody>\n",
       "</table>\n",
       "</div>"
      ],
      "text/plain": [
       "            Federal Funds Rate  Unemployment Rate       GDP  Inflation Rate  \\\n",
       "Date                                                                          \n",
       "1975-01-01                3.87                8.1  1616.116        9.143147   \n",
       "1975-02-01                6.76                8.1  1616.116        9.143147   \n",
       "1975-03-01                6.07                8.6  1616.116        9.143147   \n",
       "1975-04-01                5.48                8.8  1651.853        9.143147   \n",
       "1975-05-01                5.55                9.0  1651.853        9.143147   \n",
       "\n",
       "                SP500  sp500_pct_change  gdp_pct_change  inflation_pct_change  \\\n",
       "Date                                                                            \n",
       "1975-01-01  72.564091               NaN             NaN                   NaN   \n",
       "1975-02-01  80.096842          0.103808        0.000000                   0.0   \n",
       "1975-03-01  83.831999          0.046633        0.000000                   0.0   \n",
       "1975-04-01  84.723182          0.010631        0.022113                   0.0   \n",
       "1975-05-01  90.096190          0.063418        0.000000                   0.0   \n",
       "\n",
       "            unemployment_pct_change  fed_funds_rate_pct_change  sp500_quarter  \\\n",
       "Date                                                                            \n",
       "1975-01-01                      NaN                        NaN            NaN   \n",
       "1975-02-01                 0.000000                   0.746770            NaN   \n",
       "1975-03-01                 0.061728                  -0.102071      78.830977   \n",
       "1975-04-01                 0.023256                  -0.097199      82.884008   \n",
       "1975-05-01                 0.022727                   0.012774      86.217124   \n",
       "\n",
       "            sp500_yearly  sp500_volatility_quarter  sp500_volatility_yearly  \\\n",
       "Date                                                                          \n",
       "1975-01-01           NaN                       NaN                      NaN   \n",
       "1975-02-01           NaN                       NaN                      NaN   \n",
       "1975-03-01           NaN                       NaN                      NaN   \n",
       "1975-04-01           NaN                  0.046988                      NaN   \n",
       "1975-05-01           NaN                  0.026971                      NaN   \n",
       "\n",
       "            crash  \n",
       "Date               \n",
       "1975-01-01      0  \n",
       "1975-02-01      0  \n",
       "1975-03-01      0  \n",
       "1975-04-01      0  \n",
       "1975-05-01      0  "
      ]
     },
     "execution_count": 8,
     "metadata": {},
     "output_type": "execute_result"
    }
   ],
   "source": [
    "#Show the first 5 rows of the data\n",
    "data.head()"
   ]
  },
  {
   "cell_type": "code",
   "execution_count": 9,
   "metadata": {},
   "outputs": [],
   "source": [
    "#Drop the first 12 rows of the data since they have NaN values\n",
    "data = data[12:]"
   ]
  },
  {
   "cell_type": "code",
   "execution_count": 10,
   "metadata": {},
   "outputs": [
    {
     "data": {
      "text/html": [
       "<div>\n",
       "<style scoped>\n",
       "    .dataframe tbody tr th:only-of-type {\n",
       "        vertical-align: middle;\n",
       "    }\n",
       "\n",
       "    .dataframe tbody tr th {\n",
       "        vertical-align: top;\n",
       "    }\n",
       "\n",
       "    .dataframe thead th {\n",
       "        text-align: right;\n",
       "    }\n",
       "</style>\n",
       "<table border=\"1\" class=\"dataframe\">\n",
       "  <thead>\n",
       "    <tr style=\"text-align: right;\">\n",
       "      <th></th>\n",
       "      <th>Federal Funds Rate</th>\n",
       "      <th>Unemployment Rate</th>\n",
       "      <th>GDP</th>\n",
       "      <th>Inflation Rate</th>\n",
       "      <th>SP500</th>\n",
       "      <th>sp500_pct_change</th>\n",
       "      <th>gdp_pct_change</th>\n",
       "      <th>inflation_pct_change</th>\n",
       "      <th>unemployment_pct_change</th>\n",
       "      <th>fed_funds_rate_pct_change</th>\n",
       "      <th>sp500_quarter</th>\n",
       "      <th>sp500_yearly</th>\n",
       "      <th>sp500_volatility_quarter</th>\n",
       "      <th>sp500_volatility_yearly</th>\n",
       "      <th>crash</th>\n",
       "    </tr>\n",
       "    <tr>\n",
       "      <th>Date</th>\n",
       "      <th></th>\n",
       "      <th></th>\n",
       "      <th></th>\n",
       "      <th></th>\n",
       "      <th></th>\n",
       "      <th></th>\n",
       "      <th></th>\n",
       "      <th></th>\n",
       "      <th></th>\n",
       "      <th></th>\n",
       "      <th></th>\n",
       "      <th></th>\n",
       "      <th></th>\n",
       "      <th></th>\n",
       "      <th></th>\n",
       "    </tr>\n",
       "  </thead>\n",
       "  <tbody>\n",
       "    <tr>\n",
       "      <th>1976-01-01</th>\n",
       "      <td>5.37</td>\n",
       "      <td>7.9</td>\n",
       "      <td>1820.487</td>\n",
       "      <td>5.744813</td>\n",
       "      <td>96.859524</td>\n",
       "      <td>0.091985</td>\n",
       "      <td>0.033293</td>\n",
       "      <td>-0.371681</td>\n",
       "      <td>-0.036585</td>\n",
       "      <td>0.011299</td>\n",
       "      <td>91.875081</td>\n",
       "      <td>88.184867</td>\n",
       "      <td>0.054999</td>\n",
       "      <td>0.049154</td>\n",
       "      <td>0</td>\n",
       "    </tr>\n",
       "    <tr>\n",
       "      <th>1976-02-01</th>\n",
       "      <td>4.84</td>\n",
       "      <td>7.7</td>\n",
       "      <td>1820.487</td>\n",
       "      <td>5.744813</td>\n",
       "      <td>100.639474</td>\n",
       "      <td>0.039025</td>\n",
       "      <td>0.000000</td>\n",
       "      <td>0.000000</td>\n",
       "      <td>-0.025316</td>\n",
       "      <td>-0.098696</td>\n",
       "      <td>95.399817</td>\n",
       "      <td>89.896753</td>\n",
       "      <td>0.053570</td>\n",
       "      <td>0.042928</td>\n",
       "      <td>0</td>\n",
       "    </tr>\n",
       "    <tr>\n",
       "      <th>1976-03-01</th>\n",
       "      <td>5.21</td>\n",
       "      <td>7.6</td>\n",
       "      <td>1820.487</td>\n",
       "      <td>5.744813</td>\n",
       "      <td>101.084348</td>\n",
       "      <td>0.004420</td>\n",
       "      <td>0.000000</td>\n",
       "      <td>0.000000</td>\n",
       "      <td>-0.012987</td>\n",
       "      <td>0.076446</td>\n",
       "      <td>99.527782</td>\n",
       "      <td>91.334449</td>\n",
       "      <td>0.044101</td>\n",
       "      <td>0.042277</td>\n",
       "      <td>0</td>\n",
       "    </tr>\n",
       "    <tr>\n",
       "      <th>1976-04-01</th>\n",
       "      <td>4.83</td>\n",
       "      <td>7.7</td>\n",
       "      <td>1852.332</td>\n",
       "      <td>5.744813</td>\n",
       "      <td>101.929524</td>\n",
       "      <td>0.008361</td>\n",
       "      <td>0.017493</td>\n",
       "      <td>0.000000</td>\n",
       "      <td>0.013158</td>\n",
       "      <td>-0.072937</td>\n",
       "      <td>101.217782</td>\n",
       "      <td>92.768311</td>\n",
       "      <td>0.018944</td>\n",
       "      <td>0.042310</td>\n",
       "      <td>0</td>\n",
       "    </tr>\n",
       "    <tr>\n",
       "      <th>1976-05-01</th>\n",
       "      <td>5.10</td>\n",
       "      <td>7.4</td>\n",
       "      <td>1852.332</td>\n",
       "      <td>5.744813</td>\n",
       "      <td>101.161999</td>\n",
       "      <td>-0.007530</td>\n",
       "      <td>0.000000</td>\n",
       "      <td>0.000000</td>\n",
       "      <td>-0.038961</td>\n",
       "      <td>0.055901</td>\n",
       "      <td>101.391957</td>\n",
       "      <td>93.690462</td>\n",
       "      <td>0.008275</td>\n",
       "      <td>0.040030</td>\n",
       "      <td>0</td>\n",
       "    </tr>\n",
       "  </tbody>\n",
       "</table>\n",
       "</div>"
      ],
      "text/plain": [
       "            Federal Funds Rate  Unemployment Rate       GDP  Inflation Rate  \\\n",
       "Date                                                                          \n",
       "1976-01-01                5.37                7.9  1820.487        5.744813   \n",
       "1976-02-01                4.84                7.7  1820.487        5.744813   \n",
       "1976-03-01                5.21                7.6  1820.487        5.744813   \n",
       "1976-04-01                4.83                7.7  1852.332        5.744813   \n",
       "1976-05-01                5.10                7.4  1852.332        5.744813   \n",
       "\n",
       "                 SP500  sp500_pct_change  gdp_pct_change  \\\n",
       "Date                                                       \n",
       "1976-01-01   96.859524          0.091985        0.033293   \n",
       "1976-02-01  100.639474          0.039025        0.000000   \n",
       "1976-03-01  101.084348          0.004420        0.000000   \n",
       "1976-04-01  101.929524          0.008361        0.017493   \n",
       "1976-05-01  101.161999         -0.007530        0.000000   \n",
       "\n",
       "            inflation_pct_change  unemployment_pct_change  \\\n",
       "Date                                                        \n",
       "1976-01-01             -0.371681                -0.036585   \n",
       "1976-02-01              0.000000                -0.025316   \n",
       "1976-03-01              0.000000                -0.012987   \n",
       "1976-04-01              0.000000                 0.013158   \n",
       "1976-05-01              0.000000                -0.038961   \n",
       "\n",
       "            fed_funds_rate_pct_change  sp500_quarter  sp500_yearly  \\\n",
       "Date                                                                 \n",
       "1976-01-01                   0.011299      91.875081     88.184867   \n",
       "1976-02-01                  -0.098696      95.399817     89.896753   \n",
       "1976-03-01                   0.076446      99.527782     91.334449   \n",
       "1976-04-01                  -0.072937     101.217782     92.768311   \n",
       "1976-05-01                   0.055901     101.391957     93.690462   \n",
       "\n",
       "            sp500_volatility_quarter  sp500_volatility_yearly  crash  \n",
       "Date                                                                  \n",
       "1976-01-01                  0.054999                 0.049154      0  \n",
       "1976-02-01                  0.053570                 0.042928      0  \n",
       "1976-03-01                  0.044101                 0.042277      0  \n",
       "1976-04-01                  0.018944                 0.042310      0  \n",
       "1976-05-01                  0.008275                 0.040030      0  "
      ]
     },
     "execution_count": 10,
     "metadata": {},
     "output_type": "execute_result"
    }
   ],
   "source": [
    "#Show the first 5 rows of the data\n",
    "data.head()"
   ]
  },
  {
   "cell_type": "code",
   "execution_count": 11,
   "metadata": {},
   "outputs": [],
   "source": [
    "#Define the features and the target\n",
    "features = [\n",
    "    'sp500_pct_change', 'gdp_pct_change', 'inflation_pct_change', \n",
    "    'unemployment_pct_change', 'fed_funds_rate_pct_change',\n",
    "    'sp500_quarter', 'sp500_yearly', 'sp500_volatility_quarter', 'sp500_volatility_yearly'\n",
    "]\n",
    "\n",
    "X = data[features]\n",
    "y = data['crash']"
   ]
  },
  {
   "cell_type": "code",
   "execution_count": 12,
   "metadata": {},
   "outputs": [],
   "source": [
    "#Standardize the features\n",
    "scaler = StandardScaler()\n",
    "x_scaled = scaler.fit_transform(X)"
   ]
  },
  {
   "cell_type": "code",
   "execution_count": 13,
   "metadata": {},
   "outputs": [],
   "source": [
    "#SPlit the data into training from 1976 to 1986 and and testing the 1987 data\n",
    "train_start_date = '2010-01-01'\n",
    "train_end_date = '2019-12-01'\n",
    "\n",
    "train_data = data[(data.index >= train_start_date) & (data.index <= train_end_date)]\n",
    "test_data = data[(data.index >= '2020-01-01') & (data.index <= '2021-12-01')]\n",
    "\n",
    "X_train = scaler.fit_transform(train_data[features])\n",
    "y_train = train_data['crash']\n",
    "X_test = scaler.transform(test_data[features])\n",
    "y_test = test_data['crash']"
   ]
  },
  {
   "cell_type": "code",
   "execution_count": 14,
   "metadata": {},
   "outputs": [
    {
     "data": {
      "text/html": [
       "<style>#sk-container-id-1 {color: black;background-color: white;}#sk-container-id-1 pre{padding: 0;}#sk-container-id-1 div.sk-toggleable {background-color: white;}#sk-container-id-1 label.sk-toggleable__label {cursor: pointer;display: block;width: 100%;margin-bottom: 0;padding: 0.3em;box-sizing: border-box;text-align: center;}#sk-container-id-1 label.sk-toggleable__label-arrow:before {content: \"▸\";float: left;margin-right: 0.25em;color: #696969;}#sk-container-id-1 label.sk-toggleable__label-arrow:hover:before {color: black;}#sk-container-id-1 div.sk-estimator:hover label.sk-toggleable__label-arrow:before {color: black;}#sk-container-id-1 div.sk-toggleable__content {max-height: 0;max-width: 0;overflow: hidden;text-align: left;background-color: #f0f8ff;}#sk-container-id-1 div.sk-toggleable__content pre {margin: 0.2em;color: black;border-radius: 0.25em;background-color: #f0f8ff;}#sk-container-id-1 input.sk-toggleable__control:checked~div.sk-toggleable__content {max-height: 200px;max-width: 100%;overflow: auto;}#sk-container-id-1 input.sk-toggleable__control:checked~label.sk-toggleable__label-arrow:before {content: \"▾\";}#sk-container-id-1 div.sk-estimator input.sk-toggleable__control:checked~label.sk-toggleable__label {background-color: #d4ebff;}#sk-container-id-1 div.sk-label input.sk-toggleable__control:checked~label.sk-toggleable__label {background-color: #d4ebff;}#sk-container-id-1 input.sk-hidden--visually {border: 0;clip: rect(1px 1px 1px 1px);clip: rect(1px, 1px, 1px, 1px);height: 1px;margin: -1px;overflow: hidden;padding: 0;position: absolute;width: 1px;}#sk-container-id-1 div.sk-estimator {font-family: monospace;background-color: #f0f8ff;border: 1px dotted black;border-radius: 0.25em;box-sizing: border-box;margin-bottom: 0.5em;}#sk-container-id-1 div.sk-estimator:hover {background-color: #d4ebff;}#sk-container-id-1 div.sk-parallel-item::after {content: \"\";width: 100%;border-bottom: 1px solid gray;flex-grow: 1;}#sk-container-id-1 div.sk-label:hover label.sk-toggleable__label {background-color: #d4ebff;}#sk-container-id-1 div.sk-serial::before {content: \"\";position: absolute;border-left: 1px solid gray;box-sizing: border-box;top: 0;bottom: 0;left: 50%;z-index: 0;}#sk-container-id-1 div.sk-serial {display: flex;flex-direction: column;align-items: center;background-color: white;padding-right: 0.2em;padding-left: 0.2em;position: relative;}#sk-container-id-1 div.sk-item {position: relative;z-index: 1;}#sk-container-id-1 div.sk-parallel {display: flex;align-items: stretch;justify-content: center;background-color: white;position: relative;}#sk-container-id-1 div.sk-item::before, #sk-container-id-1 div.sk-parallel-item::before {content: \"\";position: absolute;border-left: 1px solid gray;box-sizing: border-box;top: 0;bottom: 0;left: 50%;z-index: -1;}#sk-container-id-1 div.sk-parallel-item {display: flex;flex-direction: column;z-index: 1;position: relative;background-color: white;}#sk-container-id-1 div.sk-parallel-item:first-child::after {align-self: flex-end;width: 50%;}#sk-container-id-1 div.sk-parallel-item:last-child::after {align-self: flex-start;width: 50%;}#sk-container-id-1 div.sk-parallel-item:only-child::after {width: 0;}#sk-container-id-1 div.sk-dashed-wrapped {border: 1px dashed gray;margin: 0 0.4em 0.5em 0.4em;box-sizing: border-box;padding-bottom: 0.4em;background-color: white;}#sk-container-id-1 div.sk-label label {font-family: monospace;font-weight: bold;display: inline-block;line-height: 1.2em;}#sk-container-id-1 div.sk-label-container {text-align: center;}#sk-container-id-1 div.sk-container {/* jupyter's `normalize.less` sets `[hidden] { display: none; }` but bootstrap.min.css set `[hidden] { display: none !important; }` so we also need the `!important` here to be able to override the default hidden behavior on the sphinx rendered scikit-learn.org. See: https://github.com/scikit-learn/scikit-learn/issues/21755 */display: inline-block !important;position: relative;}#sk-container-id-1 div.sk-text-repr-fallback {display: none;}</style><div id=\"sk-container-id-1\" class=\"sk-top-container\"><div class=\"sk-text-repr-fallback\"><pre>LogisticRegression()</pre><b>In a Jupyter environment, please rerun this cell to show the HTML representation or trust the notebook. <br />On GitHub, the HTML representation is unable to render, please try loading this page with nbviewer.org.</b></div><div class=\"sk-container\" hidden><div class=\"sk-item\"><div class=\"sk-estimator sk-toggleable\"><input class=\"sk-toggleable__control sk-hidden--visually\" id=\"sk-estimator-id-1\" type=\"checkbox\" checked><label for=\"sk-estimator-id-1\" class=\"sk-toggleable__label sk-toggleable__label-arrow\">LogisticRegression</label><div class=\"sk-toggleable__content\"><pre>LogisticRegression()</pre></div></div></div></div></div>"
      ],
      "text/plain": [
       "LogisticRegression()"
      ]
     },
     "execution_count": 14,
     "metadata": {},
     "output_type": "execute_result"
    }
   ],
   "source": [
    "#Create a logistic regression model\n",
    "model = LogisticRegression()\n",
    "\n",
    "#Fit the model to the training data\n",
    "model.fit(X_train, y_train)"
   ]
  },
  {
   "cell_type": "code",
   "execution_count": 15,
   "metadata": {},
   "outputs": [
    {
     "name": "stdout",
     "output_type": "stream",
     "text": [
      "              precision    recall  f1-score   support\n",
      "\n",
      "           0       1.00      0.96      0.98        23\n",
      "           1       0.50      1.00      0.67         1\n",
      "\n",
      "    accuracy                           0.96        24\n",
      "   macro avg       0.75      0.98      0.82        24\n",
      "weighted avg       0.98      0.96      0.96        24\n",
      "\n"
     ]
    }
   ],
   "source": [
    "#Make predictions on the testing data\n",
    "y_pred = model.predict(X_test)\n",
    "\n",
    "#Print the classification report\n",
    "print(classification_report(y_test, y_pred))"
   ]
  },
  {
   "cell_type": "code",
   "execution_count": 16,
   "metadata": {},
   "outputs": [],
   "source": [
    "#Show the coefficients of the model\n",
    "coefficients = pd.DataFrame({\n",
    "\t'Variable': features,\n",
    "\t'Coefficient': model.coef_[0]\n",
    "})\n",
    "\n",
    "#Transform the coefficients into absolute values\n",
    "coefficients['Coefficient'] = coefficients['Coefficient'].abs()"
   ]
  },
  {
   "cell_type": "code",
   "execution_count": 17,
   "metadata": {},
   "outputs": [
    {
     "name": "stdout",
     "output_type": "stream",
     "text": [
      "                    Variable  Coefficient\n",
<<<<<<< HEAD
      "0           sp500_pct_change     1.764696\n",
      "1             gdp_pct_change     0.349299\n",
      "2       inflation_pct_change     0.021158\n",
      "3    unemployment_pct_change     0.065704\n",
      "4  fed_funds_rate_pct_change     0.192824\n",
      "5              sp500_quarter     0.173619\n",
      "6               sp500_yearly     0.289815\n",
      "7   sp500_volatility_quarter     0.377890\n",
      "8    sp500_volatility_yearly     0.979962\n"
=======
      "0           sp500_pct_change     0.920302\n",
      "1             gdp_pct_change     0.065277\n",
      "2       inflation_pct_change     0.117711\n",
      "3    unemployment_pct_change     0.147955\n",
      "4  fed_funds_rate_pct_change     0.482528\n",
      "5              sp500_quarter     0.126806\n",
      "6               sp500_yearly     0.093351\n",
      "7   sp500_volatility_quarter     0.643163\n",
      "8    sp500_volatility_yearly     0.225368\n"
>>>>>>> d00de40815a12569c179e8ae68e167800820a731
     ]
    }
   ],
   "source": [
    "#Print the coefficients\n",
    "print(coefficients)"
   ]
  },
  {
   "cell_type": "code",
   "execution_count": 18,
   "metadata": {},
   "outputs": [
    {
     "data": {
      "application/vnd.plotly.v1+json": {
       "config": {
        "plotlyServerURL": "https://plot.ly"
       },
       "data": [
        {
         "hovertemplate": "Date=%{x}<br>S&P 500 % Change=%{y}<br>Crash Probability=%{marker.color}<extra></extra>",
         "legendgroup": "",
         "marker": {
          "color": [
           0.0016686148220223752,
           0.011301504748267119,
           0.0068185907828991876,
           0.012822352980447134,
           0.00382592769748234,
           0.002452088528912063,
           0.002791069535863653,
           0.0017761710809658523,
           0.006338971837031432,
           0.003276856609182338,
           0.002043280763458673,
           0.010908558182886616,
           0.0029811870425581403,
           0.0049875642423312695,
           0.0015156848818606722,
           0.0019927580702559316,
           0.001225004289012234,
           0.0027263114887561574,
           0.7605529738369416,
           0.022218204523946072,
           0.020140179979621756,
           0.0012630439411620282,
           0.0032979016363361203,
           0.0014826522002310703,
           0.008699190780254343,
           0.005272728712777763,
           0.0024975489394267946,
           0.001892485045950232,
           0.002097300976766575,
           0.0023612867337645064,
           0.0016114857209774986,
           0.0007507987519177531,
           0.0022689845206869414,
           0.001605933139618931,
           0.000878335530042073,
           0.0008331920279960011,
           0.0016006263410981041,
           0.0014039338870703506,
           0.000658136968548844,
           0.0016756505484157443,
           0.003558248331130535,
           0.003055493228918001,
           0.001751599840404901,
           0.0016078759612147787,
           0.01838402916364217,
           0.006865519770705857,
           0.003198260237963215,
           0.0010545596986110601,
           0.03402107740079761
          ],
          "coloraxis": "coloraxis",
          "symbol": "circle"
         },
         "mode": "markers",
         "name": "",
         "orientation": "v",
         "showlegend": false,
         "type": "scatter",
         "x": [
          "2018-09-01T00:00:00",
          "2018-10-01T00:00:00",
          "2018-11-01T00:00:00",
          "2018-12-01T00:00:00",
          "2019-01-01T00:00:00",
          "2019-02-01T00:00:00",
          "2019-03-01T00:00:00",
          "2019-04-01T00:00:00",
          "2019-05-01T00:00:00",
          "2019-06-01T00:00:00",
          "2019-07-01T00:00:00",
          "2019-08-01T00:00:00",
          "2019-09-01T00:00:00",
          "2019-10-01T00:00:00",
          "2019-11-01T00:00:00",
          "2019-12-01T00:00:00",
          "2020-01-01T00:00:00",
          "2020-02-01T00:00:00",
          "2020-03-01T00:00:00",
          "2020-04-01T00:00:00",
          "2020-05-01T00:00:00",
          "2020-06-01T00:00:00",
          "2020-07-01T00:00:00",
          "2020-08-01T00:00:00",
          "2020-09-01T00:00:00",
          "2020-10-01T00:00:00",
          "2020-11-01T00:00:00",
          "2020-12-01T00:00:00",
          "2021-01-01T00:00:00",
          "2021-02-01T00:00:00",
          "2021-03-01T00:00:00",
          "2021-04-01T00:00:00",
          "2021-05-01T00:00:00",
          "2021-06-01T00:00:00",
          "2021-07-01T00:00:00",
          "2021-08-01T00:00:00",
          "2021-09-01T00:00:00",
          "2021-10-01T00:00:00",
          "2021-11-01T00:00:00",
          "2021-12-01T00:00:00",
          "2022-01-01T00:00:00",
          "2022-02-01T00:00:00",
          "2022-03-01T00:00:00",
          "2022-04-01T00:00:00",
          "2022-05-01T00:00:00",
          "2022-06-01T00:00:00",
          "2022-07-01T00:00:00",
          "2022-08-01T00:00:00",
          "2022-09-01T00:00:00"
         ],
         "xaxis": "x",
         "y": [
          0.01528440495074146,
          -0.03999162962750802,
          -0.022342180897639285,
          -0.05725699068447987,
          0.015612704397469424,
          0.056560088579945766,
          0.017830130132713284,
          0.0355979893980396,
          -0.01690683552754113,
          0.012421618791573552,
          0.03665798370384432,
          -0.03293038842577323,
          0.02923451384400977,
          -0.001502539912435541,
          0.042727727611666655,
          0.023139204349771347,
          0.0319362120037745,
          -0.0002710858238875735,
          -0.1906806964385388,
          0.04131422720728262,
          0.057072654703663295,
          0.06338262482646662,
          0.03316245006929086,
          0.05739176545197,
          -0.007722755660717562,
          0.01580242483936467,
          0.03811170476404624,
          0.04122790750925187,
          0.026638744185808694,
          0.023639860495639375,
          0.006972225259954223,
          0.05898668503819171,
          0.006441004938998907,
          0.016948790880551234,
          0.02954431051617923,
          0.02068264751880733,
          -0.0018910368631307461,
          0.0034110026936158278,
          0.04633336545978084,
          0.0015824964207724612,
          -0.021596197824280017,
          -0.03013566267282297,
          -0.010080123302728894,
          0.000006998437906746702,
          -0.0799162692780776,
          -0.03500017779473197,
          0.003278528506442946,
          0.06310088469052211,
          -0.0740742851363031
         ],
         "yaxis": "y"
        },
        {
         "marker": {
          "color": "red",
          "size": 10,
          "symbol": "x"
         },
         "mode": "markers",
         "name": "Actual Crash",
         "type": "scatter",
         "x": [
          "2020-03-01T00:00:00"
         ],
         "y": [
          -0.1906806964385388
         ]
        }
       ],
       "layout": {
        "coloraxis": {
         "colorbar": {
          "title": {
           "text": "Crash Probability"
          }
         },
         "colorscale": [
          [
           0,
           "#440154"
          ],
          [
           0.1111111111111111,
           "#482878"
          ],
          [
           0.2222222222222222,
           "#3e4989"
          ],
          [
           0.3333333333333333,
           "#31688e"
          ],
          [
           0.4444444444444444,
           "#26828e"
          ],
          [
           0.5555555555555556,
           "#1f9e89"
          ],
          [
           0.6666666666666666,
           "#35b779"
          ],
          [
           0.7777777777777778,
           "#6ece58"
          ],
          [
           0.8888888888888888,
           "#b5de2b"
          ],
          [
           1,
           "#fde725"
          ]
         ]
        },
        "legend": {
         "tracegroupgap": 0
        },
        "template": {
         "data": {
          "bar": [
           {
            "error_x": {
             "color": "#f2f5fa"
            },
            "error_y": {
             "color": "#f2f5fa"
            },
            "marker": {
             "line": {
              "color": "rgb(17,17,17)",
              "width": 0.5
             },
             "pattern": {
              "fillmode": "overlay",
              "size": 10,
              "solidity": 0.2
             }
            },
            "type": "bar"
           }
          ],
          "barpolar": [
           {
            "marker": {
             "line": {
              "color": "rgb(17,17,17)",
              "width": 0.5
             },
             "pattern": {
              "fillmode": "overlay",
              "size": 10,
              "solidity": 0.2
             }
            },
            "type": "barpolar"
           }
          ],
          "carpet": [
           {
            "aaxis": {
             "endlinecolor": "#A2B1C6",
             "gridcolor": "#506784",
             "linecolor": "#506784",
             "minorgridcolor": "#506784",
             "startlinecolor": "#A2B1C6"
            },
            "baxis": {
             "endlinecolor": "#A2B1C6",
             "gridcolor": "#506784",
             "linecolor": "#506784",
             "minorgridcolor": "#506784",
             "startlinecolor": "#A2B1C6"
            },
            "type": "carpet"
           }
          ],
          "choropleth": [
           {
            "colorbar": {
             "outlinewidth": 0,
             "ticks": ""
            },
            "type": "choropleth"
           }
          ],
          "contour": [
           {
            "colorbar": {
             "outlinewidth": 0,
             "ticks": ""
            },
            "colorscale": [
             [
              0,
              "#0d0887"
             ],
             [
              0.1111111111111111,
              "#46039f"
             ],
             [
              0.2222222222222222,
              "#7201a8"
             ],
             [
              0.3333333333333333,
              "#9c179e"
             ],
             [
              0.4444444444444444,
              "#bd3786"
             ],
             [
              0.5555555555555556,
              "#d8576b"
             ],
             [
              0.6666666666666666,
              "#ed7953"
             ],
             [
              0.7777777777777778,
              "#fb9f3a"
             ],
             [
              0.8888888888888888,
              "#fdca26"
             ],
             [
              1,
              "#f0f921"
             ]
            ],
            "type": "contour"
           }
          ],
          "contourcarpet": [
           {
            "colorbar": {
             "outlinewidth": 0,
             "ticks": ""
            },
            "type": "contourcarpet"
           }
          ],
          "heatmap": [
           {
            "colorbar": {
             "outlinewidth": 0,
             "ticks": ""
            },
            "colorscale": [
             [
              0,
              "#0d0887"
             ],
             [
              0.1111111111111111,
              "#46039f"
             ],
             [
              0.2222222222222222,
              "#7201a8"
             ],
             [
              0.3333333333333333,
              "#9c179e"
             ],
             [
              0.4444444444444444,
              "#bd3786"
             ],
             [
              0.5555555555555556,
              "#d8576b"
             ],
             [
              0.6666666666666666,
              "#ed7953"
             ],
             [
              0.7777777777777778,
              "#fb9f3a"
             ],
             [
              0.8888888888888888,
              "#fdca26"
             ],
             [
              1,
              "#f0f921"
             ]
            ],
            "type": "heatmap"
           }
          ],
          "heatmapgl": [
           {
            "colorbar": {
             "outlinewidth": 0,
             "ticks": ""
            },
            "colorscale": [
             [
              0,
              "#0d0887"
             ],
             [
              0.1111111111111111,
              "#46039f"
             ],
             [
              0.2222222222222222,
              "#7201a8"
             ],
             [
              0.3333333333333333,
              "#9c179e"
             ],
             [
              0.4444444444444444,
              "#bd3786"
             ],
             [
              0.5555555555555556,
              "#d8576b"
             ],
             [
              0.6666666666666666,
              "#ed7953"
             ],
             [
              0.7777777777777778,
              "#fb9f3a"
             ],
             [
              0.8888888888888888,
              "#fdca26"
             ],
             [
              1,
              "#f0f921"
             ]
            ],
            "type": "heatmapgl"
           }
          ],
          "histogram": [
           {
            "marker": {
             "pattern": {
              "fillmode": "overlay",
              "size": 10,
              "solidity": 0.2
             }
            },
            "type": "histogram"
           }
          ],
          "histogram2d": [
           {
            "colorbar": {
             "outlinewidth": 0,
             "ticks": ""
            },
            "colorscale": [
             [
              0,
              "#0d0887"
             ],
             [
              0.1111111111111111,
              "#46039f"
             ],
             [
              0.2222222222222222,
              "#7201a8"
             ],
             [
              0.3333333333333333,
              "#9c179e"
             ],
             [
              0.4444444444444444,
              "#bd3786"
             ],
             [
              0.5555555555555556,
              "#d8576b"
             ],
             [
              0.6666666666666666,
              "#ed7953"
             ],
             [
              0.7777777777777778,
              "#fb9f3a"
             ],
             [
              0.8888888888888888,
              "#fdca26"
             ],
             [
              1,
              "#f0f921"
             ]
            ],
            "type": "histogram2d"
           }
          ],
          "histogram2dcontour": [
           {
            "colorbar": {
             "outlinewidth": 0,
             "ticks": ""
            },
            "colorscale": [
             [
              0,
              "#0d0887"
             ],
             [
              0.1111111111111111,
              "#46039f"
             ],
             [
              0.2222222222222222,
              "#7201a8"
             ],
             [
              0.3333333333333333,
              "#9c179e"
             ],
             [
              0.4444444444444444,
              "#bd3786"
             ],
             [
              0.5555555555555556,
              "#d8576b"
             ],
             [
              0.6666666666666666,
              "#ed7953"
             ],
             [
              0.7777777777777778,
              "#fb9f3a"
             ],
             [
              0.8888888888888888,
              "#fdca26"
             ],
             [
              1,
              "#f0f921"
             ]
            ],
            "type": "histogram2dcontour"
           }
          ],
          "mesh3d": [
           {
            "colorbar": {
             "outlinewidth": 0,
             "ticks": ""
            },
            "type": "mesh3d"
           }
          ],
          "parcoords": [
           {
            "line": {
             "colorbar": {
              "outlinewidth": 0,
              "ticks": ""
             }
            },
            "type": "parcoords"
           }
          ],
          "pie": [
           {
            "automargin": true,
            "type": "pie"
           }
          ],
          "scatter": [
           {
            "marker": {
             "line": {
              "color": "#283442"
             }
            },
            "type": "scatter"
           }
          ],
          "scatter3d": [
           {
            "line": {
             "colorbar": {
              "outlinewidth": 0,
              "ticks": ""
             }
            },
            "marker": {
             "colorbar": {
              "outlinewidth": 0,
              "ticks": ""
             }
            },
            "type": "scatter3d"
           }
          ],
          "scattercarpet": [
           {
            "marker": {
             "colorbar": {
              "outlinewidth": 0,
              "ticks": ""
             }
            },
            "type": "scattercarpet"
           }
          ],
          "scattergeo": [
           {
            "marker": {
             "colorbar": {
              "outlinewidth": 0,
              "ticks": ""
             }
            },
            "type": "scattergeo"
           }
          ],
          "scattergl": [
           {
            "marker": {
             "line": {
              "color": "#283442"
             }
            },
            "type": "scattergl"
           }
          ],
          "scattermapbox": [
           {
            "marker": {
             "colorbar": {
              "outlinewidth": 0,
              "ticks": ""
             }
            },
            "type": "scattermapbox"
           }
          ],
          "scatterpolar": [
           {
            "marker": {
             "colorbar": {
              "outlinewidth": 0,
              "ticks": ""
             }
            },
            "type": "scatterpolar"
           }
          ],
          "scatterpolargl": [
           {
            "marker": {
             "colorbar": {
              "outlinewidth": 0,
              "ticks": ""
             }
            },
            "type": "scatterpolargl"
           }
          ],
          "scatterternary": [
           {
            "marker": {
             "colorbar": {
              "outlinewidth": 0,
              "ticks": ""
             }
            },
            "type": "scatterternary"
           }
          ],
          "surface": [
           {
            "colorbar": {
             "outlinewidth": 0,
             "ticks": ""
            },
            "colorscale": [
             [
              0,
              "#0d0887"
             ],
             [
              0.1111111111111111,
              "#46039f"
             ],
             [
              0.2222222222222222,
              "#7201a8"
             ],
             [
              0.3333333333333333,
              "#9c179e"
             ],
             [
              0.4444444444444444,
              "#bd3786"
             ],
             [
              0.5555555555555556,
              "#d8576b"
             ],
             [
              0.6666666666666666,
              "#ed7953"
             ],
             [
              0.7777777777777778,
              "#fb9f3a"
             ],
             [
              0.8888888888888888,
              "#fdca26"
             ],
             [
              1,
              "#f0f921"
             ]
            ],
            "type": "surface"
           }
          ],
          "table": [
           {
            "cells": {
             "fill": {
              "color": "#506784"
             },
             "line": {
              "color": "rgb(17,17,17)"
             }
            },
            "header": {
             "fill": {
              "color": "#2a3f5f"
             },
             "line": {
              "color": "rgb(17,17,17)"
             }
            },
            "type": "table"
           }
          ]
         },
         "layout": {
          "annotationdefaults": {
           "arrowcolor": "#f2f5fa",
           "arrowhead": 0,
           "arrowwidth": 1
          },
          "autotypenumbers": "strict",
          "coloraxis": {
           "colorbar": {
            "outlinewidth": 0,
            "ticks": ""
           }
          },
          "colorscale": {
           "diverging": [
            [
             0,
             "#8e0152"
            ],
            [
             0.1,
             "#c51b7d"
            ],
            [
             0.2,
             "#de77ae"
            ],
            [
             0.3,
             "#f1b6da"
            ],
            [
             0.4,
             "#fde0ef"
            ],
            [
             0.5,
             "#f7f7f7"
            ],
            [
             0.6,
             "#e6f5d0"
            ],
            [
             0.7,
             "#b8e186"
            ],
            [
             0.8,
             "#7fbc41"
            ],
            [
             0.9,
             "#4d9221"
            ],
            [
             1,
             "#276419"
            ]
           ],
           "sequential": [
            [
             0,
             "#0d0887"
            ],
            [
             0.1111111111111111,
             "#46039f"
            ],
            [
             0.2222222222222222,
             "#7201a8"
            ],
            [
             0.3333333333333333,
             "#9c179e"
            ],
            [
             0.4444444444444444,
             "#bd3786"
            ],
            [
             0.5555555555555556,
             "#d8576b"
            ],
            [
             0.6666666666666666,
             "#ed7953"
            ],
            [
             0.7777777777777778,
             "#fb9f3a"
            ],
            [
             0.8888888888888888,
             "#fdca26"
            ],
            [
             1,
             "#f0f921"
            ]
           ],
           "sequentialminus": [
            [
             0,
             "#0d0887"
            ],
            [
             0.1111111111111111,
             "#46039f"
            ],
            [
             0.2222222222222222,
             "#7201a8"
            ],
            [
             0.3333333333333333,
             "#9c179e"
            ],
            [
             0.4444444444444444,
             "#bd3786"
            ],
            [
             0.5555555555555556,
             "#d8576b"
            ],
            [
             0.6666666666666666,
             "#ed7953"
            ],
            [
             0.7777777777777778,
             "#fb9f3a"
            ],
            [
             0.8888888888888888,
             "#fdca26"
            ],
            [
             1,
             "#f0f921"
            ]
           ]
          },
          "colorway": [
           "#636efa",
           "#EF553B",
           "#00cc96",
           "#ab63fa",
           "#FFA15A",
           "#19d3f3",
           "#FF6692",
           "#B6E880",
           "#FF97FF",
           "#FECB52"
          ],
          "font": {
           "color": "#f2f5fa"
          },
          "geo": {
           "bgcolor": "rgb(17,17,17)",
           "lakecolor": "rgb(17,17,17)",
           "landcolor": "rgb(17,17,17)",
           "showlakes": true,
           "showland": true,
           "subunitcolor": "#506784"
          },
          "hoverlabel": {
           "align": "left"
          },
          "hovermode": "closest",
          "mapbox": {
           "style": "dark"
          },
          "paper_bgcolor": "rgb(17,17,17)",
          "plot_bgcolor": "rgb(17,17,17)",
          "polar": {
           "angularaxis": {
            "gridcolor": "#506784",
            "linecolor": "#506784",
            "ticks": ""
           },
           "bgcolor": "rgb(17,17,17)",
           "radialaxis": {
            "gridcolor": "#506784",
            "linecolor": "#506784",
            "ticks": ""
           }
          },
          "scene": {
           "xaxis": {
            "backgroundcolor": "rgb(17,17,17)",
            "gridcolor": "#506784",
            "gridwidth": 2,
            "linecolor": "#506784",
            "showbackground": true,
            "ticks": "",
            "zerolinecolor": "#C8D4E3"
           },
           "yaxis": {
            "backgroundcolor": "rgb(17,17,17)",
            "gridcolor": "#506784",
            "gridwidth": 2,
            "linecolor": "#506784",
            "showbackground": true,
            "ticks": "",
            "zerolinecolor": "#C8D4E3"
           },
           "zaxis": {
            "backgroundcolor": "rgb(17,17,17)",
            "gridcolor": "#506784",
            "gridwidth": 2,
            "linecolor": "#506784",
            "showbackground": true,
            "ticks": "",
            "zerolinecolor": "#C8D4E3"
           }
          },
          "shapedefaults": {
           "line": {
            "color": "#f2f5fa"
           }
          },
          "sliderdefaults": {
           "bgcolor": "#C8D4E3",
           "bordercolor": "rgb(17,17,17)",
           "borderwidth": 1,
           "tickwidth": 0
          },
          "ternary": {
           "aaxis": {
            "gridcolor": "#506784",
            "linecolor": "#506784",
            "ticks": ""
           },
           "baxis": {
            "gridcolor": "#506784",
            "linecolor": "#506784",
            "ticks": ""
           },
           "bgcolor": "rgb(17,17,17)",
           "caxis": {
            "gridcolor": "#506784",
            "linecolor": "#506784",
            "ticks": ""
           }
          },
          "title": {
           "x": 0.05
          },
          "updatemenudefaults": {
           "bgcolor": "#506784",
           "borderwidth": 0
          },
          "xaxis": {
           "automargin": true,
           "gridcolor": "#283442",
           "linecolor": "#506784",
           "ticks": "",
           "title": {
            "standoff": 15
           },
           "zerolinecolor": "#283442",
           "zerolinewidth": 2
          },
          "yaxis": {
           "automargin": true,
           "gridcolor": "#283442",
           "linecolor": "#506784",
           "ticks": "",
           "title": {
            "standoff": 15
           },
           "zerolinecolor": "#283442",
           "zerolinewidth": 2
          }
         }
        },
        "title": {
         "text": "Market Crash Probability around Selected Date"
        },
        "xaxis": {
         "anchor": "y",
         "domain": [
          0,
          1
         ],
         "title": {
          "text": "Date"
         }
        },
        "yaxis": {
         "anchor": "x",
         "domain": [
          0,
          1
         ],
         "title": {
          "text": "S&P 500 % Change"
         }
        }
       }
      }
     },
     "metadata": {},
     "output_type": "display_data"
    }
   ],
   "source": [
    "import pandas as pd\n",
    "import plotly.express as px\n",
    "import plotly.graph_objects as go\n",
    "from sklearn.linear_model import LogisticRegression\n",
    "from sklearn.preprocessing import StandardScaler\n",
    "\n",
    "# Define the date to analyze\n",
    "target_date = '2020-09-01'  \n",
    "\n",
    "# Function to get a 5-year window around the specified date\n",
    "def get_5yr_window_single(data, target_date):\n",
    "    start_date = pd.to_datetime(target_date) - pd.DateOffset(years=2)\n",
    "    end_date = pd.to_datetime(target_date) + pd.DateOffset(years=2)\n",
    "    return data[(data.index >= start_date) & (data.index <= end_date)]\n",
    "\n",
    "# Apply the 5-year window function to get data around the target date\n",
    "crash_data = get_5yr_window_single(data, target_date)\n",
    "\n",
    "# Define features and target for the current window\n",
    "X = crash_data[features]\n",
    "y = crash_data['crash']\n",
    "\n",
    "# Standardize features\n",
    "scaler = StandardScaler()\n",
    "X_scaled = scaler.fit_transform(X)\n",
    "\n",
    "# Train the model on this window's data\n",
    "model = LogisticRegression()\n",
    "model.fit(X_scaled, y)\n",
    "\n",
    "# Predict probabilities for the specified window\n",
    "y_prob = model.predict_proba(X_scaled)[:, 1]\n",
    "\n",
    "# Ensure crash_data and predictions match in length\n",
    "crash_data = crash_data.copy()  # To avoid modifying the original DataFrame\n",
    "crash_data['crash_probability'] = y_prob  # This should now match lengths\n",
    "crash_data['Date'] = crash_data.index\n",
    "\n",
    "# Plot the results with Plotly\n",
    "fig = px.scatter(crash_data, x='Date', y='sp500_pct_change', color='crash_probability',\n",
    "                 title='Market Crash Probability around Selected Date',\n",
    "                 labels={'crash_probability': 'Crash Probability', 'sp500_pct_change': 'S&P 500 % Change'},\n",
    "                 color_continuous_scale='Viridis')\n",
    "\n",
    "# Add markers for actual crashes within this window\n",
    "fig.add_trace(go.Scatter(x=crash_data[crash_data['crash'] == 1]['Date'],\n",
    "                         y=crash_data[crash_data['crash'] == 1]['sp500_pct_change'],\n",
    "                         mode='markers',\n",
    "                         name='Actual Crash',\n",
    "                         marker=dict(symbol='x', color='red', size=10)))\n",
    "\n",
    "# Update layout for clarity\n",
    "fig.update_layout(coloraxis_colorbar=dict(title='Crash Probability'),\n",
    "                  xaxis_title='Date',\n",
    "                  yaxis_title='S&P 500 % Change',\n",
    "                  template='plotly_dark')\n",
    "\n",
    "# Show the interactive plot\n",
    "fig.show()\n"
   ]
  }
 ],
 "metadata": {
  "kernelspec": {
   "display_name": "Python 3.10 (dev)",
   "language": "python",
   "name": "dev"
  },
  "language_info": {
   "codemirror_mode": {
    "name": "ipython",
    "version": 3
   },
   "file_extension": ".py",
   "mimetype": "text/x-python",
   "name": "python",
   "nbconvert_exporter": "python",
   "pygments_lexer": "ipython3",
   "version": "3.10.13"
  }
 },
 "nbformat": 4,
 "nbformat_minor": 2
}
