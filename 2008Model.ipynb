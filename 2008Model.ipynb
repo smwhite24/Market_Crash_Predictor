{
 "cells": [
  {
   "cell_type": "code",
   "execution_count": 1,
   "metadata": {},
   "outputs": [],
   "source": [
    "import pandas as pd\n",
    "from sklearn.model_selection import train_test_split\n",
    "from sklearn.preprocessing import StandardScaler\n",
    "from sklearn.linear_model import LogisticRegression\n",
    "from sklearn.metrics import classification_report"
   ]
  },
  {
   "cell_type": "code",
   "execution_count": 2,
   "metadata": {},
   "outputs": [],
   "source": [
    "#load the data from the csv file\n",
    "data = pd.read_csv('../Market_Crash_Predictor/cleaned_data/final_standardized_data.csv')\n"
   ]
  },
  {
   "cell_type": "code",
   "execution_count": 3,
   "metadata": {},
   "outputs": [
    {
     "data": {
      "text/html": [
       "<div>\n",
       "<style scoped>\n",
       "    .dataframe tbody tr th:only-of-type {\n",
       "        vertical-align: middle;\n",
       "    }\n",
       "\n",
       "    .dataframe tbody tr th {\n",
       "        vertical-align: top;\n",
       "    }\n",
       "\n",
       "    .dataframe thead th {\n",
       "        text-align: right;\n",
       "    }\n",
       "</style>\n",
       "<table border=\"1\" class=\"dataframe\">\n",
       "  <thead>\n",
       "    <tr style=\"text-align: right;\">\n",
       "      <th></th>\n",
       "      <th>Date</th>\n",
       "      <th>Federal Funds Rate</th>\n",
       "      <th>Unemployment Rate</th>\n",
       "      <th>GDP</th>\n",
       "      <th>Inflation Rate</th>\n",
       "      <th>SP500</th>\n",
       "    </tr>\n",
       "  </thead>\n",
       "  <tbody>\n",
       "    <tr>\n",
       "      <th>0</th>\n",
       "      <td>1975-01-01</td>\n",
       "      <td>3.87</td>\n",
       "      <td>8.1</td>\n",
       "      <td>1616.116</td>\n",
       "      <td>9.143147</td>\n",
       "      <td>72.564091</td>\n",
       "    </tr>\n",
       "    <tr>\n",
       "      <th>1</th>\n",
       "      <td>1975-02-01</td>\n",
       "      <td>6.76</td>\n",
       "      <td>8.1</td>\n",
       "      <td>1616.116</td>\n",
       "      <td>9.143147</td>\n",
       "      <td>80.096842</td>\n",
       "    </tr>\n",
       "    <tr>\n",
       "      <th>2</th>\n",
       "      <td>1975-03-01</td>\n",
       "      <td>6.07</td>\n",
       "      <td>8.6</td>\n",
       "      <td>1616.116</td>\n",
       "      <td>9.143147</td>\n",
       "      <td>83.831999</td>\n",
       "    </tr>\n",
       "    <tr>\n",
       "      <th>3</th>\n",
       "      <td>1975-04-01</td>\n",
       "      <td>5.48</td>\n",
       "      <td>8.8</td>\n",
       "      <td>1651.853</td>\n",
       "      <td>9.143147</td>\n",
       "      <td>84.723182</td>\n",
       "    </tr>\n",
       "    <tr>\n",
       "      <th>4</th>\n",
       "      <td>1975-05-01</td>\n",
       "      <td>5.55</td>\n",
       "      <td>9.0</td>\n",
       "      <td>1651.853</td>\n",
       "      <td>9.143147</td>\n",
       "      <td>90.096190</td>\n",
       "    </tr>\n",
       "  </tbody>\n",
       "</table>\n",
       "</div>"
      ],
      "text/plain": [
       "         Date  Federal Funds Rate  Unemployment Rate       GDP  \\\n",
       "0  1975-01-01                3.87                8.1  1616.116   \n",
       "1  1975-02-01                6.76                8.1  1616.116   \n",
       "2  1975-03-01                6.07                8.6  1616.116   \n",
       "3  1975-04-01                5.48                8.8  1651.853   \n",
       "4  1975-05-01                5.55                9.0  1651.853   \n",
       "\n",
       "   Inflation Rate      SP500  \n",
       "0        9.143147  72.564091  \n",
       "1        9.143147  80.096842  \n",
       "2        9.143147  83.831999  \n",
       "3        9.143147  84.723182  \n",
       "4        9.143147  90.096190  "
      ]
     },
     "execution_count": 3,
     "metadata": {},
     "output_type": "execute_result"
    }
   ],
   "source": [
    "#Show the first 5 rows of the data\n",
    "data.head()"
   ]
  },
  {
   "cell_type": "code",
   "execution_count": 4,
   "metadata": {},
   "outputs": [],
   "source": [
    "#Make sure Date is in datetime format\n",
    "data['Date'] = pd.to_datetime(data['Date'])\n",
    "\n",
    "#Set the Date as the index\n",
    "data.set_index('Date', inplace=True)"
   ]
  },
  {
   "cell_type": "code",
   "execution_count": 5,
   "metadata": {},
   "outputs": [
    {
     "name": "stderr",
     "output_type": "stream",
     "text": [
      "/var/folders/4w/dqq6x1t91hvgn2hnhb1zlk9r0000gn/T/ipykernel_40575/3432497560.py:3: FutureWarning: The default fill_method='pad' in Series.pct_change is deprecated and will be removed in a future version. Either fill in any non-leading NA values prior to calling pct_change or specify 'fill_method=None' to not fill NA values.\n",
      "  data['gdp_pct_change'] = data['GDP'].pct_change()\n",
      "/var/folders/4w/dqq6x1t91hvgn2hnhb1zlk9r0000gn/T/ipykernel_40575/3432497560.py:4: FutureWarning: The default fill_method='pad' in Series.pct_change is deprecated and will be removed in a future version. Either fill in any non-leading NA values prior to calling pct_change or specify 'fill_method=None' to not fill NA values.\n",
      "  data['inflation_pct_change'] = data['Inflation Rate'].pct_change()\n",
      "/var/folders/4w/dqq6x1t91hvgn2hnhb1zlk9r0000gn/T/ipykernel_40575/3432497560.py:5: FutureWarning: The default fill_method='pad' in Series.pct_change is deprecated and will be removed in a future version. Either fill in any non-leading NA values prior to calling pct_change or specify 'fill_method=None' to not fill NA values.\n",
      "  data['unemployment_pct_change'] = data['Unemployment Rate'].pct_change()\n",
      "/var/folders/4w/dqq6x1t91hvgn2hnhb1zlk9r0000gn/T/ipykernel_40575/3432497560.py:6: FutureWarning: The default fill_method='pad' in Series.pct_change is deprecated and will be removed in a future version. Either fill in any non-leading NA values prior to calling pct_change or specify 'fill_method=None' to not fill NA values.\n",
      "  data['fed_funds_rate_pct_change'] = data['Federal Funds Rate'].pct_change()\n"
     ]
    }
   ],
   "source": [
    "#Create a month-to-month percentage change in the features\n",
    "data['sp500_pct_change'] = data['SP500'].pct_change()\n",
    "data['gdp_pct_change'] = data['GDP'].pct_change()\n",
    "data['inflation_pct_change'] = data['Inflation Rate'].pct_change()\n",
    "data['unemployment_pct_change'] = data['Unemployment Rate'].pct_change()\n",
    "data['fed_funds_rate_pct_change'] = data['Federal Funds Rate'].pct_change()"
   ]
  },
  {
   "cell_type": "code",
   "execution_count": 6,
   "metadata": {},
   "outputs": [],
   "source": [
    "#Do a moving average and volatility calulation for the SP500\n",
    "data['sp500_quarter'] = data['SP500'].rolling(window=3).mean()\n",
    "data['sp500_yearly'] = data['SP500'].rolling(window=12).mean()\n",
    "data['sp500_volatility_quarter'] = data['sp500_pct_change'].rolling(window=3).std()\n",
    "data['sp500_volatility_yearly'] = data['sp500_pct_change'].rolling(window=12).std()\n"
   ]
  },
  {
   "cell_type": "code",
   "execution_count": 7,
   "metadata": {},
   "outputs": [],
   "source": [
    "#Set crash threshold to 10% drop in the SP500\n",
    "crash_threshold = -0.10\n",
    "data['crash'] = (data['sp500_pct_change'] < crash_threshold).astype(int)\n"
   ]
  },
  {
   "cell_type": "code",
   "execution_count": 8,
   "metadata": {},
   "outputs": [
    {
     "data": {
      "text/html": [
       "<div>\n",
       "<style scoped>\n",
       "    .dataframe tbody tr th:only-of-type {\n",
       "        vertical-align: middle;\n",
       "    }\n",
       "\n",
       "    .dataframe tbody tr th {\n",
       "        vertical-align: top;\n",
       "    }\n",
       "\n",
       "    .dataframe thead th {\n",
       "        text-align: right;\n",
       "    }\n",
       "</style>\n",
       "<table border=\"1\" class=\"dataframe\">\n",
       "  <thead>\n",
       "    <tr style=\"text-align: right;\">\n",
       "      <th></th>\n",
       "      <th>Federal Funds Rate</th>\n",
       "      <th>Unemployment Rate</th>\n",
       "      <th>GDP</th>\n",
       "      <th>Inflation Rate</th>\n",
       "      <th>SP500</th>\n",
       "      <th>sp500_pct_change</th>\n",
       "      <th>gdp_pct_change</th>\n",
       "      <th>inflation_pct_change</th>\n",
       "      <th>unemployment_pct_change</th>\n",
       "      <th>fed_funds_rate_pct_change</th>\n",
       "      <th>sp500_quarter</th>\n",
       "      <th>sp500_yearly</th>\n",
       "      <th>sp500_volatility_quarter</th>\n",
       "      <th>sp500_volatility_yearly</th>\n",
       "      <th>crash</th>\n",
       "    </tr>\n",
       "    <tr>\n",
       "      <th>Date</th>\n",
       "      <th></th>\n",
       "      <th></th>\n",
       "      <th></th>\n",
       "      <th></th>\n",
       "      <th></th>\n",
       "      <th></th>\n",
       "      <th></th>\n",
       "      <th></th>\n",
       "      <th></th>\n",
       "      <th></th>\n",
       "      <th></th>\n",
       "      <th></th>\n",
       "      <th></th>\n",
       "      <th></th>\n",
       "      <th></th>\n",
       "    </tr>\n",
       "  </thead>\n",
       "  <tbody>\n",
       "    <tr>\n",
       "      <th>1975-01-01</th>\n",
       "      <td>3.87</td>\n",
       "      <td>8.1</td>\n",
       "      <td>1616.116</td>\n",
       "      <td>9.143147</td>\n",
       "      <td>72.564091</td>\n",
       "      <td>NaN</td>\n",
       "      <td>NaN</td>\n",
       "      <td>NaN</td>\n",
       "      <td>NaN</td>\n",
       "      <td>NaN</td>\n",
       "      <td>NaN</td>\n",
       "      <td>NaN</td>\n",
       "      <td>NaN</td>\n",
       "      <td>NaN</td>\n",
       "      <td>0</td>\n",
       "    </tr>\n",
       "    <tr>\n",
       "      <th>1975-02-01</th>\n",
       "      <td>6.76</td>\n",
       "      <td>8.1</td>\n",
       "      <td>1616.116</td>\n",
       "      <td>9.143147</td>\n",
       "      <td>80.096842</td>\n",
       "      <td>0.103808</td>\n",
       "      <td>0.000000</td>\n",
       "      <td>0.0</td>\n",
       "      <td>0.000000</td>\n",
       "      <td>0.746770</td>\n",
       "      <td>NaN</td>\n",
       "      <td>NaN</td>\n",
       "      <td>NaN</td>\n",
       "      <td>NaN</td>\n",
       "      <td>0</td>\n",
       "    </tr>\n",
       "    <tr>\n",
       "      <th>1975-03-01</th>\n",
       "      <td>6.07</td>\n",
       "      <td>8.6</td>\n",
       "      <td>1616.116</td>\n",
       "      <td>9.143147</td>\n",
       "      <td>83.831999</td>\n",
       "      <td>0.046633</td>\n",
       "      <td>0.000000</td>\n",
       "      <td>0.0</td>\n",
       "      <td>0.061728</td>\n",
       "      <td>-0.102071</td>\n",
       "      <td>78.830977</td>\n",
       "      <td>NaN</td>\n",
       "      <td>NaN</td>\n",
       "      <td>NaN</td>\n",
       "      <td>0</td>\n",
       "    </tr>\n",
       "    <tr>\n",
       "      <th>1975-04-01</th>\n",
       "      <td>5.48</td>\n",
       "      <td>8.8</td>\n",
       "      <td>1651.853</td>\n",
       "      <td>9.143147</td>\n",
       "      <td>84.723182</td>\n",
       "      <td>0.010631</td>\n",
       "      <td>0.022113</td>\n",
       "      <td>0.0</td>\n",
       "      <td>0.023256</td>\n",
       "      <td>-0.097199</td>\n",
       "      <td>82.884008</td>\n",
       "      <td>NaN</td>\n",
       "      <td>0.046988</td>\n",
       "      <td>NaN</td>\n",
       "      <td>0</td>\n",
       "    </tr>\n",
       "    <tr>\n",
       "      <th>1975-05-01</th>\n",
       "      <td>5.55</td>\n",
       "      <td>9.0</td>\n",
       "      <td>1651.853</td>\n",
       "      <td>9.143147</td>\n",
       "      <td>90.096190</td>\n",
       "      <td>0.063418</td>\n",
       "      <td>0.000000</td>\n",
       "      <td>0.0</td>\n",
       "      <td>0.022727</td>\n",
       "      <td>0.012774</td>\n",
       "      <td>86.217124</td>\n",
       "      <td>NaN</td>\n",
       "      <td>0.026971</td>\n",
       "      <td>NaN</td>\n",
       "      <td>0</td>\n",
       "    </tr>\n",
       "  </tbody>\n",
       "</table>\n",
       "</div>"
      ],
      "text/plain": [
       "            Federal Funds Rate  Unemployment Rate       GDP  Inflation Rate  \\\n",
       "Date                                                                          \n",
       "1975-01-01                3.87                8.1  1616.116        9.143147   \n",
       "1975-02-01                6.76                8.1  1616.116        9.143147   \n",
       "1975-03-01                6.07                8.6  1616.116        9.143147   \n",
       "1975-04-01                5.48                8.8  1651.853        9.143147   \n",
       "1975-05-01                5.55                9.0  1651.853        9.143147   \n",
       "\n",
       "                SP500  sp500_pct_change  gdp_pct_change  inflation_pct_change  \\\n",
       "Date                                                                            \n",
       "1975-01-01  72.564091               NaN             NaN                   NaN   \n",
       "1975-02-01  80.096842          0.103808        0.000000                   0.0   \n",
       "1975-03-01  83.831999          0.046633        0.000000                   0.0   \n",
       "1975-04-01  84.723182          0.010631        0.022113                   0.0   \n",
       "1975-05-01  90.096190          0.063418        0.000000                   0.0   \n",
       "\n",
       "            unemployment_pct_change  fed_funds_rate_pct_change  sp500_quarter  \\\n",
       "Date                                                                            \n",
       "1975-01-01                      NaN                        NaN            NaN   \n",
       "1975-02-01                 0.000000                   0.746770            NaN   \n",
       "1975-03-01                 0.061728                  -0.102071      78.830977   \n",
       "1975-04-01                 0.023256                  -0.097199      82.884008   \n",
       "1975-05-01                 0.022727                   0.012774      86.217124   \n",
       "\n",
       "            sp500_yearly  sp500_volatility_quarter  sp500_volatility_yearly  \\\n",
       "Date                                                                          \n",
       "1975-01-01           NaN                       NaN                      NaN   \n",
       "1975-02-01           NaN                       NaN                      NaN   \n",
       "1975-03-01           NaN                       NaN                      NaN   \n",
       "1975-04-01           NaN                  0.046988                      NaN   \n",
       "1975-05-01           NaN                  0.026971                      NaN   \n",
       "\n",
       "            crash  \n",
       "Date               \n",
       "1975-01-01      0  \n",
       "1975-02-01      0  \n",
       "1975-03-01      0  \n",
       "1975-04-01      0  \n",
       "1975-05-01      0  "
      ]
     },
     "execution_count": 8,
     "metadata": {},
     "output_type": "execute_result"
    }
   ],
   "source": [
    "#Show the first 5 rows of the data\n",
    "data.head()"
   ]
  },
  {
   "cell_type": "code",
   "execution_count": 9,
   "metadata": {},
   "outputs": [],
   "source": [
    "#Create a csv file with the new data\n",
    "data.to_csv('../Market_Crash_Predictor/cleaned_data/2008crashmodel.csv')"
   ]
  },
  {
   "cell_type": "code",
   "execution_count": 10,
   "metadata": {},
   "outputs": [],
   "source": [
    "#Drop the first 12 rows of the data since they have NaN values\n",
    "data = data[12:]"
   ]
  },
  {
   "cell_type": "code",
   "execution_count": 11,
   "metadata": {},
   "outputs": [
    {
     "data": {
      "text/html": [
       "<div>\n",
       "<style scoped>\n",
       "    .dataframe tbody tr th:only-of-type {\n",
       "        vertical-align: middle;\n",
       "    }\n",
       "\n",
       "    .dataframe tbody tr th {\n",
       "        vertical-align: top;\n",
       "    }\n",
       "\n",
       "    .dataframe thead th {\n",
       "        text-align: right;\n",
       "    }\n",
       "</style>\n",
       "<table border=\"1\" class=\"dataframe\">\n",
       "  <thead>\n",
       "    <tr style=\"text-align: right;\">\n",
       "      <th></th>\n",
       "      <th>Federal Funds Rate</th>\n",
       "      <th>Unemployment Rate</th>\n",
       "      <th>GDP</th>\n",
       "      <th>Inflation Rate</th>\n",
       "      <th>SP500</th>\n",
       "      <th>sp500_pct_change</th>\n",
       "      <th>gdp_pct_change</th>\n",
       "      <th>inflation_pct_change</th>\n",
       "      <th>unemployment_pct_change</th>\n",
       "      <th>fed_funds_rate_pct_change</th>\n",
       "      <th>sp500_quarter</th>\n",
       "      <th>sp500_yearly</th>\n",
       "      <th>sp500_volatility_quarter</th>\n",
       "      <th>sp500_volatility_yearly</th>\n",
       "      <th>crash</th>\n",
       "    </tr>\n",
       "    <tr>\n",
       "      <th>Date</th>\n",
       "      <th></th>\n",
       "      <th></th>\n",
       "      <th></th>\n",
       "      <th></th>\n",
       "      <th></th>\n",
       "      <th></th>\n",
       "      <th></th>\n",
       "      <th></th>\n",
       "      <th></th>\n",
       "      <th></th>\n",
       "      <th></th>\n",
       "      <th></th>\n",
       "      <th></th>\n",
       "      <th></th>\n",
       "      <th></th>\n",
       "    </tr>\n",
       "  </thead>\n",
       "  <tbody>\n",
       "    <tr>\n",
       "      <th>1976-01-01</th>\n",
       "      <td>5.37</td>\n",
       "      <td>7.9</td>\n",
       "      <td>1820.487</td>\n",
       "      <td>5.744813</td>\n",
       "      <td>96.859524</td>\n",
       "      <td>0.091985</td>\n",
       "      <td>0.033293</td>\n",
       "      <td>-0.371681</td>\n",
       "      <td>-0.036585</td>\n",
       "      <td>0.011299</td>\n",
       "      <td>91.875081</td>\n",
       "      <td>88.184867</td>\n",
       "      <td>0.054999</td>\n",
       "      <td>0.049154</td>\n",
       "      <td>0</td>\n",
       "    </tr>\n",
       "    <tr>\n",
       "      <th>1976-02-01</th>\n",
       "      <td>4.84</td>\n",
       "      <td>7.7</td>\n",
       "      <td>1820.487</td>\n",
       "      <td>5.744813</td>\n",
       "      <td>100.639474</td>\n",
       "      <td>0.039025</td>\n",
       "      <td>0.000000</td>\n",
       "      <td>0.000000</td>\n",
       "      <td>-0.025316</td>\n",
       "      <td>-0.098696</td>\n",
       "      <td>95.399817</td>\n",
       "      <td>89.896753</td>\n",
       "      <td>0.053570</td>\n",
       "      <td>0.042928</td>\n",
       "      <td>0</td>\n",
       "    </tr>\n",
       "    <tr>\n",
       "      <th>1976-03-01</th>\n",
       "      <td>5.21</td>\n",
       "      <td>7.6</td>\n",
       "      <td>1820.487</td>\n",
       "      <td>5.744813</td>\n",
       "      <td>101.084348</td>\n",
       "      <td>0.004420</td>\n",
       "      <td>0.000000</td>\n",
       "      <td>0.000000</td>\n",
       "      <td>-0.012987</td>\n",
       "      <td>0.076446</td>\n",
       "      <td>99.527782</td>\n",
       "      <td>91.334449</td>\n",
       "      <td>0.044101</td>\n",
       "      <td>0.042277</td>\n",
       "      <td>0</td>\n",
       "    </tr>\n",
       "    <tr>\n",
       "      <th>1976-04-01</th>\n",
       "      <td>4.83</td>\n",
       "      <td>7.7</td>\n",
       "      <td>1852.332</td>\n",
       "      <td>5.744813</td>\n",
       "      <td>101.929524</td>\n",
       "      <td>0.008361</td>\n",
       "      <td>0.017493</td>\n",
       "      <td>0.000000</td>\n",
       "      <td>0.013158</td>\n",
       "      <td>-0.072937</td>\n",
       "      <td>101.217782</td>\n",
       "      <td>92.768311</td>\n",
       "      <td>0.018944</td>\n",
       "      <td>0.042310</td>\n",
       "      <td>0</td>\n",
       "    </tr>\n",
       "    <tr>\n",
       "      <th>1976-05-01</th>\n",
       "      <td>5.10</td>\n",
       "      <td>7.4</td>\n",
       "      <td>1852.332</td>\n",
       "      <td>5.744813</td>\n",
       "      <td>101.161999</td>\n",
       "      <td>-0.007530</td>\n",
       "      <td>0.000000</td>\n",
       "      <td>0.000000</td>\n",
       "      <td>-0.038961</td>\n",
       "      <td>0.055901</td>\n",
       "      <td>101.391957</td>\n",
       "      <td>93.690462</td>\n",
       "      <td>0.008275</td>\n",
       "      <td>0.040030</td>\n",
       "      <td>0</td>\n",
       "    </tr>\n",
       "  </tbody>\n",
       "</table>\n",
       "</div>"
      ],
      "text/plain": [
       "            Federal Funds Rate  Unemployment Rate       GDP  Inflation Rate  \\\n",
       "Date                                                                          \n",
       "1976-01-01                5.37                7.9  1820.487        5.744813   \n",
       "1976-02-01                4.84                7.7  1820.487        5.744813   \n",
       "1976-03-01                5.21                7.6  1820.487        5.744813   \n",
       "1976-04-01                4.83                7.7  1852.332        5.744813   \n",
       "1976-05-01                5.10                7.4  1852.332        5.744813   \n",
       "\n",
       "                 SP500  sp500_pct_change  gdp_pct_change  \\\n",
       "Date                                                       \n",
       "1976-01-01   96.859524          0.091985        0.033293   \n",
       "1976-02-01  100.639474          0.039025        0.000000   \n",
       "1976-03-01  101.084348          0.004420        0.000000   \n",
       "1976-04-01  101.929524          0.008361        0.017493   \n",
       "1976-05-01  101.161999         -0.007530        0.000000   \n",
       "\n",
       "            inflation_pct_change  unemployment_pct_change  \\\n",
       "Date                                                        \n",
       "1976-01-01             -0.371681                -0.036585   \n",
       "1976-02-01              0.000000                -0.025316   \n",
       "1976-03-01              0.000000                -0.012987   \n",
       "1976-04-01              0.000000                 0.013158   \n",
       "1976-05-01              0.000000                -0.038961   \n",
       "\n",
       "            fed_funds_rate_pct_change  sp500_quarter  sp500_yearly  \\\n",
       "Date                                                                 \n",
       "1976-01-01                   0.011299      91.875081     88.184867   \n",
       "1976-02-01                  -0.098696      95.399817     89.896753   \n",
       "1976-03-01                   0.076446      99.527782     91.334449   \n",
       "1976-04-01                  -0.072937     101.217782     92.768311   \n",
       "1976-05-01                   0.055901     101.391957     93.690462   \n",
       "\n",
       "            sp500_volatility_quarter  sp500_volatility_yearly  crash  \n",
       "Date                                                                  \n",
       "1976-01-01                  0.054999                 0.049154      0  \n",
       "1976-02-01                  0.053570                 0.042928      0  \n",
       "1976-03-01                  0.044101                 0.042277      0  \n",
       "1976-04-01                  0.018944                 0.042310      0  \n",
       "1976-05-01                  0.008275                 0.040030      0  "
      ]
     },
     "execution_count": 11,
     "metadata": {},
     "output_type": "execute_result"
    }
   ],
   "source": [
    "#Show the first 5 rows of the data\n",
    "data.head()"
   ]
  },
  {
   "cell_type": "code",
   "execution_count": 12,
   "metadata": {},
   "outputs": [],
   "source": [
    "#Define the features and the target\n",
    "features = [\n",
    "    'sp500_pct_change', 'gdp_pct_change', 'inflation_pct_change', \n",
    "    'unemployment_pct_change', 'fed_funds_rate_pct_change',\n",
    "    'sp500_quarter', 'sp500_yearly', 'sp500_volatility_quarter', 'sp500_volatility_yearly'\n",
    "]\n",
    "\n",
    "X = data[features]\n",
    "y = data['crash']"
   ]
  },
  {
   "cell_type": "code",
   "execution_count": 13,
   "metadata": {},
   "outputs": [],
   "source": [
    "#Standardize the features\n",
    "scaler = StandardScaler()\n",
    "x_scaled = scaler.fit_transform(X)"
   ]
  },
  {
   "cell_type": "code",
   "execution_count": 14,
   "metadata": {},
   "outputs": [],
   "source": [
    "#SPlit the data into training and testing sets\n",
    "train_data = data[(data.index < '2008-01-01')]\n",
    "test_data = data[(data.index >= '2008-01-01')]\n",
    "\n",
    "X_train = scaler.fit_transform(train_data[features])\n",
    "y_train = train_data['crash']\n",
    "X_test = scaler.transform(test_data[features])\n",
    "y_test = test_data['crash']"
   ]
  },
  {
   "cell_type": "code",
   "execution_count": 15,
   "metadata": {},
   "outputs": [
    {
     "data": {
      "text/html": [
       "<style>#sk-container-id-1 {color: black;background-color: white;}#sk-container-id-1 pre{padding: 0;}#sk-container-id-1 div.sk-toggleable {background-color: white;}#sk-container-id-1 label.sk-toggleable__label {cursor: pointer;display: block;width: 100%;margin-bottom: 0;padding: 0.3em;box-sizing: border-box;text-align: center;}#sk-container-id-1 label.sk-toggleable__label-arrow:before {content: \"▸\";float: left;margin-right: 0.25em;color: #696969;}#sk-container-id-1 label.sk-toggleable__label-arrow:hover:before {color: black;}#sk-container-id-1 div.sk-estimator:hover label.sk-toggleable__label-arrow:before {color: black;}#sk-container-id-1 div.sk-toggleable__content {max-height: 0;max-width: 0;overflow: hidden;text-align: left;background-color: #f0f8ff;}#sk-container-id-1 div.sk-toggleable__content pre {margin: 0.2em;color: black;border-radius: 0.25em;background-color: #f0f8ff;}#sk-container-id-1 input.sk-toggleable__control:checked~div.sk-toggleable__content {max-height: 200px;max-width: 100%;overflow: auto;}#sk-container-id-1 input.sk-toggleable__control:checked~label.sk-toggleable__label-arrow:before {content: \"▾\";}#sk-container-id-1 div.sk-estimator input.sk-toggleable__control:checked~label.sk-toggleable__label {background-color: #d4ebff;}#sk-container-id-1 div.sk-label input.sk-toggleable__control:checked~label.sk-toggleable__label {background-color: #d4ebff;}#sk-container-id-1 input.sk-hidden--visually {border: 0;clip: rect(1px 1px 1px 1px);clip: rect(1px, 1px, 1px, 1px);height: 1px;margin: -1px;overflow: hidden;padding: 0;position: absolute;width: 1px;}#sk-container-id-1 div.sk-estimator {font-family: monospace;background-color: #f0f8ff;border: 1px dotted black;border-radius: 0.25em;box-sizing: border-box;margin-bottom: 0.5em;}#sk-container-id-1 div.sk-estimator:hover {background-color: #d4ebff;}#sk-container-id-1 div.sk-parallel-item::after {content: \"\";width: 100%;border-bottom: 1px solid gray;flex-grow: 1;}#sk-container-id-1 div.sk-label:hover label.sk-toggleable__label {background-color: #d4ebff;}#sk-container-id-1 div.sk-serial::before {content: \"\";position: absolute;border-left: 1px solid gray;box-sizing: border-box;top: 0;bottom: 0;left: 50%;z-index: 0;}#sk-container-id-1 div.sk-serial {display: flex;flex-direction: column;align-items: center;background-color: white;padding-right: 0.2em;padding-left: 0.2em;position: relative;}#sk-container-id-1 div.sk-item {position: relative;z-index: 1;}#sk-container-id-1 div.sk-parallel {display: flex;align-items: stretch;justify-content: center;background-color: white;position: relative;}#sk-container-id-1 div.sk-item::before, #sk-container-id-1 div.sk-parallel-item::before {content: \"\";position: absolute;border-left: 1px solid gray;box-sizing: border-box;top: 0;bottom: 0;left: 50%;z-index: -1;}#sk-container-id-1 div.sk-parallel-item {display: flex;flex-direction: column;z-index: 1;position: relative;background-color: white;}#sk-container-id-1 div.sk-parallel-item:first-child::after {align-self: flex-end;width: 50%;}#sk-container-id-1 div.sk-parallel-item:last-child::after {align-self: flex-start;width: 50%;}#sk-container-id-1 div.sk-parallel-item:only-child::after {width: 0;}#sk-container-id-1 div.sk-dashed-wrapped {border: 1px dashed gray;margin: 0 0.4em 0.5em 0.4em;box-sizing: border-box;padding-bottom: 0.4em;background-color: white;}#sk-container-id-1 div.sk-label label {font-family: monospace;font-weight: bold;display: inline-block;line-height: 1.2em;}#sk-container-id-1 div.sk-label-container {text-align: center;}#sk-container-id-1 div.sk-container {/* jupyter's `normalize.less` sets `[hidden] { display: none; }` but bootstrap.min.css set `[hidden] { display: none !important; }` so we also need the `!important` here to be able to override the default hidden behavior on the sphinx rendered scikit-learn.org. See: https://github.com/scikit-learn/scikit-learn/issues/21755 */display: inline-block !important;position: relative;}#sk-container-id-1 div.sk-text-repr-fallback {display: none;}</style><div id=\"sk-container-id-1\" class=\"sk-top-container\"><div class=\"sk-text-repr-fallback\"><pre>LogisticRegression()</pre><b>In a Jupyter environment, please rerun this cell to show the HTML representation or trust the notebook. <br />On GitHub, the HTML representation is unable to render, please try loading this page with nbviewer.org.</b></div><div class=\"sk-container\" hidden><div class=\"sk-item\"><div class=\"sk-estimator sk-toggleable\"><input class=\"sk-toggleable__control sk-hidden--visually\" id=\"sk-estimator-id-1\" type=\"checkbox\" checked><label for=\"sk-estimator-id-1\" class=\"sk-toggleable__label sk-toggleable__label-arrow\">LogisticRegression</label><div class=\"sk-toggleable__content\"><pre>LogisticRegression()</pre></div></div></div></div></div>"
      ],
      "text/plain": [
       "LogisticRegression()"
      ]
     },
     "execution_count": 15,
     "metadata": {},
     "output_type": "execute_result"
    }
   ],
   "source": [
    "#Create a logistic regression model\n",
    "model = LogisticRegression()\n",
    "\n",
    "#Fit the model to the training data\n",
    "model.fit(X_train, y_train)"
   ]
  },
  {
   "cell_type": "code",
   "execution_count": 16,
   "metadata": {},
   "outputs": [
    {
     "name": "stdout",
     "output_type": "stream",
     "text": [
      "              precision    recall  f1-score   support\n",
      "\n",
      "           0       0.99      0.98      0.99       200\n",
      "           1       0.40      0.67      0.50         3\n",
      "\n",
      "    accuracy                           0.98       203\n",
      "   macro avg       0.70      0.83      0.74       203\n",
      "weighted avg       0.99      0.98      0.98       203\n",
      "\n"
     ]
    }
   ],
   "source": [
    "#Make predictions on the testing data\n",
    "y_pred = model.predict(X_test)\n",
    "\n",
    "#Print the classification report\n",
    "print(classification_report(y_test, y_pred))"
   ]
  },
  {
   "cell_type": "code",
   "execution_count": 17,
   "metadata": {},
   "outputs": [],
   "source": [
    "#Show the coefficients of the model\n",
    "coefficients = pd.DataFrame({\n",
    "\t'Variable': features,\n",
    "\t'Coefficient': model.coef_[0]\n",
    "})\n",
    "\n",
    "#Transform the coefficients into absolute values\n",
    "coefficients['Coefficient'] = coefficients['Coefficient'].abs()"
   ]
  },
  {
   "cell_type": "code",
   "execution_count": 18,
   "metadata": {},
   "outputs": [
    {
     "name": "stdout",
     "output_type": "stream",
     "text": [
      "                    Variable  Coefficient\n",
      "0           sp500_pct_change     1.764696\n",
      "1             gdp_pct_change     0.349299\n",
      "2       inflation_pct_change     0.021158\n",
      "3    unemployment_pct_change     0.065704\n",
      "4  fed_funds_rate_pct_change     0.192824\n",
      "5              sp500_quarter     0.173619\n",
      "6               sp500_yearly     0.289815\n",
      "7   sp500_volatility_quarter     0.377890\n",
      "8    sp500_volatility_yearly     0.979962\n"
     ]
    }
   ],
   "source": [
    "#Print the coefficients\n",
    "print(coefficients)"
   ]
  },
  {
   "cell_type": "code",
   "execution_count": 19,
   "metadata": {},
   "outputs": [
    {
     "data": {
      "application/vnd.plotly.v1+json": {
       "config": {
        "plotlyServerURL": "https://plot.ly"
       },
       "data": [
        {
         "hovertemplate": "Date=%{x}<br>S&P 500 % Change=%{y}<br>Crash Probability=%{marker.color}<extra></extra>",
         "legendgroup": "",
         "marker": {
          "color": [
           0.0007353795781215427,
           0.00019076977824753955,
           0.0012207397866314863,
           0.0008847847978184326,
           0.00046734556368120217,
           0.0009383043772579699,
           0.0022641341047888704,
           0.00040362509217091783,
           0.0013885196696682566,
           0.002436330848276885,
           0.0005836123118372,
           0.003505008383845371,
           0.002142291624242723,
           0.0006839216474715538,
           0.006838019119644304,
           0.004080885337392326,
           0.009865462487104537,
           0.003356858909600992,
           0.004599222207844853,
           0.0004799306633451417,
           0.003548520779702282,
           0.008229115005785886,
           0.008081630483567925,
           0.0035042162388113835,
           0.006548867884035919,
           0.7864839422772153,
           0.04316872218579321,
           0.011841889571878084,
           0.027473799909393234,
           0.008893697693019932,
           0.007663069278223901,
           0.004292700936457188,
           0.0043033584686869575,
           0.0026873414083805032,
           0.0012690278206359579,
           0.001049839049114093,
           0.002118080680006772,
           0.00047559742269622,
           0.0009853308074712337,
           0.0008600306511736399,
           0.000434961811182608,
           0.0017360359386870052,
           0.0013127024401494416,
           0.0003225163642097387,
           0.0073312346219652465,
           0.004847334515658902,
           0.0007383813495546714,
           0.0017123058446089404,
           0.001015617833364898
          ],
          "coloraxis": "coloraxis",
          "symbol": "circle"
         },
         "mode": "markers",
         "name": "",
         "orientation": "v",
         "showlegend": false,
         "type": "scatter",
         "x": [
          "2006-09-01T00:00:00",
          "2006-10-01T00:00:00",
          "2006-11-01T00:00:00",
          "2006-12-01T00:00:00",
          "2007-01-01T00:00:00",
          "2007-02-01T00:00:00",
          "2007-03-01T00:00:00",
          "2007-04-01T00:00:00",
          "2007-05-01T00:00:00",
          "2007-06-01T00:00:00",
          "2007-07-01T00:00:00",
          "2007-08-01T00:00:00",
          "2007-09-01T00:00:00",
          "2007-10-01T00:00:00",
          "2007-11-01T00:00:00",
          "2007-12-01T00:00:00",
          "2008-01-01T00:00:00",
          "2008-02-01T00:00:00",
          "2008-03-01T00:00:00",
          "2008-04-01T00:00:00",
          "2008-05-01T00:00:00",
          "2008-06-01T00:00:00",
          "2008-07-01T00:00:00",
          "2008-08-01T00:00:00",
          "2008-09-01T00:00:00",
          "2008-10-01T00:00:00",
          "2008-11-01T00:00:00",
          "2008-12-01T00:00:00",
          "2009-01-01T00:00:00",
          "2009-02-01T00:00:00",
          "2009-03-01T00:00:00",
          "2009-04-01T00:00:00",
          "2009-05-01T00:00:00",
          "2009-06-01T00:00:00",
          "2009-07-01T00:00:00",
          "2009-08-01T00:00:00",
          "2009-09-01T00:00:00",
          "2009-10-01T00:00:00",
          "2009-11-01T00:00:00",
          "2009-12-01T00:00:00",
          "2010-01-01T00:00:00",
          "2010-02-01T00:00:00",
          "2010-03-01T00:00:00",
          "2010-04-01T00:00:00",
          "2010-05-01T00:00:00",
          "2010-06-01T00:00:00",
          "2010-07-01T00:00:00",
          "2010-08-01T00:00:00",
          "2010-09-01T00:00:00"
         ],
         "xaxis": "x",
         "y": [
          0.02376836714123698,
          0.03463061611972096,
          0.018525679442908505,
          0.020009043591154185,
          0.005465172027984799,
          0.0144883635183235,
          -0.02619259751689884,
          0.04029184298547972,
          0.03245080335799755,
          0.0022186649717406137,
          0.0041038507997028795,
          -0.043458665312682054,
          0.029216878732432283,
          0.02841620525259203,
          -0.04953919681312724,
          0.010823029830308695,
          -0.0679138027915207,
          -0.0173280555443186,
          -0.02799489717901482,
          0.04064420489733722,
          0.023895848959020638,
          -0.044160400229441565,
          -0.06257188330369123,
          0.019204241778491005,
          -0.0502933275218177,
          -0.20395835691668407,
          -0.08852216082369513,
          -0.0062043696275755345,
          -0.013658658328626117,
          -0.06972024005728017,
          -0.05973536948836444,
          0.12022435729956116,
          0.06397038454051596,
          0.0262702524152727,
          0.010480731468175852,
          0.07897168891346218,
          0.034492196839538414,
          0.02212550312637962,
          0.01911217735124504,
          0.020503036029540844,
          0.011891320259621585,
          -0.030635596806751653,
          0.057740553774731085,
          0.03929303996967781,
          -0.06034678277054417,
          -0.037065610674653415,
          -0.003283817367172648,
          0.006926200998882637,
          0.03200606994598609
         ],
         "yaxis": "y"
        },
        {
         "marker": {
          "color": "red",
          "size": 10,
          "symbol": "x"
         },
         "mode": "markers",
         "name": "Actual Crash",
         "type": "scatter",
         "x": [
          "2008-10-01T00:00:00"
         ],
         "y": [
          -0.20395835691668407
         ]
        }
       ],
       "layout": {
        "coloraxis": {
         "colorbar": {
          "title": {
           "text": "Crash Probability"
          }
         },
         "colorscale": [
          [
           0,
           "#440154"
          ],
          [
           0.1111111111111111,
           "#482878"
          ],
          [
           0.2222222222222222,
           "#3e4989"
          ],
          [
           0.3333333333333333,
           "#31688e"
          ],
          [
           0.4444444444444444,
           "#26828e"
          ],
          [
           0.5555555555555556,
           "#1f9e89"
          ],
          [
           0.6666666666666666,
           "#35b779"
          ],
          [
           0.7777777777777778,
           "#6ece58"
          ],
          [
           0.8888888888888888,
           "#b5de2b"
          ],
          [
           1,
           "#fde725"
          ]
         ]
        },
        "legend": {
         "tracegroupgap": 0
        },
        "template": {
         "data": {
          "bar": [
           {
            "error_x": {
             "color": "#f2f5fa"
            },
            "error_y": {
             "color": "#f2f5fa"
            },
            "marker": {
             "line": {
              "color": "rgb(17,17,17)",
              "width": 0.5
             },
             "pattern": {
              "fillmode": "overlay",
              "size": 10,
              "solidity": 0.2
             }
            },
            "type": "bar"
           }
          ],
          "barpolar": [
           {
            "marker": {
             "line": {
              "color": "rgb(17,17,17)",
              "width": 0.5
             },
             "pattern": {
              "fillmode": "overlay",
              "size": 10,
              "solidity": 0.2
             }
            },
            "type": "barpolar"
           }
          ],
          "carpet": [
           {
            "aaxis": {
             "endlinecolor": "#A2B1C6",
             "gridcolor": "#506784",
             "linecolor": "#506784",
             "minorgridcolor": "#506784",
             "startlinecolor": "#A2B1C6"
            },
            "baxis": {
             "endlinecolor": "#A2B1C6",
             "gridcolor": "#506784",
             "linecolor": "#506784",
             "minorgridcolor": "#506784",
             "startlinecolor": "#A2B1C6"
            },
            "type": "carpet"
           }
          ],
          "choropleth": [
           {
            "colorbar": {
             "outlinewidth": 0,
             "ticks": ""
            },
            "type": "choropleth"
           }
          ],
          "contour": [
           {
            "colorbar": {
             "outlinewidth": 0,
             "ticks": ""
            },
            "colorscale": [
             [
              0,
              "#0d0887"
             ],
             [
              0.1111111111111111,
              "#46039f"
             ],
             [
              0.2222222222222222,
              "#7201a8"
             ],
             [
              0.3333333333333333,
              "#9c179e"
             ],
             [
              0.4444444444444444,
              "#bd3786"
             ],
             [
              0.5555555555555556,
              "#d8576b"
             ],
             [
              0.6666666666666666,
              "#ed7953"
             ],
             [
              0.7777777777777778,
              "#fb9f3a"
             ],
             [
              0.8888888888888888,
              "#fdca26"
             ],
             [
              1,
              "#f0f921"
             ]
            ],
            "type": "contour"
           }
          ],
          "contourcarpet": [
           {
            "colorbar": {
             "outlinewidth": 0,
             "ticks": ""
            },
            "type": "contourcarpet"
           }
          ],
          "heatmap": [
           {
            "colorbar": {
             "outlinewidth": 0,
             "ticks": ""
            },
            "colorscale": [
             [
              0,
              "#0d0887"
             ],
             [
              0.1111111111111111,
              "#46039f"
             ],
             [
              0.2222222222222222,
              "#7201a8"
             ],
             [
              0.3333333333333333,
              "#9c179e"
             ],
             [
              0.4444444444444444,
              "#bd3786"
             ],
             [
              0.5555555555555556,
              "#d8576b"
             ],
             [
              0.6666666666666666,
              "#ed7953"
             ],
             [
              0.7777777777777778,
              "#fb9f3a"
             ],
             [
              0.8888888888888888,
              "#fdca26"
             ],
             [
              1,
              "#f0f921"
             ]
            ],
            "type": "heatmap"
           }
          ],
          "heatmapgl": [
           {
            "colorbar": {
             "outlinewidth": 0,
             "ticks": ""
            },
            "colorscale": [
             [
              0,
              "#0d0887"
             ],
             [
              0.1111111111111111,
              "#46039f"
             ],
             [
              0.2222222222222222,
              "#7201a8"
             ],
             [
              0.3333333333333333,
              "#9c179e"
             ],
             [
              0.4444444444444444,
              "#bd3786"
             ],
             [
              0.5555555555555556,
              "#d8576b"
             ],
             [
              0.6666666666666666,
              "#ed7953"
             ],
             [
              0.7777777777777778,
              "#fb9f3a"
             ],
             [
              0.8888888888888888,
              "#fdca26"
             ],
             [
              1,
              "#f0f921"
             ]
            ],
            "type": "heatmapgl"
           }
          ],
          "histogram": [
           {
            "marker": {
             "pattern": {
              "fillmode": "overlay",
              "size": 10,
              "solidity": 0.2
             }
            },
            "type": "histogram"
           }
          ],
          "histogram2d": [
           {
            "colorbar": {
             "outlinewidth": 0,
             "ticks": ""
            },
            "colorscale": [
             [
              0,
              "#0d0887"
             ],
             [
              0.1111111111111111,
              "#46039f"
             ],
             [
              0.2222222222222222,
              "#7201a8"
             ],
             [
              0.3333333333333333,
              "#9c179e"
             ],
             [
              0.4444444444444444,
              "#bd3786"
             ],
             [
              0.5555555555555556,
              "#d8576b"
             ],
             [
              0.6666666666666666,
              "#ed7953"
             ],
             [
              0.7777777777777778,
              "#fb9f3a"
             ],
             [
              0.8888888888888888,
              "#fdca26"
             ],
             [
              1,
              "#f0f921"
             ]
            ],
            "type": "histogram2d"
           }
          ],
          "histogram2dcontour": [
           {
            "colorbar": {
             "outlinewidth": 0,
             "ticks": ""
            },
            "colorscale": [
             [
              0,
              "#0d0887"
             ],
             [
              0.1111111111111111,
              "#46039f"
             ],
             [
              0.2222222222222222,
              "#7201a8"
             ],
             [
              0.3333333333333333,
              "#9c179e"
             ],
             [
              0.4444444444444444,
              "#bd3786"
             ],
             [
              0.5555555555555556,
              "#d8576b"
             ],
             [
              0.6666666666666666,
              "#ed7953"
             ],
             [
              0.7777777777777778,
              "#fb9f3a"
             ],
             [
              0.8888888888888888,
              "#fdca26"
             ],
             [
              1,
              "#f0f921"
             ]
            ],
            "type": "histogram2dcontour"
           }
          ],
          "mesh3d": [
           {
            "colorbar": {
             "outlinewidth": 0,
             "ticks": ""
            },
            "type": "mesh3d"
           }
          ],
          "parcoords": [
           {
            "line": {
             "colorbar": {
              "outlinewidth": 0,
              "ticks": ""
             }
            },
            "type": "parcoords"
           }
          ],
          "pie": [
           {
            "automargin": true,
            "type": "pie"
           }
          ],
          "scatter": [
           {
            "marker": {
             "line": {
              "color": "#283442"
             }
            },
            "type": "scatter"
           }
          ],
          "scatter3d": [
           {
            "line": {
             "colorbar": {
              "outlinewidth": 0,
              "ticks": ""
             }
            },
            "marker": {
             "colorbar": {
              "outlinewidth": 0,
              "ticks": ""
             }
            },
            "type": "scatter3d"
           }
          ],
          "scattercarpet": [
           {
            "marker": {
             "colorbar": {
              "outlinewidth": 0,
              "ticks": ""
             }
            },
            "type": "scattercarpet"
           }
          ],
          "scattergeo": [
           {
            "marker": {
             "colorbar": {
              "outlinewidth": 0,
              "ticks": ""
             }
            },
            "type": "scattergeo"
           }
          ],
          "scattergl": [
           {
            "marker": {
             "line": {
              "color": "#283442"
             }
            },
            "type": "scattergl"
           }
          ],
          "scattermapbox": [
           {
            "marker": {
             "colorbar": {
              "outlinewidth": 0,
              "ticks": ""
             }
            },
            "type": "scattermapbox"
           }
          ],
          "scatterpolar": [
           {
            "marker": {
             "colorbar": {
              "outlinewidth": 0,
              "ticks": ""
             }
            },
            "type": "scatterpolar"
           }
          ],
          "scatterpolargl": [
           {
            "marker": {
             "colorbar": {
              "outlinewidth": 0,
              "ticks": ""
             }
            },
            "type": "scatterpolargl"
           }
          ],
          "scatterternary": [
           {
            "marker": {
             "colorbar": {
              "outlinewidth": 0,
              "ticks": ""
             }
            },
            "type": "scatterternary"
           }
          ],
          "surface": [
           {
            "colorbar": {
             "outlinewidth": 0,
             "ticks": ""
            },
            "colorscale": [
             [
              0,
              "#0d0887"
             ],
             [
              0.1111111111111111,
              "#46039f"
             ],
             [
              0.2222222222222222,
              "#7201a8"
             ],
             [
              0.3333333333333333,
              "#9c179e"
             ],
             [
              0.4444444444444444,
              "#bd3786"
             ],
             [
              0.5555555555555556,
              "#d8576b"
             ],
             [
              0.6666666666666666,
              "#ed7953"
             ],
             [
              0.7777777777777778,
              "#fb9f3a"
             ],
             [
              0.8888888888888888,
              "#fdca26"
             ],
             [
              1,
              "#f0f921"
             ]
            ],
            "type": "surface"
           }
          ],
          "table": [
           {
            "cells": {
             "fill": {
              "color": "#506784"
             },
             "line": {
              "color": "rgb(17,17,17)"
             }
            },
            "header": {
             "fill": {
              "color": "#2a3f5f"
             },
             "line": {
              "color": "rgb(17,17,17)"
             }
            },
            "type": "table"
           }
          ]
         },
         "layout": {
          "annotationdefaults": {
           "arrowcolor": "#f2f5fa",
           "arrowhead": 0,
           "arrowwidth": 1
          },
          "autotypenumbers": "strict",
          "coloraxis": {
           "colorbar": {
            "outlinewidth": 0,
            "ticks": ""
           }
          },
          "colorscale": {
           "diverging": [
            [
             0,
             "#8e0152"
            ],
            [
             0.1,
             "#c51b7d"
            ],
            [
             0.2,
             "#de77ae"
            ],
            [
             0.3,
             "#f1b6da"
            ],
            [
             0.4,
             "#fde0ef"
            ],
            [
             0.5,
             "#f7f7f7"
            ],
            [
             0.6,
             "#e6f5d0"
            ],
            [
             0.7,
             "#b8e186"
            ],
            [
             0.8,
             "#7fbc41"
            ],
            [
             0.9,
             "#4d9221"
            ],
            [
             1,
             "#276419"
            ]
           ],
           "sequential": [
            [
             0,
             "#0d0887"
            ],
            [
             0.1111111111111111,
             "#46039f"
            ],
            [
             0.2222222222222222,
             "#7201a8"
            ],
            [
             0.3333333333333333,
             "#9c179e"
            ],
            [
             0.4444444444444444,
             "#bd3786"
            ],
            [
             0.5555555555555556,
             "#d8576b"
            ],
            [
             0.6666666666666666,
             "#ed7953"
            ],
            [
             0.7777777777777778,
             "#fb9f3a"
            ],
            [
             0.8888888888888888,
             "#fdca26"
            ],
            [
             1,
             "#f0f921"
            ]
           ],
           "sequentialminus": [
            [
             0,
             "#0d0887"
            ],
            [
             0.1111111111111111,
             "#46039f"
            ],
            [
             0.2222222222222222,
             "#7201a8"
            ],
            [
             0.3333333333333333,
             "#9c179e"
            ],
            [
             0.4444444444444444,
             "#bd3786"
            ],
            [
             0.5555555555555556,
             "#d8576b"
            ],
            [
             0.6666666666666666,
             "#ed7953"
            ],
            [
             0.7777777777777778,
             "#fb9f3a"
            ],
            [
             0.8888888888888888,
             "#fdca26"
            ],
            [
             1,
             "#f0f921"
            ]
           ]
          },
          "colorway": [
           "#636efa",
           "#EF553B",
           "#00cc96",
           "#ab63fa",
           "#FFA15A",
           "#19d3f3",
           "#FF6692",
           "#B6E880",
           "#FF97FF",
           "#FECB52"
          ],
          "font": {
           "color": "#f2f5fa"
          },
          "geo": {
           "bgcolor": "rgb(17,17,17)",
           "lakecolor": "rgb(17,17,17)",
           "landcolor": "rgb(17,17,17)",
           "showlakes": true,
           "showland": true,
           "subunitcolor": "#506784"
          },
          "hoverlabel": {
           "align": "left"
          },
          "hovermode": "closest",
          "mapbox": {
           "style": "dark"
          },
          "paper_bgcolor": "rgb(17,17,17)",
          "plot_bgcolor": "rgb(17,17,17)",
          "polar": {
           "angularaxis": {
            "gridcolor": "#506784",
            "linecolor": "#506784",
            "ticks": ""
           },
           "bgcolor": "rgb(17,17,17)",
           "radialaxis": {
            "gridcolor": "#506784",
            "linecolor": "#506784",
            "ticks": ""
           }
          },
          "scene": {
           "xaxis": {
            "backgroundcolor": "rgb(17,17,17)",
            "gridcolor": "#506784",
            "gridwidth": 2,
            "linecolor": "#506784",
            "showbackground": true,
            "ticks": "",
            "zerolinecolor": "#C8D4E3"
           },
           "yaxis": {
            "backgroundcolor": "rgb(17,17,17)",
            "gridcolor": "#506784",
            "gridwidth": 2,
            "linecolor": "#506784",
            "showbackground": true,
            "ticks": "",
            "zerolinecolor": "#C8D4E3"
           },
           "zaxis": {
            "backgroundcolor": "rgb(17,17,17)",
            "gridcolor": "#506784",
            "gridwidth": 2,
            "linecolor": "#506784",
            "showbackground": true,
            "ticks": "",
            "zerolinecolor": "#C8D4E3"
           }
          },
          "shapedefaults": {
           "line": {
            "color": "#f2f5fa"
           }
          },
          "sliderdefaults": {
           "bgcolor": "#C8D4E3",
           "bordercolor": "rgb(17,17,17)",
           "borderwidth": 1,
           "tickwidth": 0
          },
          "ternary": {
           "aaxis": {
            "gridcolor": "#506784",
            "linecolor": "#506784",
            "ticks": ""
           },
           "baxis": {
            "gridcolor": "#506784",
            "linecolor": "#506784",
            "ticks": ""
           },
           "bgcolor": "rgb(17,17,17)",
           "caxis": {
            "gridcolor": "#506784",
            "linecolor": "#506784",
            "ticks": ""
           }
          },
          "title": {
           "x": 0.05
          },
          "updatemenudefaults": {
           "bgcolor": "#506784",
           "borderwidth": 0
          },
          "xaxis": {
           "automargin": true,
           "gridcolor": "#283442",
           "linecolor": "#506784",
           "ticks": "",
           "title": {
            "standoff": 15
           },
           "zerolinecolor": "#283442",
           "zerolinewidth": 2
          },
          "yaxis": {
           "automargin": true,
           "gridcolor": "#283442",
           "linecolor": "#506784",
           "ticks": "",
           "title": {
            "standoff": 15
           },
           "zerolinecolor": "#283442",
           "zerolinewidth": 2
          }
         }
        },
        "title": {
         "text": "Market Crash Probability around Selected Date"
        },
        "xaxis": {
         "anchor": "y",
         "domain": [
          0,
          1
         ],
         "title": {
          "text": "Date"
         }
        },
        "yaxis": {
         "anchor": "x",
         "domain": [
          0,
          1
         ],
         "title": {
          "text": "S&P 500 % Change"
         }
        }
       }
      }
     },
     "metadata": {},
     "output_type": "display_data"
    }
   ],
   "source": [
    "import pandas as pd\n",
    "import plotly.express as px\n",
    "import plotly.graph_objects as go\n",
    "from sklearn.linear_model import LogisticRegression\n",
    "from sklearn.preprocessing import StandardScaler\n",
    "\n",
    "# Define the date to analyze\n",
    "target_date = '2008-09-01'  \n",
    "\n",
    "# Function to get a 5-year window around the specified date\n",
    "def get_5yr_window_single(data, target_date):\n",
    "    start_date = pd.to_datetime(target_date) - pd.DateOffset(years=2)\n",
    "    end_date = pd.to_datetime(target_date) + pd.DateOffset(years=2)\n",
    "    return data[(data.index >= start_date) & (data.index <= end_date)]\n",
    "\n",
    "# Apply the 5-year window function to get data around the target date\n",
    "crash_data = get_5yr_window_single(data, target_date)\n",
    "\n",
    "# Define features and target for the current window\n",
    "X = crash_data[features]\n",
    "y = crash_data['crash']\n",
    "\n",
    "# Standardize features\n",
    "scaler = StandardScaler()\n",
    "X_scaled = scaler.fit_transform(X)\n",
    "\n",
    "# Train the model on this window's data\n",
    "model = LogisticRegression()\n",
    "model.fit(X_scaled, y)\n",
    "\n",
    "# Predict probabilities for the specified window\n",
    "y_prob = model.predict_proba(X_scaled)[:, 1]\n",
    "\n",
    "# Ensure crash_data and predictions match in length\n",
    "crash_data = crash_data.copy()  # To avoid modifying the original DataFrame\n",
    "crash_data['crash_probability'] = y_prob  # This should now match lengths\n",
    "crash_data['Date'] = crash_data.index\n",
    "\n",
    "# Plot the results with Plotly\n",
    "fig = px.scatter(crash_data, x='Date', y='sp500_pct_change', color='crash_probability',\n",
    "                 title='Market Crash Probability around Selected Date',\n",
    "                 labels={'crash_probability': 'Crash Probability', 'sp500_pct_change': 'S&P 500 % Change'},\n",
    "                 color_continuous_scale='Viridis')\n",
    "\n",
    "# Add markers for actual crashes within this window\n",
    "fig.add_trace(go.Scatter(x=crash_data[crash_data['crash'] == 1]['Date'],\n",
    "                         y=crash_data[crash_data['crash'] == 1]['sp500_pct_change'],\n",
    "                         mode='markers',\n",
    "                         name='Actual Crash',\n",
    "                         marker=dict(symbol='x', color='red', size=10)))\n",
    "\n",
    "# Update layout for clarity\n",
    "fig.update_layout(coloraxis_colorbar=dict(title='Crash Probability'),\n",
    "                  xaxis_title='Date',\n",
    "                  yaxis_title='S&P 500 % Change',\n",
    "                  template='plotly_dark')\n",
    "\n",
    "# Show the interactive plot\n",
    "fig.show()\n"
   ]
  }
 ],
 "metadata": {
  "kernelspec": {
   "display_name": "Python 3.10 (dev)",
   "language": "python",
   "name": "dev"
  },
  "language_info": {
   "codemirror_mode": {
    "name": "ipython",
    "version": 3
   },
   "file_extension": ".py",
   "mimetype": "text/x-python",
   "name": "python",
   "nbconvert_exporter": "python",
   "pygments_lexer": "ipython3",
   "version": "3.10.13"
  }
 },
 "nbformat": 4,
 "nbformat_minor": 2
}
