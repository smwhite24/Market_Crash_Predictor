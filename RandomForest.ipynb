{
  "nbformat": 4,
  "nbformat_minor": 0,
  "metadata": {
    "colab": {
      "provenance": [],
      "authorship_tag": "ABX9TyNFhJ2bOuSwUxtZzMX/Yrer",
      "include_colab_link": true
    },
    "kernelspec": {
      "name": "python3",
      "display_name": "Python 3"
    },
    "language_info": {
      "name": "python"
    }
  },
  "cells": [
    {
      "cell_type": "markdown",
      "metadata": {
        "id": "view-in-github",
        "colab_type": "text"
      },
      "source": [
        "<a href=\"https://colab.research.google.com/github/smwhite24/Market_Crash_Predictor/blob/main/RandomForest.ipynb\" target=\"_parent\"><img src=\"https://colab.research.google.com/assets/colab-badge.svg\" alt=\"Open In Colab\"/></a>"
      ]
    },
    {
      "cell_type": "code",
      "execution_count": 86,
      "metadata": {
        "id": "DlovKqKk1bX_"
      },
      "outputs": [],
      "source": [
        "# Import necessary libraries\n",
        "from pyspark.sql import SparkSession\n",
        "from pyspark.sql.functions import col, to_date\n",
        "from pyspark.ml.feature import VectorAssembler\n",
        "from pyspark.ml.regression import RandomForestRegressor\n",
        "from pyspark.ml.evaluation import RegressionEvaluator\n",
        "from pyspark.ml.classification import RandomForestClassifier\n",
        "from pyspark.mllib.evaluation import MulticlassMetrics\n",
        "from pyspark.ml.feature import VectorAssembler, StandardScaler\n",
        "from pyspark.ml.evaluation import MulticlassClassificationEvaluator\n",
        "from pyspark.ml.classification import LogisticRegression"
      ]
    },
    {
      "cell_type": "code",
      "source": [
        "from google.colab import files\n",
        "uploaded = files.upload()\n"
      ],
      "metadata": {
        "colab": {
          "base_uri": "https://localhost:8080/",
          "height": 107
        },
        "id": "dcxeMrvRPI2e",
        "outputId": "db299723-04c0-474d-f317-4829b05f2a4a"
      },
      "execution_count": 3,
      "outputs": [
        {
          "output_type": "display_data",
          "data": {
            "text/plain": [
              "<IPython.core.display.HTML object>"
            ],
            "text/html": [
              "\n",
              "     <input type=\"file\" id=\"files-1a23f75b-f5a6-4923-ace3-8bd3e9636338\" name=\"files[]\" multiple disabled\n",
              "        style=\"border:none\" />\n",
              "     <output id=\"result-1a23f75b-f5a6-4923-ace3-8bd3e9636338\">\n",
              "      Upload widget is only available when the cell has been executed in the\n",
              "      current browser session. Please rerun this cell to enable.\n",
              "      </output>\n",
              "      <script>// Copyright 2017 Google LLC\n",
              "//\n",
              "// Licensed under the Apache License, Version 2.0 (the \"License\");\n",
              "// you may not use this file except in compliance with the License.\n",
              "// You may obtain a copy of the License at\n",
              "//\n",
              "//      http://www.apache.org/licenses/LICENSE-2.0\n",
              "//\n",
              "// Unless required by applicable law or agreed to in writing, software\n",
              "// distributed under the License is distributed on an \"AS IS\" BASIS,\n",
              "// WITHOUT WARRANTIES OR CONDITIONS OF ANY KIND, either express or implied.\n",
              "// See the License for the specific language governing permissions and\n",
              "// limitations under the License.\n",
              "\n",
              "/**\n",
              " * @fileoverview Helpers for google.colab Python module.\n",
              " */\n",
              "(function(scope) {\n",
              "function span(text, styleAttributes = {}) {\n",
              "  const element = document.createElement('span');\n",
              "  element.textContent = text;\n",
              "  for (const key of Object.keys(styleAttributes)) {\n",
              "    element.style[key] = styleAttributes[key];\n",
              "  }\n",
              "  return element;\n",
              "}\n",
              "\n",
              "// Max number of bytes which will be uploaded at a time.\n",
              "const MAX_PAYLOAD_SIZE = 100 * 1024;\n",
              "\n",
              "function _uploadFiles(inputId, outputId) {\n",
              "  const steps = uploadFilesStep(inputId, outputId);\n",
              "  const outputElement = document.getElementById(outputId);\n",
              "  // Cache steps on the outputElement to make it available for the next call\n",
              "  // to uploadFilesContinue from Python.\n",
              "  outputElement.steps = steps;\n",
              "\n",
              "  return _uploadFilesContinue(outputId);\n",
              "}\n",
              "\n",
              "// This is roughly an async generator (not supported in the browser yet),\n",
              "// where there are multiple asynchronous steps and the Python side is going\n",
              "// to poll for completion of each step.\n",
              "// This uses a Promise to block the python side on completion of each step,\n",
              "// then passes the result of the previous step as the input to the next step.\n",
              "function _uploadFilesContinue(outputId) {\n",
              "  const outputElement = document.getElementById(outputId);\n",
              "  const steps = outputElement.steps;\n",
              "\n",
              "  const next = steps.next(outputElement.lastPromiseValue);\n",
              "  return Promise.resolve(next.value.promise).then((value) => {\n",
              "    // Cache the last promise value to make it available to the next\n",
              "    // step of the generator.\n",
              "    outputElement.lastPromiseValue = value;\n",
              "    return next.value.response;\n",
              "  });\n",
              "}\n",
              "\n",
              "/**\n",
              " * Generator function which is called between each async step of the upload\n",
              " * process.\n",
              " * @param {string} inputId Element ID of the input file picker element.\n",
              " * @param {string} outputId Element ID of the output display.\n",
              " * @return {!Iterable<!Object>} Iterable of next steps.\n",
              " */\n",
              "function* uploadFilesStep(inputId, outputId) {\n",
              "  const inputElement = document.getElementById(inputId);\n",
              "  inputElement.disabled = false;\n",
              "\n",
              "  const outputElement = document.getElementById(outputId);\n",
              "  outputElement.innerHTML = '';\n",
              "\n",
              "  const pickedPromise = new Promise((resolve) => {\n",
              "    inputElement.addEventListener('change', (e) => {\n",
              "      resolve(e.target.files);\n",
              "    });\n",
              "  });\n",
              "\n",
              "  const cancel = document.createElement('button');\n",
              "  inputElement.parentElement.appendChild(cancel);\n",
              "  cancel.textContent = 'Cancel upload';\n",
              "  const cancelPromise = new Promise((resolve) => {\n",
              "    cancel.onclick = () => {\n",
              "      resolve(null);\n",
              "    };\n",
              "  });\n",
              "\n",
              "  // Wait for the user to pick the files.\n",
              "  const files = yield {\n",
              "    promise: Promise.race([pickedPromise, cancelPromise]),\n",
              "    response: {\n",
              "      action: 'starting',\n",
              "    }\n",
              "  };\n",
              "\n",
              "  cancel.remove();\n",
              "\n",
              "  // Disable the input element since further picks are not allowed.\n",
              "  inputElement.disabled = true;\n",
              "\n",
              "  if (!files) {\n",
              "    return {\n",
              "      response: {\n",
              "        action: 'complete',\n",
              "      }\n",
              "    };\n",
              "  }\n",
              "\n",
              "  for (const file of files) {\n",
              "    const li = document.createElement('li');\n",
              "    li.append(span(file.name, {fontWeight: 'bold'}));\n",
              "    li.append(span(\n",
              "        `(${file.type || 'n/a'}) - ${file.size} bytes, ` +\n",
              "        `last modified: ${\n",
              "            file.lastModifiedDate ? file.lastModifiedDate.toLocaleDateString() :\n",
              "                                    'n/a'} - `));\n",
              "    const percent = span('0% done');\n",
              "    li.appendChild(percent);\n",
              "\n",
              "    outputElement.appendChild(li);\n",
              "\n",
              "    const fileDataPromise = new Promise((resolve) => {\n",
              "      const reader = new FileReader();\n",
              "      reader.onload = (e) => {\n",
              "        resolve(e.target.result);\n",
              "      };\n",
              "      reader.readAsArrayBuffer(file);\n",
              "    });\n",
              "    // Wait for the data to be ready.\n",
              "    let fileData = yield {\n",
              "      promise: fileDataPromise,\n",
              "      response: {\n",
              "        action: 'continue',\n",
              "      }\n",
              "    };\n",
              "\n",
              "    // Use a chunked sending to avoid message size limits. See b/62115660.\n",
              "    let position = 0;\n",
              "    do {\n",
              "      const length = Math.min(fileData.byteLength - position, MAX_PAYLOAD_SIZE);\n",
              "      const chunk = new Uint8Array(fileData, position, length);\n",
              "      position += length;\n",
              "\n",
              "      const base64 = btoa(String.fromCharCode.apply(null, chunk));\n",
              "      yield {\n",
              "        response: {\n",
              "          action: 'append',\n",
              "          file: file.name,\n",
              "          data: base64,\n",
              "        },\n",
              "      };\n",
              "\n",
              "      let percentDone = fileData.byteLength === 0 ?\n",
              "          100 :\n",
              "          Math.round((position / fileData.byteLength) * 100);\n",
              "      percent.textContent = `${percentDone}% done`;\n",
              "\n",
              "    } while (position < fileData.byteLength);\n",
              "  }\n",
              "\n",
              "  // All done.\n",
              "  yield {\n",
              "    response: {\n",
              "      action: 'complete',\n",
              "    }\n",
              "  };\n",
              "}\n",
              "\n",
              "scope.google = scope.google || {};\n",
              "scope.google.colab = scope.google.colab || {};\n",
              "scope.google.colab._files = {\n",
              "  _uploadFiles,\n",
              "  _uploadFilesContinue,\n",
              "};\n",
              "})(self);\n",
              "</script> "
            ]
          },
          "metadata": {}
        },
        {
          "output_type": "stream",
          "name": "stdout",
          "text": [
            "Saving standardized_market_data (1).csv to standardized_market_data (1) (1).csv\n",
            "Saving spstandardized.csv to spstandardized.csv\n"
          ]
        }
      ]
    },
    {
      "cell_type": "code",
      "source": [
        "from pyspark.sql import SparkSession\n",
        "\n",
        "# Create a Spark session\n",
        "spark = SparkSession.builder \\\n",
        "    .appName(\"RandomForestExample\") \\\n",
        "    .getOrCreate()\n",
        "\n",
        "# Load the CSV files into DataFrames\n",
        "standardized_market_data_df = spark.read.csv('standardized_market_data (1).csv', header=True, inferSchema=True)\n",
        "spstandardized_df = spark.read.csv('spstandardized.csv', header=True, inferSchema=True)\n",
        "\n",
        "# Show the first few rows of the DataFrames (optional)\n",
        "standardized_market_data_df.show(5)\n",
        "spstandardized_df.show(5)"
      ],
      "metadata": {
        "colab": {
          "base_uri": "https://localhost:8080/"
        },
        "id": "zKGP5xvqSAT7",
        "outputId": "22d0149e-209a-47e5-e5f0-511ffb7b02a6"
      },
      "execution_count": 45,
      "outputs": [
        {
          "output_type": "stream",
          "name": "stdout",
          "text": [
            "+----------+------------------+-----------------+--------+----------------+\n",
            "|      Date|Federal Funds Rate|Unemployment Rate|     GDP|  Inflation Rate|\n",
            "+----------+------------------+-----------------+--------+----------------+\n",
            "|1975-01-01|              3.87|              8.1|1616.116|9.14314686496535|\n",
            "|1975-02-01|              6.76|              8.1|1616.116|9.14314686496535|\n",
            "|1975-03-01|              6.07|              8.6|1616.116|9.14314686496535|\n",
            "|1975-04-01|              5.48|              8.8|1651.853|9.14314686496535|\n",
            "|1975-05-01|              5.55|              9.0|1651.853|9.14314686496535|\n",
            "+----------+------------------+-----------------+--------+----------------+\n",
            "only showing top 5 rows\n",
            "\n",
            "+---+----------+-----------------+\n",
            "|_c0|      date|            Close|\n",
            "+---+----------+-----------------+\n",
            "|565|1975-01-01|72.56409107555042|\n",
            "|566|1975-02-01|80.09684191252056|\n",
            "|567|1975-03-01|83.83199920654297|\n",
            "|568|1975-04-01|84.72318198464133|\n",
            "|569|1975-05-01|90.09619031633648|\n",
            "+---+----------+-----------------+\n",
            "only showing top 5 rows\n",
            "\n"
          ]
        }
      ]
    },
    {
      "cell_type": "code",
      "source": [
        "# Rename the 'Date' column to 'date' in the second DataFrame\n",
        "spstandardized_df = spstandardized_df.withColumnRenamed(\"date\", \"Date\")\n",
        "\n",
        "spstandardized_df.show(5)"
      ],
      "metadata": {
        "colab": {
          "base_uri": "https://localhost:8080/"
        },
        "id": "3xT4RHe9T-Ge",
        "outputId": "e371c3f3-fbd4-4852-e968-ac15d8db25de"
      },
      "execution_count": 24,
      "outputs": [
        {
          "output_type": "stream",
          "name": "stdout",
          "text": [
            "+---+----------+-----------------+\n",
            "|_c0|      Date|            Close|\n",
            "+---+----------+-----------------+\n",
            "|565|1975-01-01|72.56409107555042|\n",
            "|566|1975-02-01|80.09684191252056|\n",
            "|567|1975-03-01|83.83199920654297|\n",
            "|568|1975-04-01|84.72318198464133|\n",
            "|569|1975-05-01|90.09619031633648|\n",
            "+---+----------+-----------------+\n",
            "only showing top 5 rows\n",
            "\n"
          ]
        }
      ]
    },
    {
      "cell_type": "code",
      "source": [
        "# Join the DataFrames on the 'date' column\n",
        "merged_df = standardized_market_data_df.join(spstandardized_df, on='Date', how='inner')\n",
        "\n",
        "merged_df.show(5)"
      ],
      "metadata": {
        "colab": {
          "base_uri": "https://localhost:8080/"
        },
        "id": "Vf5nnJh7UuDM",
        "outputId": "6e4ad917-d9af-406d-97fd-24dc9a20715f"
      },
      "execution_count": 70,
      "outputs": [
        {
          "output_type": "stream",
          "name": "stdout",
          "text": [
            "+----------+------------------+-----------------+--------+----------------+---+-----------------+\n",
            "|      Date|Federal Funds Rate|Unemployment Rate|     GDP|  Inflation Rate|_c0|            Close|\n",
            "+----------+------------------+-----------------+--------+----------------+---+-----------------+\n",
            "|1975-01-01|              3.87|              8.1|1616.116|9.14314686496535|565|72.56409107555042|\n",
            "|1975-02-01|              6.76|              8.1|1616.116|9.14314686496535|566|80.09684191252056|\n",
            "|1975-03-01|              6.07|              8.6|1616.116|9.14314686496535|567|83.83199920654297|\n",
            "|1975-04-01|              5.48|              8.8|1651.853|9.14314686496535|568|84.72318198464133|\n",
            "|1975-05-01|              5.55|              9.0|1651.853|9.14314686496535|569|90.09619031633648|\n",
            "+----------+------------------+-----------------+--------+----------------+---+-----------------+\n",
            "only showing top 5 rows\n",
            "\n"
          ]
        }
      ]
    },
    {
      "cell_type": "code",
      "source": [
        "# Drop the original 'Date' column if you don't need it\n",
        "merged_df = merged_df.drop(\"Date\")\n",
        "\n",
        "merged_df.show(5)"
      ],
      "metadata": {
        "colab": {
          "base_uri": "https://localhost:8080/"
        },
        "id": "Cf-GGd3qjC4B",
        "outputId": "a035121b-ec4a-4750-c7d0-d05c8c95d58d"
      },
      "execution_count": 80,
      "outputs": [
        {
          "output_type": "stream",
          "name": "stdout",
          "text": [
            "+------------------+-----------------+--------+----------------+---+-----------------+\n",
            "|Federal Funds Rate|Unemployment Rate|     GDP|  Inflation Rate|_c0|            Close|\n",
            "+------------------+-----------------+--------+----------------+---+-----------------+\n",
            "|              3.87|              8.1|1616.116|9.14314686496535|565|72.56409107555042|\n",
            "|              6.76|              8.1|1616.116|9.14314686496535|566|80.09684191252056|\n",
            "|              6.07|              8.6|1616.116|9.14314686496535|567|83.83199920654297|\n",
            "|              5.48|              8.8|1651.853|9.14314686496535|568|84.72318198464133|\n",
            "|              5.55|              9.0|1651.853|9.14314686496535|569|90.09619031633648|\n",
            "+------------------+-----------------+--------+----------------+---+-----------------+\n",
            "only showing top 5 rows\n",
            "\n"
          ]
        }
      ]
    },
    {
      "cell_type": "code",
      "source": [
        "# Separate features (X) and labels (y)\n",
        "y = merged_df.select('Close')\n",
        "X = merged_df.drop('Close')"
      ],
      "metadata": {
        "id": "ppHkrfjZkpqz"
      },
      "execution_count": 93,
      "outputs": []
    },
    {
      "cell_type": "code",
      "source": [
        "# Convert the label to a binary classification\n",
        "threshold = 100\n",
        "merged_df = merged_df.withColumn(\"label\", (merged_df[\"Close\"] > threshold).cast(\"integer\"))"
      ],
      "metadata": {
        "id": "Vta5iJPwkyi3"
      },
      "execution_count": 95,
      "outputs": []
    },
    {
      "cell_type": "code",
      "source": [
        "# Drop the 'Close' column after creating the label\n",
        "merged_df = merged_df.drop(\"Close\")"
      ],
      "metadata": {
        "id": "udprW5ZXlJbX"
      },
      "execution_count": 96,
      "outputs": []
    },
    {
      "cell_type": "code",
      "source": [
        "# Split the dataset into training and testing sets\n",
        "train_df, test_df = merged_df.randomSplit([0.8, 0.2], seed=78)"
      ],
      "metadata": {
        "id": "3mOY658KlLoB"
      },
      "execution_count": 97,
      "outputs": []
    },
    {
      "cell_type": "code",
      "source": [
        "# Use VectorAssembler to combine feature columns into a single feature vector for training data\n",
        "feature_columns = [col for col in merged_df.columns if col != 'label']  # Get the feature column names excluding label\n",
        "assembler = VectorAssembler(inputCols=feature_columns, outputCol=\"features\")"
      ],
      "metadata": {
        "id": "HKnUioeblOWA"
      },
      "execution_count": 98,
      "outputs": []
    },
    {
      "cell_type": "code",
      "source": [
        "# Transform the training data\n",
        "train_assembled = assembler.transform(train_df)"
      ],
      "metadata": {
        "id": "3X0CNbgmldS7"
      },
      "execution_count": 99,
      "outputs": []
    },
    {
      "cell_type": "code",
      "source": [
        "# Initialize RandomForestClassifier\n",
        "rf = RandomForestClassifier(featuresCol=\"features\", labelCol=\"label\")"
      ],
      "metadata": {
        "id": "YZ3R6OuTlhOy"
      },
      "execution_count": 100,
      "outputs": []
    },
    {
      "cell_type": "code",
      "source": [
        "# Fit the model on the training data\n",
        "rf_model = rf.fit(train_assembled)\n",
        "\n",
        "# Transform the test data\n",
        "test_assembled = assembler.transform(test_df)\n",
        "\n",
        "# Make predictions\n",
        "predictions = rf_model.transform(test_assembled)"
      ],
      "metadata": {
        "id": "P4cdf42VlkcW"
      },
      "execution_count": 101,
      "outputs": []
    },
    {
      "cell_type": "code",
      "source": [
        "# Evaluate Precision\n",
        "evaluator_precision = MulticlassClassificationEvaluator(labelCol=\"label\", predictionCol=\"prediction\", metricName=\"weightedPrecision\")\n",
        "precision = evaluator_precision.evaluate(predictions)\n",
        "print(f\"Weighted Precision: {precision}\")\n",
        "\n",
        "# Evaluate Recall\n",
        "evaluator_recall = MulticlassClassificationEvaluator(labelCol=\"label\", predictionCol=\"prediction\", metricName=\"weightedRecall\")\n",
        "recall = evaluator_recall.evaluate(predictions)\n",
        "print(f\"Weighted Recall: {recall}\")\n",
        "\n",
        "# Evaluate F1 Score\n",
        "evaluator_f1 = MulticlassClassificationEvaluator(labelCol=\"label\", predictionCol=\"prediction\", metricName=\"f1\")\n",
        "f1_score = evaluator_f1.evaluate(predictions)\n",
        "print(f\"F1 Score: {f1_score}\")"
      ],
      "metadata": {
        "colab": {
          "base_uri": "https://localhost:8080/"
        },
        "id": "YDgwu8drloUk",
        "outputId": "0b9cc3b3-9545-455a-9996-095ccce59314"
      },
      "execution_count": 102,
      "outputs": [
        {
          "output_type": "stream",
          "name": "stdout",
          "text": [
            "Weighted Precision: 0.985087091386304\n",
            "Weighted Recall: 0.9848484848484849\n",
            "F1 Score: 0.9836459836459837\n"
          ]
        }
      ]
    },
    {
      "cell_type": "code",
      "source": [
        "# Get feature importance\n",
        "feature_importances = rf_model.featureImportances\n",
        "print(\"Feature Importances:\")\n",
        "for feature, importance in zip(feature_columns, feature_importances):\n",
        "    print(f\"{feature}: {importance}\")"
      ],
      "metadata": {
        "colab": {
          "base_uri": "https://localhost:8080/"
        },
        "id": "GvdqlfRGls6W",
        "outputId": "63fa7753-24cd-4b82-896e-a2666e866ef8"
      },
      "execution_count": 103,
      "outputs": [
        {
          "output_type": "stream",
          "name": "stdout",
          "text": [
            "Feature Importances:\n",
            "Federal Funds Rate: 0.11981458781800594\n",
            "Unemployment Rate: 0.11671631106966729\n",
            "GDP: 0.16680021010199483\n",
            "Inflation Rate: 0.13659613300420792\n",
            "_c0: 0.4600727580061242\n"
          ]
        }
      ]
    },
    {
      "cell_type": "code",
      "source": [
        "# Stop the Spark session\n",
        "spark.stop()"
      ],
      "metadata": {
        "id": "Slv6JVrnmePO"
      },
      "execution_count": null,
      "outputs": []
    }
  ]
}